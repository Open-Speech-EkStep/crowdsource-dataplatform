{
 "cells": [
  {
   "cell_type": "markdown",
   "id": "59360615",
   "metadata": {},
   "source": [
    "# Generate Delta Excel Files using JSON as input."
   ]
  },
  {
   "cell_type": "code",
   "execution_count": 10,
   "id": "77d3114a",
   "metadata": {},
   "outputs": [],
   "source": [
    "import pandas as pd\n",
    "import openpyxl\n",
    "import json\n",
    "import re\n",
    "import os"
   ]
  },
  {
   "cell_type": "code",
   "execution_count": 2,
   "id": "4ea91fe2",
   "metadata": {},
   "outputs": [],
   "source": [
    "def read_json(json_file_path):\n",
    "    with open(json_file_path) as f:\n",
    "        data = json.load(f)\n",
    "    return data"
   ]
  },
  {
   "cell_type": "code",
   "execution_count": 3,
   "id": "4286e483",
   "metadata": {},
   "outputs": [],
   "source": [
    "def find_keys_without_translation(json_data):\n",
    "    keys_without_translation = []\n",
    "    for key, value in json_data.items():\n",
    "        if key == value and value :\n",
    "            keys_without_translation.append(key)\n",
    "    return keys_without_translation"
   ]
  },
  {
   "cell_type": "code",
   "execution_count": 4,
   "id": "e6d0d74a",
   "metadata": {},
   "outputs": [],
   "source": [
    "def get_text_from_html_tag(tag):\n",
    "    text_extraction_regex = r\"<(\\S*?)[^>]*>(.*?)<\\/\\1>\"\n",
    "    out_tag = tag\n",
    "    matches = re.finditer(text_extraction_regex, out_tag, re.MULTILINE)\n",
    "    string_matches = set()\n",
    "    for match in matches:\n",
    "        match_group_length = len(match.groups())\n",
    "        if match_group_length>1 and len(match.group(2)) != 0:\n",
    "            string_matches.add(match.group(2).strip())\n",
    "    return string_matches"
   ]
  },
  {
   "cell_type": "code",
   "execution_count": 12,
   "id": "e3511f48",
   "metadata": {},
   "outputs": [],
   "source": [
    "def extract_and_replace_tags(text, allowed_replacements):\n",
    "    tag_identification_regex = r\"<(\\S*?)[^>]*>.*?<\\/\\1>|<.*?\\/>\"\n",
    "    out_txt = text\n",
    "    matched_tags = re.finditer(tag_identification_regex, out_txt, re.MULTILINE)\n",
    "    replacement_identifier_index = 0\n",
    "    replacement_mapping_dict = {}\n",
    "    for match in matched_tags:\n",
    "        matched_tag = match.group()\n",
    "        if \"<b>\" in matched_tag:\n",
    "            continue\n",
    "        elif \"<a\" in matched_tag:\n",
    "            attributes_part_string = matched_tag[matched_tag.find('<a')+2: matched_tag.find('>')]\n",
    "            replacement_mapping_dict['a-tag-replacement'] = attributes_part_string\n",
    "            matched_tag_replacement = matched_tag.replace(attributes_part_string,\"\")\n",
    "            out_txt = out_txt.replace(matched_tag, matched_tag_replacement)\n",
    "        else:\n",
    "            replacement = allowed_replacements[replacement_identifier_index]\n",
    "            replacement_mapping_dict[replacement] = matched_tag\n",
    "            replacement_identifier_index+=1\n",
    "            out_txt = out_txt.replace(matched_tag, '<{}>'.format(replacement))\n",
    "    return out_txt , replacement_mapping_dict"
   ]
  },
  {
   "cell_type": "code",
   "execution_count": 14,
   "id": "84504cba",
   "metadata": {},
   "outputs": [],
   "source": [
    "def get_dict_for_data(processed_text, replacement_mapping_dict):\n",
    "    out_dict = {}\n",
    "    out_dict[\"English copy\"] = [processed_text]\n",
    "    for replacement in sorted (replacement_mapping_dict.keys()):\n",
    "        out_dict[replacement] = [replacement_mapping_dict[replacement]]\n",
    "    return out_dict"
   ]
  },
  {
   "cell_type": "code",
   "execution_count": 20,
   "id": "c1abfd4b",
   "metadata": {},
   "outputs": [],
   "source": [
    "def move_column(dataframe, column_name, index):\n",
    "    popped_column = dataframe.pop(column_name)\n",
    "    dataframe.insert(index, column_name, popped_column)"
   ]
  },
  {
   "cell_type": "code",
   "execution_count": 19,
   "id": "1493607d",
   "metadata": {},
   "outputs": [],
   "source": [
    "def get_data_without_translation(language_name, json_data, allowed_replacements):\n",
    "    language_df = pd.DataFrame([], columns=[])\n",
    "    keys_without_translation = find_keys_without_translation(json_data)\n",
    "        \n",
    "    for key in keys_without_translation:\n",
    "        processed_text, replacement_mapping_dict = extract_and_replace_tags(key, allowed_replacements)\n",
    "        data_dict = get_dict_for_data(processed_text, replacement_mapping_dict)\n",
    "        try:\n",
    "            tmp_df = pd.DataFrame.from_dict(data_dict, orient='columns')\n",
    "            language_df = language_df.append(tmp_df, ignore_index=True)\n",
    "        except Exception as e:\n",
    "            print(e, \"\\n\", data_dict, \"\\n\\n\")\n",
    "                \n",
    "    language_df[language_name] = \"\"\n",
    "    move_column(language_df, language_name,1)        \n",
    "    return language_df"
   ]
  },
  {
   "cell_type": "code",
   "execution_count": 22,
   "id": "f81fd495",
   "metadata": {},
   "outputs": [],
   "source": [
    "languages = [('hi', \"Hindi\"),('gu', \"Gujarati\"),('as', \"Assamese\"),('bn','Bengali'),('ta',\"Tamil\"),\n",
    "                 ('te',\"Telugu\"),('mr',\"Marathi\"),('pa',\"Punjabi\"),('ml',\"Malayalam\"),('or',\"Odia\"),('kn',\"Kannada\")]\n",
    "input_base_path = './../../../crowdsource-ui/locales'\n",
    "\n",
    "out_base_path = './out/'\n",
    "os.makedirs(out_base_path, exist_ok=True)\n",
    "\n",
    "allowed_replacements = [\"u\",\"v\",\"w\",\"x\", \"y\", \"z\"]\n",
    "\n",
    "for language_code, language_name in languages:\n",
    "    input_json_path = '{base_path}/{language}.json'.format(base_path=input_base_path, language=language_code)\n",
    "    json_data = read_json(input_json_path)\n",
    "    \n",
    "    language_df = get_data_without_translation(language_name, json_data, allowed_replacements)\n",
    "    \n",
    "    output_excel_path = '{base_path}/{language}.xlsx'.format(base_path=out_base_path, language=language_code)\n",
    "    language_df.to_excel(output_excel_path, index = False)"
   ]
  }
 ],
 "metadata": {
  "kernelspec": {
   "display_name": "Python 3",
   "language": "python",
   "name": "python3"
  },
  "language_info": {
   "codemirror_mode": {
    "name": "ipython",
    "version": 3
   },
   "file_extension": ".py",
   "mimetype": "text/x-python",
   "name": "python",
   "nbconvert_exporter": "python",
   "pygments_lexer": "ipython3",
   "version": "3.7.10"
  }
 },
 "nbformat": 4,
 "nbformat_minor": 5
}
