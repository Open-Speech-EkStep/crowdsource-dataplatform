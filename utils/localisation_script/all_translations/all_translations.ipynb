{
 "cells": [
  {
   "cell_type": "code",
   "execution_count": 28,
   "metadata": {},
   "outputs": [],
   "source": [
    "import pandas as pd\n",
    "import openpyxl\n",
    "import json\n",
    "import os\n",
    "import re\n",
    "from pandas import ExcelWriter\n",
    "import xlwt\n"
   ]
  },
  {
   "cell_type": "code",
   "execution_count": 29,
   "metadata": {},
   "outputs": [],
   "source": [
    "def findKeys(lang):\n",
    "    with open('./../../../crowdsource-ui/locales/{lang}.json'.format(lang=lang)) as f:\n",
    "        js = json.load(f)\n",
    "    \n",
    "    values = []\n",
    "    for key, value in js.items():\n",
    "        values.append(value)\n",
    "    return values"
   ]
  },
  {
   "cell_type": "code",
   "execution_count": 30,
   "metadata": {},
   "outputs": [],
   "source": [
    "def extract_tags(text):\n",
    "    allowed_replacements = [\"x\", \"y\", \"z\", \"u\",\"v\",\"w\", \"a-tag-replacement\"]\n",
    "    regex = r\"<(\\S*?)[^>]*>.*?<\\/\\1>|<.*?\\/>\"\n",
    "    out_txt = text\n",
    "    matches = re.finditer(regex, out_txt, re.MULTILINE)\n",
    "    index = 0\n",
    "    matched_tags_dict = {}\n",
    "    for match in matches:\n",
    "        matched_tag = match.group()\n",
    "        if \"<b>\" in matched_tag:\n",
    "            continue\n",
    "        if \"<a\" in matched_tag:\n",
    "            attrs = matched_tag[matched_tag.find('<a')+2: matched_tag.find('>')]\n",
    "            matched_tag_replacement = matched_tag.replace(attrs,\"\")\n",
    "            out_txt = out_txt.replace(matched_tag, matched_tag_replacement)\n",
    "            matched_tags_dict['a-tag-replacement'] = attrs\n",
    "        else:\n",
    "            replacement = allowed_replacements[index]\n",
    "            out_txt = out_txt.replace(matched_tag, '<{}>'.format(replacement))\n",
    "            index+=1\n",
    "            matched_tags_dict[replacement] = matched_tag\n",
    "    return out_txt , matched_tags_dict"
   ]
  },
  {
   "cell_type": "code",
   "execution_count": 31,
   "metadata": {},
   "outputs": [],
   "source": [
    "def save_xls(list_dfs, xls_path):\n",
    "    with ExcelWriter(xls_path) as writer:\n",
    "        for lang_code, lang_df in list_dfs.items():\n",
    "            lang_df.to_excel(writer,lang_code)\n",
    "        writer.save()\n",
    "    print('done')"
   ]
  },
  {
   "cell_type": "code",
   "execution_count": 33,
   "metadata": {},
   "outputs": [],
   "source": [
    "def get_dict_for_data(key, text, language, translation, extracted_tags):\n",
    "    out_dict = {}\n",
    "    out_dict[\"Actual key\"] = [key]\n",
    "    out_dict[\"English copy\"] = [text]\n",
    "    out_dict[language] = [translation]\n",
    "    \n",
    "    return out_dict"
   ]
  },
  {
   "cell_type": "code",
   "execution_count": 36,
   "metadata": {},
   "outputs": [],
   "source": [
    "def create_all_trans():\n",
    "    languages = [('hi', \"Hindi\"),('gu', \"Gujarati\"),('as', \"Assamese\"),('bn','Bengali'),('ta',\"Tamil\"),\n",
    "                 ('te',\"Telugu\"),('mr',\"Marathi\"),('pa',\"Punjabi\"),('ml',\"Malayalam\"),('or',\"Odia\"),('kn',\"Kannada\")]\n",
    "    eng_locale = 'en'\n",
    "    english = 'English'\n",
    "    all_dfs = {}\n",
    "    for lang_code, lang_name in languages:\n",
    "        lang_df = pd.DataFrame([], columns=[])\n",
    "        with open('./../../../crowdsource-ui/locales/en.json') as f:\n",
    "            eng_data = json.load(f)\n",
    "\n",
    "        with open('./../../../crowdsource-ui/locales/{lang}.json'.format(lang=lang_code)) as f:\n",
    "            lang_data = json.load(f)\n",
    "\n",
    "        for key in eng_data.keys():\n",
    "            processed_eng_text, extracted_tags = extract_tags(eng_data[key])\n",
    "\n",
    "            processed_lang_text, tags = extract_tags(lang_data[key])\n",
    "\n",
    "            data_dict = get_dict_for_data(key, processed_eng_text,lang_name, processed_lang_text, extracted_tags)\n",
    "\n",
    "            try:\n",
    "                tmp_df = pd.DataFrame.from_dict(data_dict, orient='columns')\n",
    "                lang_df = lang_df.append(tmp_df, ignore_index=True)\n",
    "            except Exception as e:\n",
    "                print(e, \"\\n\", data_dict, \"\\n\\n\")\n",
    "    #     lang_df[lang_name] = \"\"\n",
    "        all_dfs[lang_code] = lang_df\n",
    "    return all_dfs"
   ]
  },
  {
   "cell_type": "code",
   "execution_count": 37,
   "metadata": {},
   "outputs": [
    {
     "name": "stdout",
     "output_type": "stream",
     "text": [
      "done\n"
     ]
    },
    {
     "name": "stderr",
     "output_type": "stream",
     "text": [
      "/Users/sreejithv/miniconda3/envs/jupyter/lib/python3.8/site-packages/IPython/core/interactiveshell.py:3418: FutureWarning: As the xlwt package is no longer maintained, the xlwt engine will be removed in a future version of pandas. This is the only engine in pandas that supports writing in the xls format. Install openpyxl and write to an xlsx file instead. You can set the option io.excel.xls.writer to 'xlwt' to silence this warning. While this option is deprecated and will also raise a warning, it can be globally set and the warning suppressed.\n",
      "  exec(code_obj, self.user_global_ns, self.user_ns)\n"
     ]
    }
   ],
   "source": [
    "create_all_trans()\n",
    "save_xls(all_dfs, 'all-trans.xls')"
   ]
  }
 ],
 "metadata": {
  "kernelspec": {
   "display_name": "Python 3",
   "language": "python",
   "name": "python3"
  },
  "language_info": {
   "codemirror_mode": {
    "name": "ipython",
    "version": 3
   },
   "file_extension": ".py",
   "mimetype": "text/x-python",
   "name": "python",
   "nbconvert_exporter": "python",
   "pygments_lexer": "ipython3",
   "version": "3.8.5"
  }
 },
 "nbformat": 4,
 "nbformat_minor": 4
}
