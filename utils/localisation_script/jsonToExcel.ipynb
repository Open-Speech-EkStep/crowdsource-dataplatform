{
 "cells": [
  {
   "cell_type": "code",
   "execution_count": 1,
   "id": "c53fba82",
   "metadata": {},
   "outputs": [],
   "source": [
    "import pandas as pd\n",
    "import openpyxl\n",
    "import json\n",
    "\n",
    "input_json_file = 'sample/en.json'\n",
    "out_excel_file = 'sample/en_edited.xlsx'\n",
    "translation_excel_file = 'sample/sample.xlsx'"
   ]
  },
  {
   "cell_type": "code",
   "execution_count": 2,
   "id": "20ad3a31",
   "metadata": {},
   "outputs": [],
   "source": [
    "with open(input_json_file) as f:\n",
    "    js = json.load(f)"
   ]
  },
  {
   "cell_type": "code",
   "execution_count": 3,
   "id": "a597fd72",
   "metadata": {},
   "outputs": [],
   "source": [
    "out_df = pd.DataFrame(list(js.items()),\n",
    "                   columns=['Key', 'To be Translated'])"
   ]
  },
  {
   "cell_type": "code",
   "execution_count": 4,
   "id": "694b8d9b",
   "metadata": {},
   "outputs": [],
   "source": [
    "lang = 'Hindi'\n",
    "english_col = 'English copy'"
   ]
  },
  {
   "cell_type": "code",
   "execution_count": 5,
   "id": "cfd567ce",
   "metadata": {
    "scrolled": true
   },
   "outputs": [],
   "source": [
    "excel = pd.ExcelFile(translation_excel_file)\n",
    "excelDf = pd.DataFrame([],\n",
    "                   columns=['Key', lang])\n",
    "allowed_values = ['x','y','z']"
   ]
  },
  {
   "cell_type": "code",
   "execution_count": 6,
   "id": "29c6341c",
   "metadata": {},
   "outputs": [],
   "source": [
    "count = 0\n",
    "for sheetName in excel.sheet_names:\n",
    "    sheet = excel.parse(sheet_name = sheetName, header=1)\n",
    "    FORMAT = [english_col,lang]\n",
    "    for value in allowed_values:\n",
    "        if value in sheet.columns:\n",
    "            FORMAT.append(value)\n",
    "    filteredSheet = sheet[FORMAT]\n",
    "    sheet_no_na = filteredSheet.dropna(subset = [english_col, lang], inplace=False)\n",
    "    sheet_new = sheet_no_na.rename(columns = {english_col: 'Key'}, inplace=False)\n",
    "    count += sheet_new.count()\n",
    "    excelDf = pd.concat([excelDf, sheet_new], axis=0)"
   ]
  },
  {
   "cell_type": "code",
   "execution_count": 7,
   "id": "2beaaa90",
   "metadata": {},
   "outputs": [],
   "source": [
    "excelDf['Key_lower'] = excelDf['Key'].str.lower()\n",
    "out_df['Key_lower'] = out_df['Key'].str.lower()"
   ]
  },
  {
   "cell_type": "code",
   "execution_count": 8,
   "id": "7d0ce81b",
   "metadata": {},
   "outputs": [],
   "source": [
    "excelDf_dropped = excelDf.drop_duplicates(subset=['Key'], keep='first')\n",
    "out_df_dropped = out_df.drop_duplicates(subset=['Key'], keep='first')"
   ]
  },
  {
   "cell_type": "code",
   "execution_count": 9,
   "id": "cf19411b",
   "metadata": {},
   "outputs": [
    {
     "name": "stdout",
     "output_type": "stream",
     "text": [
      "Key                 562\n",
      "To be Translated    562\n",
      "Key_lower           562\n",
      "dtype: int64 Key                 562\n",
      "To be Translated    562\n",
      "Key_lower           562\n",
      "dtype: int64\n",
      "Key          190\n",
      "Hindi        190\n",
      "x              1\n",
      "Key_lower    190\n",
      "dtype: int64 Key          173\n",
      "Hindi        173\n",
      "x              1\n",
      "Key_lower    173\n",
      "dtype: int64\n"
     ]
    }
   ],
   "source": [
    "print(out_df.count(), out_df_dropped.count())\n",
    "print(excelDf.count(), excelDf_dropped.count())"
   ]
  },
  {
   "cell_type": "code",
   "execution_count": 27,
   "id": "e24fb1e6",
   "metadata": {},
   "outputs": [
    {
     "data": {
      "text/plain": [
       "Key                 562\n",
       "To be Translated    562\n",
       "Key_lower           562\n",
       "dtype: int64"
      ]
     },
     "execution_count": 27,
     "metadata": {},
     "output_type": "execute_result"
    }
   ],
   "source": [
    "out_df_dropped.count()"
   ]
  },
  {
   "cell_type": "code",
   "execution_count": 25,
   "id": "60e049e1",
   "metadata": {},
   "outputs": [],
   "source": [
    "df_diff = pd.merge(out_df_dropped, excelDf_dropped, on=\"Key_lower\",how='left')"
   ]
  },
  {
   "cell_type": "code",
   "execution_count": 26,
   "id": "8698bc14",
   "metadata": {},
   "outputs": [
    {
     "data": {
      "text/plain": [
       "Key_x               564\n",
       "To be Translated    564\n",
       "Key_lower           564\n",
       "Key_y                67\n",
       "Hindi                67\n",
       "x                     0\n",
       "dtype: int64"
      ]
     },
     "execution_count": 26,
     "metadata": {},
     "output_type": "execute_result"
    }
   ],
   "source": [
    "df_diff.count()"
   ]
  },
  {
   "cell_type": "code",
   "execution_count": 23,
   "id": "1fb73258",
   "metadata": {},
   "outputs": [],
   "source": [
    "df_diff = df_diff.drop_duplicates(subset=['Key_y'], keep='first')"
   ]
  },
  {
   "cell_type": "code",
   "execution_count": 24,
   "id": "523c5cb6",
   "metadata": {},
   "outputs": [
    {
     "data": {
      "text/plain": [
       "Key_x               53\n",
       "To be Translated    53\n",
       "Key_lower           53\n",
       "Key_y               52\n",
       "Hindi               52\n",
       "x                    0\n",
       "dtype: int64"
      ]
     },
     "execution_count": 24,
     "metadata": {},
     "output_type": "execute_result"
    }
   ],
   "source": [
    "df_diff.count()"
   ]
  },
  {
   "cell_type": "code",
   "execution_count": 13,
   "id": "c546a3e8",
   "metadata": {},
   "outputs": [],
   "source": [
    "df_diff = df_diff[['Key_x', 'To be Translated', lang]]"
   ]
  },
  {
   "cell_type": "code",
   "execution_count": 14,
   "id": "8b50c744",
   "metadata": {},
   "outputs": [],
   "source": [
    "df_diff_a = df_diff[df_diff[lang].isna()]"
   ]
  },
  {
   "cell_type": "code",
   "execution_count": 20,
   "id": "a6d66d89",
   "metadata": {},
   "outputs": [
    {
     "data": {
      "text/plain": [
       "Key_x               468\n",
       "To be Translated    468\n",
       "Hindi                 0\n",
       "dtype: int64"
      ]
     },
     "execution_count": 20,
     "metadata": {},
     "output_type": "execute_result"
    }
   ],
   "source": [
    "df_diff[df_diff[lang].isna()].count()"
   ]
  },
  {
   "cell_type": "code",
   "execution_count": 18,
   "id": "e80da5e5",
   "metadata": {},
   "outputs": [
    {
     "data": {
      "text/plain": [
       "Key                 468\n",
       "To be Translated    468\n",
       "Hindi                 0\n",
       "dtype: int64"
      ]
     },
     "execution_count": 18,
     "metadata": {},
     "output_type": "execute_result"
    }
   ],
   "source": [
    "df_diff_a.count()"
   ]
  },
  {
   "cell_type": "code",
   "execution_count": 16,
   "id": "8918a9c9",
   "metadata": {},
   "outputs": [],
   "source": [
    "df_diff_a = df_diff_a.rename(columns = {'Key_x': 'Key'}, inplace=False)"
   ]
  },
  {
   "cell_type": "code",
   "execution_count": 17,
   "id": "b0a74260",
   "metadata": {},
   "outputs": [],
   "source": [
    "df_diff_a.to_excel(out_excel_file)"
   ]
  }
 ],
 "metadata": {
  "kernelspec": {
   "display_name": "Python 3",
   "language": "python",
   "name": "python3"
  },
  "language_info": {
   "codemirror_mode": {
    "name": "ipython",
    "version": 3
   },
   "file_extension": ".py",
   "mimetype": "text/x-python",
   "name": "python",
   "nbconvert_exporter": "python",
   "pygments_lexer": "ipython3",
   "version": "3.7.10"
  }
 },
 "nbformat": 4,
 "nbformat_minor": 5
}
