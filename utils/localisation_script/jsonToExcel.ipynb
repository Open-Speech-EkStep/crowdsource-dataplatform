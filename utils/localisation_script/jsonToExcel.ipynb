{
 "cells": [
  {
   "cell_type": "code",
   "execution_count": 1,
   "metadata": {},
   "outputs": [],
   "source": [
    "import pandas as pd\n",
    "import openpyxl\n",
    "import json\n",
    "\n",
    "input_json_file = 'sample/en.json'\n",
    "out_excel_file = 'sample/en_edited.xlsx'\n",
    "translation_excel_file = ['sample/sample.xlsx']"
   ]
  },
  {
   "cell_type": "code",
   "execution_count": 2,
   "metadata": {},
   "outputs": [],
   "source": [
    "with open(input_json_file) as f:\n",
    "    js = json.load(f)"
   ]
  },
  {
   "cell_type": "code",
   "execution_count": 3,
   "metadata": {},
   "outputs": [],
   "source": [
    "out_df = pd.DataFrame(list(js.items()),\n",
    "                   columns=['Key', 'To be Translated'])"
   ]
  },
  {
   "cell_type": "code",
   "execution_count": 4,
   "metadata": {},
   "outputs": [],
   "source": [
    "lang = 'Hindi'\n",
    "english_col = 'English copy'\n",
    "allowed_values = ['x','y','z']"
   ]
  },
  {
   "cell_type": "code",
   "execution_count": 5,
   "metadata": {},
   "outputs": [],
   "source": [
    "excelDf = pd.DataFrame([], columns=['Key', lang])\n",
    "for excel_file_name in translation_excel_file:\n",
    "    excel = pd.ExcelFile(excel_file_name)\n",
    "    count = 0\n",
    "    for sheetName in excel.sheet_names:\n",
    "        sheet = excel.parse(sheet_name = sheetName, header=1)\n",
    "        FORMAT = [english_col,lang]\n",
    "        for value in allowed_values:\n",
    "            if value in sheet.columns:\n",
    "                FORMAT.append(value)\n",
    "        filteredSheet = sheet[FORMAT]\n",
    "        sheet_no_na = filteredSheet.dropna(subset = [english_col, lang], inplace=False)\n",
    "        sheet_new = sheet_no_na.rename(columns = {english_col: 'Key'}, inplace=False)\n",
    "        count += sheet_new.count()\n",
    "        excelDf = pd.concat([excelDf, sheet_new], axis=0)"
   ]
  },
  {
   "cell_type": "code",
   "execution_count": 6,
   "metadata": {},
   "outputs": [],
   "source": [
    "excelDf['Key_lower'] = excelDf['Key'].str.lower()\n",
    "out_df['Key_lower'] = out_df['Key'].str.lower()"
   ]
  },
  {
   "cell_type": "code",
   "execution_count": 7,
   "metadata": {},
   "outputs": [],
   "source": [
    "excelDf_dropped = excelDf.drop_duplicates(subset=['Key_lower'], keep='first')\n",
    "out_df_dropped = out_df.drop_duplicates(subset=['Key'], keep='first')"
   ]
  },
  {
   "cell_type": "code",
   "execution_count": 8,
   "metadata": {},
   "outputs": [],
   "source": [
    "df_diff = pd.merge(out_df_dropped, excelDf_dropped, on=\"Key_lower\",how='left')"
   ]
  },
  {
   "cell_type": "code",
   "execution_count": 9,
   "metadata": {},
   "outputs": [],
   "source": [
    "df_diff = df_diff.drop_duplicates(subset=['Key_x'], keep='first')"
   ]
  },
  {
   "cell_type": "code",
   "execution_count": 10,
   "metadata": {},
   "outputs": [],
   "source": [
    "df_diff = df_diff[['Key_x', 'To be Translated', lang]]"
   ]
  },
  {
   "cell_type": "code",
   "execution_count": 11,
   "metadata": {},
   "outputs": [],
   "source": [
    "df_diff_a = df_diff[df_diff[lang].isna()]"
   ]
  },
  {
   "cell_type": "code",
   "execution_count": 12,
   "metadata": {},
   "outputs": [
    {
     "data": {
      "text/plain": [
       "Key_x               497\n",
       "To be Translated    497\n",
       "Hindi                 0\n",
       "dtype: int64"
      ]
     },
     "execution_count": 12,
     "metadata": {},
     "output_type": "execute_result"
    }
   ],
   "source": [
    "df_diff[df_diff[lang].isna()].count()"
   ]
  },
  {
   "cell_type": "code",
   "execution_count": 13,
   "metadata": {},
   "outputs": [],
   "source": [
    "df_diff_a = df_diff_a.rename(columns = {'Key_x': 'Key'}, inplace=False)"
   ]
  },
  {
   "cell_type": "code",
   "execution_count": 14,
   "metadata": {},
   "outputs": [],
   "source": [
    "df_diff_a.to_excel(out_excel_file)"
   ]
  },
  {
   "cell_type": "code",
   "execution_count": 15,
   "metadata": {},
   "outputs": [
    {
     "data": {
      "text/plain": [
       "Key                 497\n",
       "To be Translated    497\n",
       "Hindi                 0\n",
       "dtype: int64"
      ]
     },
     "execution_count": 15,
     "metadata": {},
     "output_type": "execute_result"
    }
   ],
   "source": [
    "df_diff_a.count()"
   ]
  },
  {
   "cell_type": "code",
   "execution_count": null,
   "metadata": {},
   "outputs": [],
   "source": []
  },
  {
   "cell_type": "raw",
   "metadata": {},
   "source": []
  }
 ],
 "metadata": {
  "kernelspec": {
   "display_name": "Python 3",
   "language": "python",
   "name": "python3"
  },
  "language_info": {
   "codemirror_mode": {
    "name": "ipython",
    "version": 3
   },
   "file_extension": ".py",
   "mimetype": "text/x-python",
   "name": "python",
   "nbconvert_exporter": "python",
   "pygments_lexer": "ipython3",
   "version": "3.8.5"
  }
 },
 "nbformat": 4,
 "nbformat_minor": 5
}
