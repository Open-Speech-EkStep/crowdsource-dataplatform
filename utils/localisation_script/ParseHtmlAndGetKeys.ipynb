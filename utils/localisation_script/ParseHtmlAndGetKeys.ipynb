{
 "cells": [
  {
   "cell_type": "markdown",
   "id": "930d1865",
   "metadata": {},
   "source": [
    "### Steps:\n",
    "1. Collect keys for all ejs files.\n",
    "2. Keep Main files(html files) and combine the keys of components included with the main keys.\n",
    "3. Give the keys and path of the respective main files.\n",
    "4. Parse js files and find the rest of the keys.\n",
    "5. Map the respective js files with ejs files.\n",
    "\n",
    "\n",
    "\n",
    "1. Read all ejs files and get the keys in them.\n",
    "2. Recursively iterate through the includes of main files only and append the keys.\n",
    "3. Create a dict/df with path as a column.\n",
    "4. Read all js files for the keys.\n",
    "5. Map js files with respective html/ejs files.\n",
    "6. Add their path in the df."
   ]
  },
  {
   "cell_type": "markdown",
   "id": "b65d407b",
   "metadata": {},
   "source": [
    "##### ISSUES\n",
    "\n",
    "1. Passed as parameters to components and used as keys:\n",
    "    - contributionStats.ejs\n",
    "        * Language pairs\n",
    "        * People participated\n",
    "        * Translations validated\n",
    "        * Translations done\n",
    "        * Duration validated\n",
    "        * Languages\n",
    "        * Duration transcribed\n",
    "        * Speakers contributed\n",
    "        * Duration recorded\n",
    "        * Images validated\n",
    "        * Images labelled\n",
    "    - assistiveText.ejs\n",
    "        * Type the text from the image\n",
    "        * Is the text from the image captured correctly?\n",
    "        * Type the translation of the given text\n",
    "        * Is the translation correct?\n",
    "        * Type the text as you hear the audio\n",
    "        * Does the audio match the text?\n",
    "    - cards.ejs\n",
    "        * Validate the text, labelled by others, as per the image\n",
    "        * Type the text as per the image\n",
    "        * Type what you hear\n",
    "        * Transcribe\n",
    "        * Validate the translation contributed by others\n",
    "        * Validate text as per the audio\n",
    "        * Label\n",
    "        * Translate\n",
    "        * Translate and type the text\n",
    "    - report.ejs\n",
    "        * Help us understand what’s wrong with the image labelled\n",
    "        * Your feedback helps us keep Suno India relevant, we appreciate you taking time to leave the feedback.\n",
    "        * Your feedback helps us keep Likho India relevant, we appreciate you taking time to leave the feedback.\n",
    "        * Your feedback helps us keep Dekho India relevant, we appreciate you taking time to leave the feedback.\n",
    "    - headerWithoutNavBar.ejs\n",
    "        * Dashboard\n",
    "        * Transcribe\n",
    "        * Label\n",
    "        * Translate\n",
    "    - breadcrumbs.ejs\n",
    "        * Label\n",
    "2. Unused keys (Done):\n",
    "    - Remove language barriers with BhashaDaan\n",
    "    - Your contribution can empower Bhashini to make many such stories happen.\n",
    "    - Towards digital empowerment for all...\n",
    "    - Beta\n",
    "    - Back to Home\n",
    "    \n",
    "3. special characters in key (DONE):\n",
    "    - Let\\'s Go\n",
    "    - I've contributed towards building open language repository for India on https://bhashini.gov.in/bhashadaan You and I can make a difference by donating our voices that can help machines learn our language and interact with us through great linguistic applications. Do your bit and empower the language?\n",
    "    - Please don't use email or mobile number as user name\n",
    "\n",
    "4. Recursive includes (DONE):\n",
    "    - bhasadaanLogoText.ejs\n",
    "        * Bhasha\n",
    "        * Daan\n",
    "5. \\$ variables (DONE):\n",
    "    - speakerDetails.ejs\n",
    "        * By proceeding ahead you agree to the \\<a href=\"../terms-and-conditions.html\" target=\"_blank\"> Terms and Conditions \\</a>   - \\${path}\n",
    "        * By proceeding ahead you agree to the \\<a href=\"./terms-and-conditions.html\" target=\"_blank\"> Terms and Conditions\\</a> \n",
    "    - badge_milestone.ejs\n",
    "        * You've earned a \\<span id=\"current_badge_name_1\">\\</span> Bhasha Samarthak Badge by contributing \\<span id=\"current_badge_count\">\\</span> recordings  - \\${text}\n",
    "        * You've earned a <span id=\"current_badge_name_1\"></span> Bhasha Samarthak Badge by contributing <span id=\"current_badge_count\"></span> sentences. - \\${text}\n",
    "        * Your next goal is to reach \\<span id=\"next_badge_count\">\\</span> images to earn your \\<span id=\"next_badge_name_1\">\\</span> Bhasha Samarthak Badge. - \\${text}\n",
    "    - languageGoal.ejs\n",
    "        * Help your language achieve it’s goal of \\<span id=\"language-hour-goal\">\\</span> images. We know you can do more! - \\${text}\n",
    "        * Help your language pair achieve it’s goal of <span id=\"language-hour-goal\"></span> translations. We know you can do more! - \\${text}\n",
    "    - badgeMilestone.ejs\n",
    "        * You've earned a \\<span id=\"current_badge_name_1\">\\</span> Bhasha Samarthak Badge by labelling \\<span id=\"current_badge_count\">\\</span> images. - \\\\${text}, \\${text}\n"
   ]
  },
  {
   "cell_type": "markdown",
   "id": "8dfa101b",
   "metadata": {},
   "source": [
    "### Issues\n",
    "\n",
    "1. In assistiveText.ejs , there is a dynamic template, <%= __(msg) %>, contributionStats.ejs - <%= __(labels[0]) %>\n",
    "2. In few templates, there is {text} , {path}\n",
    "3. common folder accessed in ejs is not proper.eg()\n",
    "4. verticalGraph.ejs is duplicate in common folder."
   ]
  },
  {
   "cell_type": "code",
   "execution_count": null,
   "id": "db748ef4",
   "metadata": {},
   "outputs": [],
   "source": [
    "import json\n",
    "import re\n",
    "import os\n",
    "import pathlib"
   ]
  },
  {
   "cell_type": "code",
   "execution_count": null,
   "id": "1f6ec352",
   "metadata": {},
   "outputs": [],
   "source": [
    "def get_keys_from_ejs(filelist):\n",
    "    ejs_keys_map = {}\n",
    "    for path in filelist:\n",
    "        path = str(path)\n",
    "        keys_list = []\n",
    "        includes_list = []\n",
    "        with open(path, \"r\") as f:\n",
    "            base_path = '/'.join(path.split('/')[:-1])\n",
    "            readfile = f.read()\n",
    "            \n",
    "            \n",
    "            regex = r\"<%(-|=) __(.*?)\\s*%>\"\n",
    "            matches = re.finditer(regex, readfile, re.MULTILINE)\n",
    "            for match in matches:\n",
    "                k = match.group()\n",
    "                k = re.sub(r\"<%(=|-) __\\(('|`)\",\"\",k)\n",
    "                k = re.sub(r\"('|`)\\)\\s*%>\",\"\",k)\n",
    "                k = k.replace(\"\\\\\",\"\")\n",
    "                keys_list.append(k)\n",
    "                \n",
    "                \n",
    "            includes_regex = r\"<%- include(.*?)\\s*%>\"\n",
    "            includes_matches = re.finditer(includes_regex, readfile, re.MULTILINE)\n",
    "            for match in includes_matches:\n",
    "                k = match.group()\n",
    "                try:\n",
    "                    start_index = k.index(\"<%- include\") + 12 \n",
    "                    end_index = k.index(\"ejs\") + 4\n",
    "                    k = k[start_index:end_index].strip()\n",
    "                    k = k[:-1] if k.endswith('%') else k\n",
    "                    k = base_path +\"/\"+ k.replace(\"'\",\"\").replace(\"'\",\"\")\n",
    "                except Exception as e:\n",
    "                    print(e)\n",
    "                includes_list.append(k)\n",
    "        ejs_keys_map[path] = { 'keys' : keys_list, 'includes': includes_list }\n",
    "    return ejs_keys_map"
   ]
  },
  {
   "cell_type": "code",
   "execution_count": null,
   "id": "7a84c8c1",
   "metadata": {},
   "outputs": [],
   "source": [
    "def fetch_keys_in_includes(includes_file_name):\n",
    "    keys = []\n",
    "    k_map = get_keys_from_ejs([includes_file_name])\n",
    "    \n",
    "    for path, keys_and_includes_list in k_map.items():\n",
    "        keys = keys + keys_and_includes_list[\"keys\"]\n",
    "        if len(keys_and_includes_list[\"includes\"]) == 0:\n",
    "            continue\n",
    "        for includes_path in keys_and_includes_list[\"includes\"]:\n",
    "            kys = []\n",
    "            if \"common\" in includes_path:\n",
    "                in_file_name = includes_path.split('/')[-1]\n",
    "                for common_file in common_folder_ejs_files:\n",
    "                    if in_file_name == str(common_file).split('/')[-1]:\n",
    "                        kys = fetch_keys_in_includes(common_file)\n",
    "                        break\n",
    "            else:\n",
    "                kys = fetch_keys_in_includes(includes_path)\n",
    "            keys = keys + kys\n",
    "    return keys\n",
    "        "
   ]
  },
  {
   "cell_type": "code",
   "execution_count": 44,
   "id": "f977710c",
   "metadata": {},
   "outputs": [],
   "source": [
    "def get_templated_key(templated_key, all_keys):\n",
    "    regex = re.sub('\\${.*}','(.*)', templated_key)\n",
    "    if \"(.*)\" not in regex:\n",
    "        return None\n",
    "    for key in all_keys:\n",
    "        temp_key = key.replace(\"\\\\\",\"\")\n",
    "        print(key, temp_key, \"\\n\")\n",
    "        matches = re.finditer(r\"\"+regex, temp_key, re.MULTILINE)\n",
    "        match = next(matches, None)\n",
    "        if match is not None:\n",
    "            return key\n",
    "            \n",
    "    return None"
   ]
  },
  {
   "cell_type": "code",
   "execution_count": 55,
   "id": "1d8324c4",
   "metadata": {},
   "outputs": [],
   "source": [
    "def is_templated_key_present(templated_key, actual_key):\n",
    "    regex = re.sub('\\${.*}','(.*)', templated_key)\n",
    "    if \"(.*)\" not in regex or len(regex.replace('(.*)','').strip()) == 0:\n",
    "        return False\n",
    "    actual_key = actual_key.replace(\"\\\\\",\"\")\n",
    "    matches = re.finditer(r\"\"+regex, actual_key, re.MULTILINE)\n",
    "    match = next(matches, None)\n",
    "    if match is not None:\n",
    "        return True\n",
    "            \n",
    "    return False"
   ]
  },
  {
   "cell_type": "code",
   "execution_count": null,
   "id": "50652828",
   "metadata": {
    "scrolled": true
   },
   "outputs": [],
   "source": [
    "main_ejs_files = ['modules/likhoIndia/dashboard/dashboard.ejs',\n",
    " 'modules/boloIndia/home/home.ejs',\n",
    " 'modules/sunoIndia/record/record.ejs',\n",
    " 'terms-and-conditions.ejs',\n",
    " 'record.ejs',\n",
    " 'modules/dekhoIndia/thankyou/contribution/thank-you.ejs',\n",
    " 'modules/dekhoIndia/validation/validator-prompt-page.ejs',\n",
    " 'modules/likhoIndia/thankyou/validation/validator-thank-you.ejs',\n",
    " 'modules/likhoIndia/thankyou/contribution/thank-you.ejs',\n",
    " 'key_gen.ejs',\n",
    " 'home.ejs',\n",
    " 'validator-prompt-page.ejs',\n",
    " 'modules/sunoIndia/home/home.ejs',\n",
    " 'modules/sunoIndia/thankyou/contribution/thank-you.ejs',\n",
    " 'modules/dekhoIndia/dashboard/dashboard.ejs',\n",
    " 'validator-thank-you.ejs',\n",
    " 'not-found.ejs',\n",
    " 'thank-you.ejs',\n",
    " 'modules/sunoIndia/validation/validator-prompt-page.ejs',\n",
    " 'modules/sunoIndia/thankyou/validation/validator-thank-you.ejs',\n",
    " 'modules/sunoIndia/dashboard/dashboard.ejs',\n",
    " 'modules/dekhoIndia/home/home.ejs',\n",
    " 'badges.ejs',\n",
    " 'modules/likhoIndia/validation/validator-prompt-page.ejs',\n",
    " 'modules/dekhoIndia/record/record.ejs',\n",
    " 'dashboard.ejs',\n",
    " 'modules/likhoIndia/home/home.ejs',\n",
    " 'modules/dekhoIndia/thankyou/validation/validator-thank-you.ejs',\n",
    " 'modules/likhoIndia/record/record.ejs']"
   ]
  },
  {
   "cell_type": "code",
   "execution_count": null,
   "id": "11ac43ce",
   "metadata": {},
   "outputs": [],
   "source": [
    "base_path = os.getcwd().replace('utils/localisation_script', 'crowdsource-ui/src/views')\n",
    "\n",
    "key_map = get_keys_from_ejs([base_path+\"/\"+main_ejs_file for main_ejs_file in main_ejs_files])"
   ]
  },
  {
   "cell_type": "code",
   "execution_count": null,
   "id": "736e6f96",
   "metadata": {},
   "outputs": [],
   "source": [
    "fileExt = r\"**/*.ejs\"\n",
    "common_folder_ejs_files = list(pathlib.Path(base_path+'/common').glob(fileExt))"
   ]
  },
  {
   "cell_type": "code",
   "execution_count": null,
   "id": "74a545db",
   "metadata": {},
   "outputs": [],
   "source": [
    "in_files = set()\n",
    "all_keys = []\n",
    "for path, keys_and_includes_list in key_map.items():\n",
    "    main_ejs_keys = keys_and_includes_list['keys']\n",
    "    for includes_path in keys_and_includes_list['includes']:\n",
    "        if \"common\" in includes_path:\n",
    "                in_file_name = includes_path.split('/')[-1]\n",
    "                in_files.add(in_file_name)\n",
    "                for common_file in common_folder_ejs_files:\n",
    "                    if in_file_name == str(common_file).split('/')[-1]:\n",
    "                        kys = fetch_keys_in_includes(common_file)\n",
    "                        main_ejs_keys = main_ejs_keys + kys\n",
    "        else:\n",
    "            try:\n",
    "                includes_keys = fetch_keys_in_includes(includes_path)\n",
    "                main_ejs_keys = main_ejs_keys + includes_keys\n",
    "            except Exception as e:\n",
    "                print(path, e)\n",
    "            \n",
    "    all_keys = all_keys + main_ejs_keys\n",
    "identified_keys = set(all_keys)"
   ]
  },
  {
   "cell_type": "code",
   "execution_count": null,
   "id": "f11dc7ea",
   "metadata": {},
   "outputs": [],
   "source": [
    "with open('./../../crowdsource-ui/locales/en.json') as f:\n",
    "        en_data = json.load(f)"
   ]
  },
  {
   "cell_type": "code",
   "execution_count": 57,
   "id": "e919faeb",
   "metadata": {
    "scrolled": true
   },
   "outputs": [
    {
     "data": {
      "text/plain": [
       "(330, 298, 32)"
      ]
     },
     "execution_count": 57,
     "metadata": {},
     "output_type": "execute_result"
    }
   ],
   "source": [
    "c = 0\n",
    "en_data_keys = set(en_data.keys())\n",
    "un_matched_keys = []\n",
    "for key in en_data_keys:\n",
    "    found = False\n",
    "    for k in identified_keys:\n",
    "        if key == k or is_templated_key_present(k, key):\n",
    "            c+=1\n",
    "            found = True\n",
    "            break\n",
    "    if not found:\n",
    "        un_matched_keys.append(key)\n",
    "        \n",
    "len(en_data_keys), c, len(un_matched_keys)"
   ]
  },
  {
   "cell_type": "code",
   "execution_count": 58,
   "id": "f611d83a",
   "metadata": {},
   "outputs": [
    {
     "data": {
      "text/plain": [
       "['',\n",
       " 'Type the text as you hear the audio',\n",
       " 'Duration recorded',\n",
       " 'Translate',\n",
       " 'Your feedback helps us keep Dekho India relevant, we appreciate you taking time to leave the feedback.',\n",
       " 'Type the translation of the given text',\n",
       " 'Your feedback helps us keep Likho India relevant, we appreciate you taking time to leave the feedback.',\n",
       " 'Dashboard',\n",
       " 'Translate and type the text',\n",
       " 'Validate text as per the audio',\n",
       " 'Label',\n",
       " 'Type the text as per the image',\n",
       " 'Speakers contributed',\n",
       " 'Validate the text, labelled by others, as per the image',\n",
       " 'Does the audio match the text?',\n",
       " 'Languages',\n",
       " 'Type what you hear',\n",
       " 'Help us understand what’s wrong with the image labelled',\n",
       " 'Duration transcribed',\n",
       " 'Transcribe',\n",
       " 'Is the text from the image captured correctly?',\n",
       " 'People participated',\n",
       " 'Type the text from the image',\n",
       " 'Images labelled',\n",
       " 'Your feedback helps us keep Suno India relevant, we appreciate you taking time to leave the feedback.',\n",
       " 'Is the translation correct?',\n",
       " 'Images validated',\n",
       " 'Validate the translation contributed by others',\n",
       " 'Language pairs',\n",
       " 'Translations validated',\n",
       " 'Duration validated',\n",
       " 'Translations done']"
      ]
     },
     "execution_count": 58,
     "metadata": {},
     "output_type": "execute_result"
    }
   ],
   "source": [
    "un_matched_keys"
   ]
  },
  {
   "cell_type": "code",
   "execution_count": null,
   "id": "a56fec07",
   "metadata": {
    "scrolled": true
   },
   "outputs": [],
   "source": [
    "fetch_keys_in_includes(\"/Users/nireshkumarr/Documents/ekstep/crowdsource-dataplatform/crowdsource-ui/src/views/common/modals/speakerDetails/speakerDetails.ejs\")"
   ]
  },
  {
   "cell_type": "code",
   "execution_count": 43,
   "id": "42bf40c7",
   "metadata": {},
   "outputs": [
    {
     "data": {
      "text/plain": [
       "True"
      ]
     },
     "execution_count": 43,
     "metadata": {},
     "output_type": "execute_result"
    }
   ],
   "source": [
    "a_link = 'By proceeding ahead you agree to the <a href=\"${path}terms-and-conditions.html\" target=\"_blank\"> Terms and Conditions</a>'\n",
    "actual = 'By proceeding ahead you agree to the <a href=\"./terms-and-conditions.html\" target=\"_blank\"> Terms and Conditions</a>'\n",
    "\n",
    "is_templated_key_present(a_link, [actual])"
   ]
  }
 ],
 "metadata": {
  "kernelspec": {
   "display_name": "Python 3",
   "language": "python",
   "name": "python3"
  },
  "language_info": {
   "codemirror_mode": {
    "name": "ipython",
    "version": 3
   },
   "file_extension": ".py",
   "mimetype": "text/x-python",
   "name": "python",
   "nbconvert_exporter": "python",
   "pygments_lexer": "ipython3",
   "version": "3.7.10"
  }
 },
 "nbformat": 4,
 "nbformat_minor": 5
}
