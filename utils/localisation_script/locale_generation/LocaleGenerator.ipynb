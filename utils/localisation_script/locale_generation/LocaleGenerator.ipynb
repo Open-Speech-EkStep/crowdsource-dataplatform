{
 "cells": [
  {
   "cell_type": "markdown",
   "id": "14a375d3",
   "metadata": {},
   "source": [
    "# Generate local files with the received delta translated excel files"
   ]
  },
  {
   "cell_type": "code",
   "execution_count": 1,
   "id": "74efc2af",
   "metadata": {},
   "outputs": [],
   "source": [
    "import pandas as pd\n",
    "import openpyxl\n",
    "import json\n",
    "import os\n",
    "import re"
   ]
  },
  {
   "cell_type": "code",
   "execution_count": 2,
   "id": "4b9f3aba",
   "metadata": {},
   "outputs": [],
   "source": [
    "def reformat_json(json_obj):\n",
    "    json_dict = {}\n",
    "    for key, value in json_obj:\n",
    "        json_dict[key] = value\n",
    "    return json_dict"
   ]
  },
  {
   "cell_type": "code",
   "execution_count": 3,
   "id": "f1804117",
   "metadata": {},
   "outputs": [],
   "source": [
    "def set_values(df_row):\n",
    "    if pd.notnull(df_row[lang]):\n",
    "        df_row['value'] = df_row[lang]\n",
    "    return df_row"
   ]
  },
  {
   "cell_type": "code",
   "execution_count": 4,
   "id": "1d8a34df",
   "metadata": {},
   "outputs": [],
   "source": [
    "def set_variables(df_row):\n",
    "    for value in allowed_values:\n",
    "        try:\n",
    "            if pd.notna(df_row[value]):\n",
    "                df_row[lang] = df_row[lang].replace('<'+ value + '>', df_row[value])\n",
    "                df_row['key'] = df_row['key'].replace('<'+ value + '>', df_row[value])\n",
    "        except:\n",
    "            pass\n",
    "    try:\n",
    "        if pd.notna(df_row['a-tag-replacement']):\n",
    "            start_index = df_row[lang].find('<a')+2\n",
    "            end_index = df_row[lang].find('>')\n",
    "            df_row[lang] = df_row[lang][:start_index+1] + df_row['a-tag-replacement'] + df_row[lang][end_index:]\n",
    "            df_row['key'] = df_row['key'][:start_index+1] + df_row['a-tag-replacement'] + df_row['key'][end_index:]\n",
    "    except:\n",
    "        pass\n",
    "        \n",
    "    return df_row"
   ]
  },
  {
   "cell_type": "code",
   "execution_count": 5,
   "id": "e2d52452",
   "metadata": {},
   "outputs": [],
   "source": [
    "def load_json_as_df(json_data):\n",
    "    out_df = pd.DataFrame(list(json_data.items()),\n",
    "                       columns=['Key', 'value'])        \n",
    "    out_df['Key_lower'] = out_df['Key'].str.lower()\n",
    "    return out_df"
   ]
  },
  {
   "cell_type": "code",
   "execution_count": 6,
   "id": "a71f3abe",
   "metadata": {},
   "outputs": [],
   "source": [
    "def read_excels_as_df(translation_excel_files, language_code, language_name):\n",
    "    excel_df = pd.DataFrame([], columns=['Key', language_name])\n",
    "    for excel_file_name in translation_excel_files:\n",
    "        excel = pd.ExcelFile(excel_file_name)\n",
    "        for sheet_name in excel.sheet_names:\n",
    "            sheet = excel.parse(sheet_name = sheet_name, header=1)\n",
    "            if(len(sheet.columns) == 0):\n",
    "                continue\n",
    "            FORMAT = [english_col,language_name]\n",
    "            for value in allowed_values:\n",
    "                if value in sheet.columns:\n",
    "                    FORMAT.append(value)\n",
    "            filtered_sheet = sheet[FORMAT]\n",
    "            sheet_no_na = filtered_sheet.dropna(subset = [english_col, language_name], inplace=False)\n",
    "            sheet_new = sheet_no_na.rename(columns = {english_col: 'Key'}, inplace=False)\n",
    "            excel_df = pd.concat([excel_df, sheet_new], axis=0)\n",
    "            \n",
    "    excel_df = excel_df.apply(set_variables, axis=1)\n",
    "    return excel_df"
   ]
  },
  {
   "cell_type": "code",
   "execution_count": 7,
   "id": "04414a69",
   "metadata": {},
   "outputs": [],
   "source": [
    "def read_excels(input_base_path, language_code, language_name):\n",
    "    path_to_excel = '{}/{}'.format(input_base_path,language_code)\n",
    "    excel_files = sorted(os.listdir(path_to_excel))\n",
    "    translation_excel_files = [path_to_excel+\"/\"+ excel_file_name for excel_file_name in excel_files if excel_file_name.endswith('.xlsx') and not excel_file_name.startswith('~')]\n",
    "    excel_df = read_excels_as_df(translation_excel_files, language_code, language_name)\n",
    "    return excel_df"
   ]
  },
  {
   "cell_type": "code",
   "execution_count": 8,
   "id": "210a3cec",
   "metadata": {},
   "outputs": [],
   "source": [
    "def read_json(json_file_path):\n",
    "    with open(json_file_path) as f:\n",
    "        data = json.load(f)\n",
    "    return data"
   ]
  },
  {
   "cell_type": "code",
   "execution_count": 9,
   "id": "06cb3138",
   "metadata": {},
   "outputs": [],
   "source": [
    "def clean_excel_df(df, language_name):\n",
    "    excel_df = df.copy()\n",
    "    excel_df['Key_lower'] = excel_df['Key'].str.lower().str.strip()\n",
    "    excel_df[language_name] = excel_df[language_name].str.strip()\n",
    "    excel_df = excel_df.drop_duplicates(subset=['Key_lower'], keep='last')\n",
    "    excel_df.Key_lower=excel_df.Key_lower.apply(lambda x: re.sub(r' -$','',re.sub(r'^X ','',re.sub(r'^x ','',str(x)))))\n",
    "    excel_df[language_name]=excel_df[language_name].apply(lambda x: re.sub(r' -$','',re.sub(r'^X ','',re.sub(r'^x ','',str(x)))))\n",
    "    return excel_df"
   ]
  },
  {
   "cell_type": "code",
   "execution_count": 10,
   "id": "d4a9d37a",
   "metadata": {},
   "outputs": [],
   "source": [
    "def clean_json_df(df):\n",
    "    out_df = df.copy()\n",
    "    out_df['Key_lower'] = out_df['Key'].str.lower().str.strip()\n",
    "    out_df_dropped = out_df.drop_duplicates(subset=['Key'], keep='first')\n",
    "    return out_df"
   ]
  },
  {
   "cell_type": "code",
   "execution_count": 11,
   "id": "da945260",
   "metadata": {},
   "outputs": [],
   "source": [
    "def write_df_to_json(df, output_json_path):\n",
    "    jsonFile = df.to_json(orient='values')\n",
    "    json_string = json.loads(jsonFile)\n",
    "\n",
    "    reformatted_json = reformat_json(json_string)\n",
    "\n",
    "    with open(output_json_path, 'w') as f:\n",
    "        f.write(json.dumps(reformatted_json, indent = 4, ensure_ascii=False))"
   ]
  },
  {
   "cell_type": "code",
   "execution_count": 21,
   "id": "3af846a0",
   "metadata": {},
   "outputs": [],
   "source": [
    "def get_locale_data(input_base_path, language_code, language_name):\n",
    "    global lang\n",
    "    lang = language_name\n",
    "    \n",
    "    excel_df = read_excels(input_base_path, language_code, language_name)\n",
    "    existing_locale_json_data = read_json('./../../../crowdsource-ui/locales/{locale}.json'.format(locale=language_code))\n",
    "    out_df = load_json_as_df(existing_locale_json_data)\n",
    "\n",
    "    excelDf_dropped = clean_excel_df(excel_df, language_name)\n",
    "    out_df_dropped = clean_json_df(out_df)\n",
    "\n",
    "    merged_df = pd.merge(excelDf_dropped, out_df_dropped, on=\"Key_lower\", how='right')\n",
    "\n",
    "    merged_df = merged_df.apply(set_values, axis = 1)\n",
    "\n",
    "    select_columns = ['Key_y', 'value']\n",
    "\n",
    "    filtered_merged_df = merged_df[select_columns]\n",
    "\n",
    "    final_df = filtered_merged_df.drop_duplicates(subset='Key_y', keep='first', inplace=False)\n",
    "\n",
    "    return excelDf_dropped, final_df, merged_df\n"
   ]
  },
  {
   "cell_type": "code",
   "execution_count": 43,
   "id": "0858b093",
   "metadata": {},
   "outputs": [],
   "source": [
    "def get_matched_count(excel_df, merged_df):\n",
    "    count = 0\n",
    "    for key in excel_df['Key_lower']:\n",
    "        for k_key in merged_df['Key_lower']:\n",
    "            if key == k_key:\n",
    "                count+=1\n",
    "                break\n",
    "    return count\n",
    "            "
   ]
  },
  {
   "cell_type": "code",
   "execution_count": 42,
   "id": "ed556f55",
   "metadata": {},
   "outputs": [
    {
     "name": "stdout",
     "output_type": "stream",
     "text": [
      "****** LOCALE = Hindi **********\n",
      "Final Number of Keys(WithoutDuplicates/WithDuplicates) = 337/337\n",
      "Matched Keys => 12/12\n",
      "****************\n",
      "****** LOCALE = Marathi **********\n",
      "Final Number of Keys(WithoutDuplicates/WithDuplicates) = 337/337\n",
      "Matched Keys => 12/12\n",
      "****************\n",
      "****** LOCALE = Tamil **********\n",
      "Final Number of Keys(WithoutDuplicates/WithDuplicates) = 337/337\n",
      "Matched Keys => 0/0\n",
      "****************\n",
      "****** LOCALE = Odia **********\n",
      "Final Number of Keys(WithoutDuplicates/WithDuplicates) = 337/337\n",
      "Matched Keys => 12/12\n",
      "****************\n",
      "****** LOCALE = Kannada **********\n",
      "Final Number of Keys(WithoutDuplicates/WithDuplicates) = 337/337\n",
      "Matched Keys => 12/12\n",
      "****************\n",
      "****** LOCALE = Telugu **********\n",
      "Final Number of Keys(WithoutDuplicates/WithDuplicates) = 337/337\n",
      "Matched Keys => 12/12\n",
      "****************\n",
      "****** LOCALE = Gujarati **********\n",
      "Final Number of Keys(WithoutDuplicates/WithDuplicates) = 337/337\n",
      "Matched Keys => 0/0\n",
      "****************\n",
      "****** LOCALE = Bengali **********\n",
      "Final Number of Keys(WithoutDuplicates/WithDuplicates) = 337/337\n",
      "Matched Keys => 0/0\n",
      "****************\n",
      "****** LOCALE = Punjabi **********\n",
      "Final Number of Keys(WithoutDuplicates/WithDuplicates) = 337/337\n",
      "Matched Keys => 0/0\n",
      "****************\n",
      "****** LOCALE = Assamese **********\n",
      "Final Number of Keys(WithoutDuplicates/WithDuplicates) = 337/337\n",
      "Matched Keys => 0/0\n",
      "****************\n",
      "****** LOCALE = Malayalam **********\n",
      "Final Number of Keys(WithoutDuplicates/WithDuplicates) = 337/337\n",
      "Matched Keys => 0/0\n",
      "****************\n"
     ]
    }
   ],
   "source": [
    "english_col = 'English copy'\n",
    "allowed_values = ['x','y','z','u','v','w']\n",
    "languages = [('hi','Hindi'),('mr','Marathi'),('ta','Tamil'),('or','Odia'),('kn','Kannada'),('te','Telugu')\n",
    ",('gu','Gujarati'), ('bn','Bengali'),('pa','Punjabi'),('as','Assamese'),('ml','Malayalam'),]\n",
    "\n",
    "input_base_path = \"./input_excel_files\"\n",
    "output_base_path = \"./output_json_files\"\n",
    "os.makedirs(output_base_path, exist_ok=True)\n",
    "for language_code, language_name in languages:\n",
    "    excelDf_dropped, final_df, merged_df = get_locale_data(input_base_path, language_code, language_name)\n",
    "    print(\"****** LOCALE = {} **********\".format(language_name))\n",
    "    print(\"Final Number of Keys(WithoutDuplicates/WithDuplicates) = {}/{}\".format(final_df['Key_y'].nunique(), final_df['Key_y'].count()))\n",
    "    print(\"Matched Keys => {}/{}\".format(get_matched_count(excelDf_dropped, merged_df), excelDf_dropped['Key'].count()))\n",
    "    print(\"****************\")\n",
    "    output_json_path = '{base_path}/{language}.json'.format(base_path=output_base_path, language=language_code)\n",
    "#     write_df_to_json(final_df, output_json_path)\n"
   ]
  }
 ],
 "metadata": {
  "kernelspec": {
   "display_name": "Python 3",
   "language": "python",
   "name": "python3"
  },
  "language_info": {
   "codemirror_mode": {
    "name": "ipython",
    "version": 3
   },
   "file_extension": ".py",
   "mimetype": "text/x-python",
   "name": "python",
   "nbconvert_exporter": "python",
   "pygments_lexer": "ipython3",
   "version": "3.7.10"
  }
 },
 "nbformat": 4,
 "nbformat_minor": 5
}
