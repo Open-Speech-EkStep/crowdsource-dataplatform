{
 "cells": [
  {
   "cell_type": "code",
   "execution_count": 15,
   "metadata": {},
   "outputs": [],
   "source": [
    "import json\n",
    "import os\n",
    "import pandas as pd\n",
    "\n",
    "# this finds our json files\n"
   ]
  },
  {
   "cell_type": "code",
   "execution_count": 16,
   "metadata": {},
   "outputs": [],
   "source": [
    "languages = [('hi', \"Hindi\"),('gu', \"Gujarati\"),('as', \"Assamese\"),('bn','Bengali'),('ta',\"Tamil\"),\n",
    "             ('te',\"Telugu\"),('mr',\"Marathi\"),('pa',\"Punjabi\"),('ml',\"Malayalam\"),('or',\"Odia\"),('kn',\"Kannada\")]"
   ]
  },
  {
   "cell_type": "code",
   "execution_count": 17,
   "metadata": {},
   "outputs": [
    {
     "name": "stdout",
     "output_type": "stream",
     "text": [
      "dict_keys(['Bhasha', 'Daan', 'Beta', 'Home', 'Suno India', 'Bolo India', 'Likho India', 'Dekho India', 'Language', '(No Username)', 'Change User', 'Bhasha Samarthak Levels', 'Choose the initiative ', 'Choose the language ', 'Become a Bhasha Samarthak by contributing to Bolo India, Suno India, Likho India or Dekho India. Earn Bronze/Silver/Gold/Platinum Bhasha Samarthak Badges based on your contributions. Share them in your social circle, your language community, and motivate your friends and family to contribute to the cause.', 'Participation Levels', 'Become a Bhasha Samarthak by contributing to these initiatives. For details on how to earn Bhasha Samarthak Badges, please select the initiative and language of your choice.', 'Contributions', 'Validations', 'Levels', 'Badge', 'Levels and badges may take upto 48 hours to update. Your contribution will be validated before confirming the badge. Please keep contributing actively to stand a chance to get recognised.', 'Your Feedback', 'We would like to get your feedback to improve this platform', 'Email', '*required', 'Giving Feedback for?', 'Bolo', 'Suno', 'Likho', 'Dekho', 'Others', 'What is your opinion of this page', 'Please select your feedback category', 'optional', 'Select a category', 'Suggestion', 'Error', 'Complaint', 'Compliment', 'Share your feedback below:', 'Type here...', 'SUBMIT', 'Submitted successfully', 'Thank you for your feedback!', 'Terms & Conditions', 'Privacy Policy', 'Share it with your friends and family', 'User Details', 'All the fields are optional but you can enrich your dataset contribution by providing the demographic details.', 'Name', 'Enter username', 'Only 12 characters allowed. (Hint: name.surname, name_surname12 etc.)', \"Please don't use email or mobile number as user name\", 'Mother Tongue', 'Select Mother Tongue', 'Age Group', 'Select Age Group', 'upto 10 (Kid)', '10 - 30 (Youth)', '30 - 60 (Adult)', '60+ (Senior)', 'Gender', 'Male', 'Female', 'Transgender - He', 'Transgender - She', 'Rather Not Say', 'By proceeding ahead you agree to the <a href=\"../terms-and-conditions.html\" target=\"_blank\"> Terms and Conditions</a>', 'Please validate any error message before proceeding', 'Done', 'India', 'Dashboard', 'Select a language', 'All Languages', 'Data Last Updated', 'We do not have any data for this language, would you like to contribute for it?', 'Contribute Now', 'Languages', 'Speakers contributed', 'Duration recorded', 'Duration validated', 'Progress Chart', 'Monthly', 'Quarterly', 'Gender Distribution', 'State Wise distribution', 'Age Group Distribution', 'Select the language for contribution', 'BhashaDaan: A crowdsourcing initiative for Indian languages', \"I've contributed towards building open language repository for India on https://bhashini.gov.in/bhashadaan You and I can make a difference by donating our voices that can help machines learn our language and interact with us through great linguistic applications. Do your bit and empower the language?\", 'Your contribution can empower Bhashini to make many such stories happen.', 'Towards digital empowerment for all...', 'Remove language barriers with BhashaDaan', 'One platform, multiple crowdsourcing initiatives', 'Help to build an open repository of data to digitally enrich your language', 'Enrich your language by transcribing audio into text', 'Contribute by typing what you hear on audio', 'Validate the texts transcribed by others', 'Start Participating', 'Enrich your language by donating your voice', 'Contribute your voice by recording the sentence', 'Validate the audios recorded by others', 'Enrich your language by translating text', 'Contribute by translating the prompted text in your language', 'Validate the translations contributed by others', 'Enrich your language by labelling images', 'Contribute by labelling the image', 'Validate the images labelled by others', 'Contribute and become a Bhasha Samarthak', 'Know More', 'Bronze Bhasha Samarthak Badge', 'Contribute just 5 sentences in your language', 'SUNO INDIA', 'BOLO INDIA', 'LIKHO INDIA', 'DEKHO INDIA', 'Oops', 'Page Not Found', 'Looks like you have taken a wrong turn here', '<a class=\"\" href=\"/\">Click Here</a> to go back to home page', 'Speak', 'Quick Tips', 'Please test your <b>Microphone</b>', 'Please test your <b>Speakers</b>', 'Ensure there is <b>no background noise</b>', 'Read once <b>before recording it</b>', 'Get started by clicking on <b>Record</b> button', 'Report', 'Test your Microphone and Speakers', 'Test', 'Test Mic', 'Please speak clearly', 'Low/No Background Noise', 'Background Noise Detected', 'Test Speakers', 'Recording will automatically stop after <span id=\"counter\"></span> seconds', 'Audio recording is too small. Please Re-record', 'Start Recording', 'Stop Recording', 'Re-record', 'Submit', 'Skip', 'Thank you for your enthusiasm to contribute your voice.', 'We do not have any data in <span id=\"spn-validation-language\"></span> language. Please try again later.', 'Back to Home', 'Report Content', 'Help us understand what’s wrong with the sentence', 'Offensive', 'Hurting sentiments of religion, community or abusive content etc.', 'Prohibited Content', 'Hateful / Discriminatory / Vulgar language, drugs promotion etc.', 'Political Statement', 'Hateful Political views, amplifying hate-speech etc.', 'Misinformation', 'Hearsay / Rumors, deliberate falsified facts etc.', 'Please specify the reason (Optional)', 'Thank You', 'Your feedback helps us keep Bolo India relevant, we appreciate you taking time to leave the feedback.', 'Error!!!', 'An unexpected error occured while processing your request. Please try after some time.', 'Close', 'Opt-out Notification', 'Source', 'If you are the copyright holder of this data and believe it should not be used on the platform, please send us an email to <span class=\"email\">optout@bhashini.gov.in</span><span class=\"tooltiptext\" id=\"myDataSourceTooltip\">Copy to clipboard</span> with evidence that you are indeed the copyright holder of this data.', 'We will attempt to validate the same and remove the data from our platform within 15 days on a best effort basis.', 'Thank you for contributing!', 'Your language and top 3 most contributed languages', 'You are a champion', 'You are on a spree !!', 'You took the first important step', 'You are enriching your language', 'recording(s) contributed', 'You are just <span id=\"sentense_away_count\"></span> recordings away from earning your <span id=\"next_badge_name\"></span>  Bhasha Samarthak Badge. <a href=\"badges.html\">Know more</a>', 'Download', 'You’ve earned your <span id=\"current_badge_name\"></span> Bhasha Samarthak Badge', 'You\\'ve earned a  <span id=\"current_badge_name_1\"></span> Bhasha Samarthak Badge by contributing <span id=\"current_badge_count\"></span> recordings', 'Your next goal is to reach <span id=\"next_badge_count\"></span> recordings to earn your  <span id=\"next_badge_name_1\"></span> Bhasha Samarthak Badge. <a href=\"./badges.html\">Know more</a>', 'Help your language achieve it’s goal of <span id=\"language-hour-goal\"></span> hrs. We know you can do more!', 'Contribute More', 'Validate', 'Thank you for validating!', 'recording(s) validated', 'You’ve earned a <span id=\"current_badge_name_1\"></span> Bhasha Samarthak Badge by validating <span id=\"current_badge_count\"></span> recordings', 'Your next goal is to reach <span id=\"next_badge_count\"></span> recordings to earn your <span id=\"next_badge_name_1\"></span>  Bhasha Samarthak Badge. <a href=\"badges.html\">Know more</a>', 'Validate More', 'Test your Speaker', 'Thank you for your enthusiasm to validate the recordings.', 'You have helped us validate <span id=\"spn-validation-count\" class=\"font-wt-900\"></span> recordings', 'Incorrect', 'Play', 'Replay', 'Pause', 'Resume', 'Correct', 'Help us understand what’s wrong with the recording', '', \"Let's Go\", 'Your selected language', 'Top languages', 'Telugu', 'Hindi', 'Marathi', 'Tamil', 'Kannada', 'Malayalam', 'Bengali', 'Odia', 'Assamese', 'Punjabi', 'Gujarati', 'Start typing here...', 'Konkani Roman', 'Konkani DV', 'Manipuri BN', 'Manipuri MM', 'Santali OL', 'Santali DV', 'BODO', 'DOGRI', 'KASHMIRI', 'MAITHILI', 'NEPALI', 'SANSKRIT', 'SINDHI', 'URDU', 'hrs recorded in', 'hrs validated in', 'hours', 'minutes', 'seconds', 'Recording for 5 seconds', 'Recording for 4 seconds', 'Recording for 3 seconds', 'Recording for 2 seconds', 'Recording for 1 seconds', 'Playingback Audio', 'Playing', 'Congratulations!!! You have completed this batch of sentences', 'social sharing text with rank', 'social sharing text without rank', 'Level', 'Sentences', 'bronze', 'silver', 'gold', 'platinum', 'Recording', 'Labelling', 'Transcribing', 'Translating', 'Images', 'Validating', 'English', 'Show All', 'Contribute your voice', 'Contribute your voice to create an open data repository of Indian languages', 'Validate what they say', 'Help us by validating the recordings that others have contributed', 'Contributions made to Bolo India', 'By hours of data recorded and validated', 'By number of speakers', 'VIEW ALL DETAILS', 'People participated', 'Duration transcribed', 'Not collecting contributions for selected language', 'Transcribe', 'Type what you hear', 'No validation data available for selected language', 'Validate text as per the audio', 'Contributions made to Suno India', 'Hours transcribed and validated', 'Get Chrome extension to type in any language you choose', 'Install Now', 'Watch the video', 'Type the text as you hear the audio', 'Add Text', 'Special characters are not allowed', 'Input field can not be empty', 'Please type in your chosen language', 'Thank you for your enthusiasm to transcribe the recordings.', 'Cancel', 'Virtual keyboard', 'Your feedback helps us keep Suno India relevant, we appreciate you taking time to leave the feedback.', 'sentence(s) contributed', 'You are just <span id=\"sentense_away_count\"></span> sentences away from earning your <span id=\"next_badge_name\"></span> Bhasha Samarthak Badge. <a href=\"../badges.html\">Know more</a>', 'You\\'ve earned a <span id=\"current_badge_name_1\"></span> Bhasha Samarthak Badge by contributing <span id=\"current_badge_count\"></span> sentences.', 'Your next goal is to reach <span id=\"next_badge_count\"></span> sentences to earn your <span id=\"next_badge_name_1\"></span> Bhasha Samarthak Badge. <a href=\"./badges.html\">Know more</a>', 'sentence(s) validated', 'You’ve earned a  <span id=\"current_badge_name_1\"></span> Bhasha Samarthak Badge by validating <span id=\"current_badge_count\"></span> sentences.', 'Your next goal is to reach <span id=\"next_badge_count\"></span> sentences to earn your <span id=\"next_badge_name_1\"></span> Bhasha Samarthak Badge. <a href=\"../badges.html\">Know more</a>', 'Does the audio match the text?', 'Original Text', 'Your Edit', 'Thank you for correcting!', 'Needs Change', 'Select a language pair', 'FROM', 'Back to LikhoIndia Home', 'Back to Bolo India Home', 'Back to SunoIndia Home', 'Back to dekhoIndia Home', 'TO', 'Language pairs', 'Translations done', 'Translations validated', 'Select the language pair for contribution', 'FROM ', 'TO ', 'Translate', 'Translate and type the text', 'Validate the translation contributed by others', 'Contributions made to Likho India', 'Your language pair and top 3 most contributed language pairs', 'Total translations', 'Type the translation of the given text', 'ENGLISH', 'HINDI', 'Thank you for your for translation efforts', 'Your feedback helps us keep Likho India relevant, we appreciate you taking time to leave the feedback.', 'Help your language pair achieve it’s goal of <span id=\"language-hour-goal\"></span> translations. We know you can do more!', 'You’ve earned a <span id=\"current_badge_name_1\"></span> Bhasha Samarthak Badge by validating <span id=\"current_badge_count\"></span> sentences.', 'Is the translation correct?', 'Thank you for your effort to validate translations.', 'Images labelled', 'Images validated', 'Label', 'Type the text as per the image', 'Validate the text, labelled by others, as per the image', 'Contributions made to Dekho India', 'Images labelled and validated', 'Type the text from the image', 'Click to open expanded view', 'Thank you for your enthusiasm to label the images.', 'Help us understand what’s wrong with the image labelled', 'Your feedback helps us keep Dekho India relevant, we appreciate you taking time to leave the feedback.', 'image label(s) contributed', 'You are just <span id=\"sentense_away_count\"></span> images away from earning your <span id=\"next_badge_name\"></span> Bhasha Samarthak Badge. <a href=\"../badges.html\">Know more</a>', 'You\\'ve earned a <span id=\"current_badge_name_1\"></span> Bhasha Samarthak Badge by labelling <span id=\"current_badge_count\"></span> images.', 'Your next goal is to reach <span id=\"next_badge_count\"></span> images to earn your <span id=\"next_badge_name_1\"></span> Bhasha Samarthak Badge. <a href=\"./badges.html\">Know more</a>', 'Help your language achieve it’s goal of <span id=\"language-hour-goal\"></span> images. We know you can do more!', 'image label(s) validated', 'You’ve earned a  <span id=\"current_badge_name_1\"></span>  Bhasha Samarthak Badge by validating <span id=\"current_badge_count\"></span> Images.', 'Your next goal is to reach <span id=\"next_badge_count\"></span> sentences to earn your <span id=\"next_badge_name_1\"></span>  Bhasha Samarthak Badge. <a href=\"../badges.html\">Know more</a>', 'Is the text from the image captured correctly?', 'Captured Text', 'Thank you for your enthusiasm to validate the image labels.'])\n"
     ]
    }
   ],
   "source": [
    "with open('./../../../crowdsource-ui/locales/en.json') as f:\n",
    "        en_data = json.load(f)\n",
    "        print(en_data.keys())"
   ]
  },
  {
   "cell_type": "code",
   "execution_count": 18,
   "metadata": {},
   "outputs": [],
   "source": [
    "for lang_code, lang_name in languages:\n",
    "    path_to_json = '.'\n",
    "        \n",
    "    with open('./../../../crowdsource-ui/locales/{lang}.json'.format(lang=lang_code)) as f:\n",
    "        data = json.load(f)\n",
    "\n",
    "    data2 = data.copy()\n",
    "\n",
    "    for key, value in data.items():\n",
    "        if key not in en_data.keys():\n",
    "            del data2[key]\n",
    "    with open('./{lang}.json'.format(lang=lang_code), 'w') as f:\n",
    "        f.write(json.dumps(data2, indent = 4, ensure_ascii=False))"
   ]
  },
  {
   "cell_type": "code",
   "execution_count": 13,
   "metadata": {},
   "outputs": [],
   "source": []
  },
  {
   "cell_type": "code",
   "execution_count": 19,
   "metadata": {},
   "outputs": [],
   "source": [
    "# Keys used from api\n",
    "key_list = [\n",
    "            'hrs recorded in',\n",
    "            'hrs validated in',\n",
    "            'hours',\n",
    "            'minutes',\n",
    "            'seconds',\n",
    "            'Recording for 5 seconds',\n",
    "            'Recording for 4 seconds',\n",
    "            'Recording for 3 seconds',\n",
    "            'Recording for 2 seconds',\n",
    "            'Recording for 1 seconds',\n",
    "            'Playingback Audio',\n",
    "            'Playing',\n",
    "            'Test Mic',\n",
    "            'Test Speakers',\n",
    "            'Congratulations!!! You have completed this batch of sentences',\n",
    "            'social sharing text with rank',\n",
    "            'social sharing text without rank',\n",
    "            'Level',\n",
    "            'Sentences',\n",
    "            'bronze',\n",
    "            'silver',\n",
    "            'gold',\n",
    "            'platinum',\n",
    "            'Bolo India',\n",
    "            'Suno India',\n",
    "            'Dekho India',\n",
    "            'Likho India',\n",
    "            'Recording',\n",
    "            'Labelling',\n",
    "            'Transcribing',\n",
    "            'Translating',\n",
    "            'Images',\n",
    "            'Validating',\n",
    "            'Telugu',\n",
    "            'Marathi',\n",
    "            'Tamil',\n",
    "            'Kannada',\n",
    "            'Malayalam',\n",
    "            'Odia',\n",
    "            'Assamese',\n",
    "            'Punjabi',\n",
    "            'Gujarati',\n",
    "            'Hindi',\n",
    "            'English',\n",
    "            'Bengali',\n",
    "            'All Languages'\n",
    "        ]"
   ]
  },
  {
   "cell_type": "code",
   "execution_count": 20,
   "metadata": {},
   "outputs": [],
   "source": [
    "for lang_code, lang_name in languages:\n",
    "    \n",
    "    with open('./../../../crowdsource-ui/locales/{lang}.json'.format(lang=lang_code)) as f:\n",
    "        to_data = json.load(f)\n",
    "        \n",
    "    with open('./../../../crowdsource-api/locales/{lang}.json'.format(lang=lang_code)) as f:\n",
    "        from_data = json.load(f)\n",
    "\n",
    "\n",
    "    for key in key_list:\n",
    "        to_data[key] = from_data[key]\n",
    "        \n",
    "    with open('./{lang}.json'.format(lang=lang_code), 'w') as f:\n",
    "        f.write(json.dumps(to_data, indent = 4, ensure_ascii=False))"
   ]
  },
  {
   "cell_type": "code",
   "execution_count": null,
   "metadata": {},
   "outputs": [],
   "source": []
  },
  {
   "cell_type": "code",
   "execution_count": null,
   "metadata": {},
   "outputs": [],
   "source": []
  }
 ],
 "metadata": {
  "kernelspec": {
   "display_name": "Python 3",
   "language": "python",
   "name": "python3"
  },
  "language_info": {
   "codemirror_mode": {
    "name": "ipython",
    "version": 3
   },
   "file_extension": ".py",
   "mimetype": "text/x-python",
   "name": "python",
   "nbconvert_exporter": "python",
   "pygments_lexer": "ipython3",
   "version": "3.8.5"
  }
 },
 "nbformat": 4,
 "nbformat_minor": 4
}
