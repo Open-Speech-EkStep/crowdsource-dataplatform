{
 "cells": [
  {
   "cell_type": "code",
   "execution_count": 1,
   "metadata": {},
   "outputs": [],
   "source": [
    "import json\n",
    "import os\n",
    "import pandas as pd\n",
    "import re\n",
    "\n",
    "# this finds our json files\n"
   ]
  },
  {
   "cell_type": "code",
   "execution_count": 2,
   "metadata": {},
   "outputs": [],
   "source": [
    "languages = [('hi', \"Hindi\"),('gu', \"Gujarati\"),('as', \"Assamese\"),('bn','Bengali'),('ta',\"Tamil\"),\n",
    "             ('te',\"Telugu\"),('mr',\"Marathi\"),('pa',\"Punjabi\"),('ml',\"Malayalam\"),('or',\"Odia\"),('kn',\"Kannada\")]"
   ]
  },
  {
   "cell_type": "code",
   "execution_count": 3,
   "metadata": {
    "scrolled": true
   },
   "outputs": [
    {
     "name": "stdout",
     "output_type": "stream",
     "text": [
      "dict_keys(['(No Username)', '*required', '10 - 30 (Youth)', '30 - 60 (Adult)', '60+ (Senior)', '<a class=\"\" href=\"/\">Click Here</a> to go back to home page', 'Add Text', 'Age Group Distribution', 'Age Group', 'All Languages', 'All the fields are optional but you can enrich your dataset contribution by providing the demographic details.', 'An unexpected error occured while processing your request. Please try after some time.', 'Assamese', 'Audio recording is too small. Please Re-record', 'BODO', 'Back to Bolo India Home', 'Back to Dekho India Home', 'Back to Likho India Home', 'Back to Suno India Home', 'Background Noise Detected', 'Badge', 'Become a Bhasha Samarthak by contributing to Bolo India, Suno India, Likho India or Dekho India. Earn Bronze/Silver/Gold/Platinum Bhasha Samarthak Badges based on your contributions. Share them in your social circle, your language community, and motivate your friends and family to contribute to the cause.', 'Become a Bhasha Samarthak by contributing to these initiatives. For details on how to earn Bhasha Samarthak Badges, please select the initiative and language of your choice.', 'Bengali', 'Bhasha Samarthak Levels', 'Bhasha', 'BhashaDaan: A crowdsourcing initiative for Indian languages', 'Bolo India', 'Bolo', 'Bronze Bhasha Samarthak Badge', 'By hours of data recorded and validated', 'By number of speakers', 'By proceeding ahead you agree to the <a href=\"../terms-and-conditions.html\" target=\"_blank\"> Terms and Conditions</a>', 'By proceeding ahead you agree to the <a href=\"./terms-and-conditions.html\" target=\"_blank\"> Terms and Conditions</a>', 'Cancel', 'Captured Text', 'Change User', 'Bhasha Samarthak Levels of Participation', 'Choose the initiative ', 'Choose the language ', 'Click to open expanded view', 'Close', 'Complaint', 'Compliment', 'Congratulations!!! You have completed this batch of sentences', 'Contribute More', 'Contribute Now', 'Contribute and become a Bhasha Samarthak', 'Contribute by labelling the image', 'Contribute by translating the prompted text in your language', 'Contribute by typing what you hear on audio', 'Contribute just 5 sentences in your language', 'Contribute your voice by recording the sentence', 'Contribute your voice to create an open data repository of Indian languages', 'Contribute your voice', 'Contributions made to Bolo India', 'Contributions made to Dekho India', 'Contributions made to Likho India', 'Contributions made to Suno India', 'Contributions', 'Correct', 'DOGRI', 'Daan', 'Dashboard', 'Data Last Updated', 'Dekho India', 'Dekho', 'Does the audio match the text?', 'Done', 'Download', 'Duration recorded', 'Duration transcribed', 'Duration validated', 'Email', 'English', 'Enrich your language by donating your voice', 'Enrich your language by labelling images', 'Enrich your language by transcribing audio into text', 'Enrich your language by translating text', 'Ensure there is <b>no background noise</b>', 'Enter username', 'Error!!!', 'Error', 'FROM ', 'FROM', 'Female', 'Gender Distribution', 'Gender', 'Get Chrome extension to type in any language you choose', 'Get started by clicking on <b>Record</b> button', 'Giving Feedback for?', 'Gujarati', 'Hateful / Discriminatory / Vulgar language, drugs promotion etc.', 'Hateful Political views, amplifying hate-speech etc.', 'Hearsay / Rumors, deliberate falsified facts etc.', 'Help to build an open repository of data to digitally enrich your language', 'Help us by validating the recordings that others have contributed', 'Help us understand what’s wrong with the image labelled', 'Help us understand what’s wrong with the recording', 'Help us understand what’s wrong with the sentence', 'Help your language achieve it’s goal of <span id=\"language-hour-goal\"></span> hrs. We know you can do more!', 'Help your language achieve it’s goal of <span id=\"language-hour-goal\"></span> images. We know you can do more!', 'Help your language pair achieve it’s goal of <span id=\"language-hour-goal\"></span> translations. We know you can do more!', 'Hindi', 'Home', 'Hours transcribed and validated', 'Hurting sentiments of religion, community or abusive content etc.', \"I've contributed towards building open language repository for India on https://bhashini.gov.in/bhashadaan You and I can make a difference by donating our voices that can help machines learn our language and interact with us through great linguistic applications. Do your bit and empower the language?\", 'If you are the copyright holder of this data and believe it should not be used on the platform, please send us an email to <span class=\"email\">optout@bhashini.gov.in</span><span class=\"tooltiptext\" id=\"myDataSourceTooltip\">Copy to clipboard</span> with evidence that you are indeed the copyright holder of this data.', 'Images labelled and validated', 'Images labelled', 'Images validated', 'Images', 'Incorrect', 'India', 'Input field can not be empty', 'Install Now', 'Is the text from the image captured correctly?', 'Is the translation correct?', 'KASHMIRI', 'Kannada', 'Know More', 'Konkani DV', 'Konkani Roman', 'Label', 'Labelling', 'Language pairs', 'Language', 'Languages', 'Level', 'Levels and badges may take upto 48 hours to update. Your contribution will be validated before confirming the badge. Please keep contributing actively to stand a chance to get recognised.', 'Levels', 'Likho India', 'Likho', 'Looks like you have taken a wrong turn here', 'Low/No Background Noise', 'MAITHILI', 'Malayalam', 'Male', 'Manipuri BN', 'Manipuri MM', 'Marathi', 'Misinformation', 'Monthly', 'Mother Tongue', 'NEPALI', 'Name', 'Needs Change', 'No validation data available for selected language', 'Not collecting contributions for selected language', 'Odia', 'Offensive', 'One platform, multiple crowdsourcing initiatives', 'Only 12 characters allowed. (Hint: name.surname, name_surname12 etc.)', 'Oops', 'Opt-out Notification', 'Original Text', 'Others', 'Page Not Found', 'Participation Levels', 'Pause', 'People participated', 'Play', 'Playing', 'Playingback Audio', 'Please select your feedback category', 'Please speak clearly', 'Please specify the reason (Optional)', 'Please test your <b>Microphone</b>', 'Please test your <b>Speakers</b>', 'Please type in your chosen language', 'Please validate any error message before proceeding', 'Political Statement', 'Privacy Policy', 'Progress Chart', 'Prohibited Content', 'Punjabi', 'Quarterly', 'Quick Tips', 'Rather Not Say', 'Re-record', 'Read once <b>before recording it</b>', 'Recording for 1 seconds', 'Recording for 2 seconds', 'Recording for 3 seconds', 'Recording for 4 seconds', 'Recording for 5 seconds', 'Recording will automatically stop after <span id=\"counter\"></span> seconds', 'Recording', 'Replay', 'Report Content', 'Report', 'Resume', 'SANSKRIT', 'SINDHI', 'Santali DV', 'Santali OL', 'Select Age Group', 'Select Mother Tongue', 'Select a category', 'Select a language pair', 'Select a language', 'Select the language for contribution', 'Select the language pair for contribution', 'Sentences', 'Share it with your friends and family', 'Share your feedback below:', 'Show All', 'Skip', 'Source', 'Speak', 'Speakers contributed', 'Special characters are not allowed', 'Start Participating', 'Start Recording', 'Start typing here...', 'State Wise distribution', 'Stop Recording', 'Submit', 'Submitted successfully', 'Suggestion', 'Suno India', 'Suno', 'TO', 'Tamil', 'Telugu', 'Terms & Conditions', 'Test Mic', 'Test Speakers', 'Test your Microphone and Speakers', 'Test your Speaker', 'Test', 'Thank You', 'Thank you for contributing!', 'Thank you for correcting!', 'Thank you for validating!', 'Thank you for your effort to validate translations.', 'Thank you for your enthusiasm to contribute your voice.', 'Thank you for your enthusiasm to label the images.', 'Thank you for your enthusiasm to transcribe the recordings.', 'Thank you for your enthusiasm to validate the image labels.', 'Thank you for your enthusiasm to validate the recordings.', 'Thank you for your feedback!', 'Thank you for your for translation efforts', 'Top languages', 'Total translations', 'Transcribe', 'Transcribing', 'Transgender - He', 'Transgender - She', 'Translate and type the text', 'Translate', 'Translating', 'Translations done', 'Translations validated', 'Type here...', 'Type the text as per the image', 'Type the text as you hear the audio', 'Type the text from the image', 'Type the translation of the given text', 'Type what you hear', 'URDU', 'User Details', 'VIEW ALL DETAILS', 'Validate More', 'Validate text as per the audio', 'Validate the audios recorded by others', 'Validate the images labelled by others', 'Validate the text, labelled by others, as per the image', 'Validate the texts transcribed by others', 'Validate the translation contributed by others', 'Validate the translations contributed by others', 'Validate what they say', 'Validate', 'Validating', 'Validations', 'Virtual keyboard', 'Watch the video', 'We do not have any data for this language, would you like to contribute for it?', 'We do not have any data in <span id=\"spn-validation-language\"></span> language. Please try again later.', 'We will attempt to validate the same and remove the data from our platform within 15 days on a best effort basis.', 'We would like to get your feedback to improve this platform', 'What is your opinion of this page', 'You are a champion', 'You are enriching your language', 'You are just <span id=\"sentense_away_count\"></span> images away from earning your <span id=\"next_badge_name\"></span> Bhasha Samarthak Badge.', 'You are just <span id=\"sentense_away_count\"></span> sentences away from earning your <span id=\"next_badge_name\"></span> Bhasha Samarthak Badge.', 'You are on a spree !!', 'You have helped us validate <span id=\"spn-validation-count\" class=\"font-wt-900\"></span> recordings', 'You took the first important step', 'You\\'ve earned a <span id=\"current_badge_name_1\"></span> Bhasha Samarthak Badge by contributing <span id=\"current_badge_count\"></span> sentences.', 'You\\'ve earned a <span id=\"current_badge_name_1\"></span> Bhasha Samarthak Badge by labelling <span id=\"current_badge_count\"></span> images.', 'Your Edit', 'Your Feedback', 'Your feedback helps us keep Bolo India relevant, we appreciate you taking time to leave the feedback.', 'Your feedback helps us keep Dekho India relevant, we appreciate you taking time to leave the feedback.', 'Your feedback helps us keep Likho India relevant, we appreciate you taking time to leave the feedback.', 'Your feedback helps us keep Suno India relevant, we appreciate you taking time to leave the feedback.', 'Your language and top 3 most contributed languages', 'Your language pair and top 3 most contributed language pairs', 'Your selected language', 'You’ve earned a <span id=\"current_badge_name_1\"></span> Bhasha Samarthak Badge by validating <span id=\"current_badge_count\"></span> Images.', 'You’ve earned a <span id=\"current_badge_name_1\"></span> Bhasha Samarthak Badge by validating <span id=\"current_badge_count\"></span> recordings', 'You’ve earned a <span id=\"current_badge_name_1\"></span> Bhasha Samarthak Badge by validating <span id=\"current_badge_count\"></span> sentences.', 'You’ve earned your <span id=\"current_badge_name\"></span> Bhasha Samarthak Badge', 'bronze', 'gold', 'hours', 'image label(s) contributed', 'image label(s) validated', 'Bhasha Daan: A crowdsourcing initiative for Indian languages', 'minutes', 'optional', 'platinum', 'recording(s) contributed', 'recording(s) validated', 'seconds', 'sentence(s) contributed', 'sentence(s) validated', 'silver', 'social sharing text with rank', 'social sharing text without rank', 'upto 10 (Kid)', 'Your next goal is to reach <span id=\"next_badge_count\"></span> sentences to earn your <span id=\"next_badge_name_1\"></span> Bhasha Samarthak Badge.', 'Your next goal is to reach <span id=\"next_badge_count\"></span> images to earn your <span id=\"next_badge_name_1\"></span> Bhasha Samarthak Badge.', 'You are just <span id=\"sentense_away_count\"></span> recordings away from earning your <span id=\"next_badge_name\"></span> Bhasha Samarthak Badge.', 'Your next goal is to reach <span id=\"next_badge_count\"></span> recordings to earn your <span id=\"next_badge_name_1\"></span> Bhasha Samarthak Badge.', 'You\\'ve earned a <span id=\"current_badge_name_1\"></span> Bhasha Samarthak Badge by contributing <span id=\"current_badge_count\"></span> recordings', \"Please don't use email or mobile number as user name\", 'Language Tracker', 'Your language and top 3 contributed languages', 'By duration of hours', 'Total recordings', 'Total sentences', 'Total images', 'Only validations invited for the selected language', 'Only contributions invited for the selected language', 'Contribution so far in <y> - <x>', 'Validation so far in <y> - <x>'])\n"
     ]
    }
   ],
   "source": [
    "with open('./../../../crowdsource-ui/locales/en.json') as f:\n",
    "        en_data = json.load(f)\n",
    "        print(en_data.keys())"
   ]
  },
  {
   "cell_type": "code",
   "execution_count": 27,
   "metadata": {},
   "outputs": [],
   "source": [
    "def find_atag(key, value):\n",
    "    \n",
    "    if 'badges.html' in key:\n",
    "        key = re.sub(r\"\\s+\", \" \", key)\n",
    "        start_index = key.find('<a')\n",
    "        key_substr=key[start_index:]\n",
    "        val_start_index = value.find('<a')\n",
    "        value_substr=value[val_start_index:]\n",
    "        new_key = key.replace(key_substr,'').strip()\n",
    "        new_value = value.replace(value_substr,'').strip()\n",
    "        return new_key, new_value\n",
    "        \n",
    "    else: \n",
    "        proper_key = re.sub(r\"\\s+\", \" \", key)\n",
    "        return proper_key, value\n",
    "    return None, None\n"
   ]
  },
  {
   "cell_type": "code",
   "execution_count": null,
   "metadata": {},
   "outputs": [],
   "source": [
    "find_atag('You’ve earned a  <span id=\\\"current_badge_name_1\\\"></span>  Bhasha Samarthak Badge by validating <span id=\\\"current_badge_count\\\"></span> Images.','You’ve earned a  <span id=\\\"current_badge_name_1\\\"></span>  Bhasha Samarthak Badge by validating <span id=\\\"current_badge_count\\\"></span> Images.')"
   ]
  },
  {
   "cell_type": "code",
   "execution_count": 30,
   "metadata": {},
   "outputs": [
    {
     "name": "stdout",
     "output_type": "stream",
     "text": [
      "\n",
      "We will attempt to validate the same and remove the data from our platform within 15 days on a best effort basis.\n",
      "Source\n",
      "If you are the copyright holder of this data and believe it should not be used on the platform, please send us an email to <span class=\"email\">optout@bhashini.gov.in</span><span class=\"tooltiptext\" id=\"myDataSourceTooltip\">Copy to clipboard</span> with evidence that you are indeed the copyright holder of this data.\n",
      "(No Username)\n",
      "Beta\n"
     ]
    }
   ],
   "source": [
    "with open('./as.json') as f:\n",
    "        data = json.load(f)\n",
    "for key,value in data.items():\n",
    "    if key==value:\n",
    "        \n",
    "        print(key)"
   ]
  },
  {
   "cell_type": "code",
   "execution_count": 15,
   "metadata": {},
   "outputs": [],
   "source": [
    "for key, value in en_data.items():\n",
    "    proper_key = re.sub(r\"\\s+\", \" \", key)\n",
    "    if proper_key !=key:\n",
    "        print(key)"
   ]
  },
  {
   "cell_type": "code",
   "execution_count": 36,
   "metadata": {},
   "outputs": [],
   "source": [
    "for lang_code, lang_name in languages:\n",
    "        \n",
    "    with open('./../../../crowdsource-ui/locales/{lang}.json'.format(lang=lang_code)) as f:\n",
    "        data = json.load(f)\n",
    "\n",
    "    data2 = data.copy()\n",
    "    \n",
    "    for key, value in data.items():\n",
    "        new_key, new_value = find_atag(key, value)\n",
    "        \n",
    "        if new_key is not None:\n",
    "            del data2[key]\n",
    "            data2[new_key] = new_value\n",
    "            if new_key not in en_data.keys():\n",
    "                del data2[new_key]\n",
    "\n",
    "    with open('./out/{lang}.json'.format(lang=lang_code), 'w') as f:\n",
    "        f.write(json.dumps(data2, indent = 4, ensure_ascii=False))"
   ]
  },
  {
   "cell_type": "code",
   "execution_count": 4,
   "metadata": {},
   "outputs": [],
   "source": [
    "from datetime import datetime\n",
    "import json\n",
    "def generate_report():\n",
    "    \n",
    "    now = datetime.now()\n",
    "\n",
    "    report = {}\n",
    "    report['last_run_timestamp'] = str(now)\n",
    "    report['keys_removed_from_all_files'] = list(set(removed_keys))\n",
    "\n",
    "    with open('report.json', 'w') as f:\n",
    "        f.write(json.dumps(report, indent = 4, ensure_ascii=False))"
   ]
  },
  {
   "cell_type": "code",
   "execution_count": 6,
   "metadata": {},
   "outputs": [],
   "source": [
    "removed_keys = []\n",
    "for lang_code, lang_name in languages:\n",
    "    path_to_json = '.'\n",
    "        \n",
    "    with open('./../../../crowdsource-ui/locales/{lang}.json'.format(lang=lang_code)) as f:\n",
    "        data = json.load(f)\n",
    "\n",
    "    data2 = data.copy()\n",
    "    \n",
    "    for key, value in data.items():\n",
    "        \n",
    "        if key not in en_data.keys():\n",
    "            del data2[key]\n",
    "            removed_keys.append(key)\n",
    "            \n",
    "    with open('./{lang}.json'.format(lang=lang_code), 'w') as f:\n",
    "        f.write(json.dumps(data2, indent = 4, ensure_ascii=False))\n",
    "    generate_report()"
   ]
  },
  {
   "cell_type": "code",
   "execution_count": null,
   "metadata": {},
   "outputs": [],
   "source": [
    "# Keys used from api\n",
    "key_list = [\n",
    "            'hrs recorded in',\n",
    "            'hrs validated in',\n",
    "            'hours',\n",
    "            'minutes',\n",
    "            'seconds',\n",
    "            'Recording for 5 seconds',\n",
    "            'Recording for 4 seconds',\n",
    "            'Recording for 3 seconds',\n",
    "            'Recording for 2 seconds',\n",
    "            'Recording for 1 seconds',\n",
    "            'Playingback Audio',\n",
    "            'Playing',\n",
    "            'Test Mic',\n",
    "            'Test Speakers',\n",
    "            'Congratulations!!! You have completed this batch of sentences',\n",
    "            'social sharing text with rank',\n",
    "            'social sharing text without rank',\n",
    "            'Level',\n",
    "            'Sentences',\n",
    "            'bronze',\n",
    "            'silver',\n",
    "            'gold',\n",
    "            'platinum',\n",
    "            'Bolo India',\n",
    "            'Suno India',\n",
    "            'Dekho India',\n",
    "            'Likho India',\n",
    "            'Recording',\n",
    "            'Labelling',\n",
    "            'Transcribing',\n",
    "            'Translating',\n",
    "            'Images',\n",
    "            'Validating',\n",
    "            'Telugu',\n",
    "            'Marathi',\n",
    "            'Tamil',\n",
    "            'Kannada',\n",
    "            'Malayalam',\n",
    "            'Odia',\n",
    "            'Assamese',\n",
    "            'Punjabi',\n",
    "            'Gujarati',\n",
    "            'Hindi',\n",
    "            'English',\n",
    "            'Bengali',\n",
    "            'All Languages'\n",
    "        ]"
   ]
  },
  {
   "cell_type": "code",
   "execution_count": null,
   "metadata": {},
   "outputs": [],
   "source": [
    "for lang_code, lang_name in languages:\n",
    "    \n",
    "    with open('./../../../crowdsource-ui/locales/{lang}.json'.format(lang=lang_code)) as f:\n",
    "        to_data = json.load(f)\n",
    "        \n",
    "    with open('./../../../crowdsource-api/locales/{lang}.json'.format(lang=lang_code)) as f:\n",
    "        from_data = json.load(f)\n",
    "\n",
    "\n",
    "    for key in key_list:\n",
    "        to_data[key] = from_data[key]\n",
    "        \n",
    "    with open('./{lang}.json'.format(lang=lang_code), 'w') as f:\n",
    "        f.write(json.dumps(to_data, indent = 4, ensure_ascii=False))"
   ]
  },
  {
   "cell_type": "code",
   "execution_count": null,
   "metadata": {},
   "outputs": [],
   "source": [
    "import re\n",
    "\n",
    "word = \"hello.  very good  morning\"\n",
    "word = word.replace('\\s+', '')\n",
    "word = re.sub(r\"\\s+\", \" \", word)\n",
    "word"
   ]
  },
  {
   "cell_type": "code",
   "execution_count": 34,
   "metadata": {},
   "outputs": [],
   "source": [
    "import re\n",
    "def findDuplicates(lang_code):\n",
    "    with open('./../../../crowdsource-ui/locales/{lang}.json'.format(lang=lang_code)) as f:\n",
    "         data = json.load(f)\n",
    "    keys = data.keys()\n",
    "    filtered_list = list(set(keys))\n",
    "#     print(lang_code, len(keys), len(filtered_list))\n",
    "    result=[]\n",
    "\n",
    "    marker = set()\n",
    "\n",
    "    for l in filtered_list:\n",
    "        l_lower = l.lower()\n",
    "        l_lower = re.sub(r\"\\s+\", \" \", l_lower)\n",
    "        if l_lower not in marker:   # test presence\n",
    "            marker.add(l_lower)\n",
    "            result.append(l)  \n",
    "    duplicates = list(set(keys)-set(result))\n",
    "#     print(lang_code, len(duplicates))\n",
    "    print(*duplicates, sep = '\\n')\n",
    "    "
   ]
  },
  {
   "cell_type": "code",
   "execution_count": null,
   "metadata": {
    "scrolled": true
   },
   "outputs": [],
   "source": [
    "findDuplicates('en')"
   ]
  },
  {
   "cell_type": "code",
   "execution_count": 35,
   "metadata": {},
   "outputs": [
    {
     "name": "stdout",
     "output_type": "stream",
     "text": [
      "SUNO INDIA\n",
      "Hindi\n",
      "Bolo India\n",
      "Your next goal is to reach <span id=\"next_badge_count\"></span> sentences to earn your <span id=\"next_badge_name_1\"></span>  Bhasha Samarthak Badge. <a href=\"../badges.html\">Know more</a>\n",
      "You’ve earned a  <span id=\"current_badge_name_1\"></span> Bhasha Samarthak Badge by validating <span id=\"current_badge_count\"></span> sentences.\n",
      "Dekho India\n",
      "Likho India\n",
      "SUBMIT\n",
      "ENGLISH\n",
      "SUNO INDIA\n",
      "Hindi\n",
      "Bolo India\n",
      "Your next goal is to reach <span id=\"next_badge_count\"></span> sentences to earn your <span id=\"next_badge_name_1\"></span>  Bhasha Samarthak Badge. <a href=\"../badges.html\">Know more</a>\n",
      "You’ve earned a  <span id=\"current_badge_name_1\"></span> Bhasha Samarthak Badge by validating <span id=\"current_badge_count\"></span> sentences.\n",
      "Dekho India\n",
      "Likho India\n",
      "SUBMIT\n",
      "ENGLISH\n",
      "SUNO INDIA\n",
      "Hindi\n",
      "Bolo India\n",
      "Your next goal is to reach <span id=\"next_badge_count\"></span> sentences to earn your <span id=\"next_badge_name_1\"></span>  Bhasha Samarthak Badge. <a href=\"../badges.html\">Know more</a>\n",
      "You’ve earned a  <span id=\"current_badge_name_1\"></span> Bhasha Samarthak Badge by validating <span id=\"current_badge_count\"></span> sentences.\n",
      "Dekho India\n",
      "Likho India\n",
      "SUBMIT\n",
      "ENGLISH\n",
      "SUNO INDIA\n",
      "Hindi\n",
      "Bolo India\n",
      "Your next goal is to reach <span id=\"next_badge_count\"></span> sentences to earn your <span id=\"next_badge_name_1\"></span>  Bhasha Samarthak Badge. <a href=\"../badges.html\">Know more</a>\n",
      "You’ve earned a  <span id=\"current_badge_name_1\"></span> Bhasha Samarthak Badge by validating <span id=\"current_badge_count\"></span> sentences.\n",
      "Dekho India\n",
      "Likho India\n",
      "SUBMIT\n",
      "ENGLISH\n",
      "SUNO INDIA\n",
      "Hindi\n",
      "Bolo India\n",
      "Your next goal is to reach <span id=\"next_badge_count\"></span> sentences to earn your <span id=\"next_badge_name_1\"></span>  Bhasha Samarthak Badge. <a href=\"../badges.html\">Know more</a>\n",
      "You’ve earned a  <span id=\"current_badge_name_1\"></span> Bhasha Samarthak Badge by validating <span id=\"current_badge_count\"></span> sentences.\n",
      "Dekho India\n",
      "Likho India\n",
      "SUBMIT\n",
      "ENGLISH\n",
      "SUNO INDIA\n",
      "Hindi\n",
      "Bolo India\n",
      "Your next goal is to reach <span id=\"next_badge_count\"></span> sentences to earn your <span id=\"next_badge_name_1\"></span>  Bhasha Samarthak Badge. <a href=\"../badges.html\">Know more</a>\n",
      "You’ve earned a  <span id=\"current_badge_name_1\"></span> Bhasha Samarthak Badge by validating <span id=\"current_badge_count\"></span> sentences.\n",
      "Dekho India\n",
      "Likho India\n",
      "SUBMIT\n",
      "ENGLISH\n",
      "SUNO INDIA\n",
      "Hindi\n",
      "Bolo India\n",
      "Your next goal is to reach <span id=\"next_badge_count\"></span> sentences to earn your <span id=\"next_badge_name_1\"></span>  Bhasha Samarthak Badge. <a href=\"../badges.html\">Know more</a>\n",
      "You’ve earned a  <span id=\"current_badge_name_1\"></span> Bhasha Samarthak Badge by validating <span id=\"current_badge_count\"></span> sentences.\n",
      "Dekho India\n",
      "Likho India\n",
      "SUBMIT\n",
      "ENGLISH\n",
      "SUNO INDIA\n",
      "Hindi\n",
      "Bolo India\n",
      "Your next goal is to reach <span id=\"next_badge_count\"></span> sentences to earn your <span id=\"next_badge_name_1\"></span>  Bhasha Samarthak Badge. <a href=\"../badges.html\">Know more</a>\n",
      "You’ve earned a  <span id=\"current_badge_name_1\"></span> Bhasha Samarthak Badge by validating <span id=\"current_badge_count\"></span> sentences.\n",
      "Dekho India\n",
      "Likho India\n",
      "SUBMIT\n",
      "ENGLISH\n",
      "SUNO INDIA\n",
      "Hindi\n",
      "Bolo India\n",
      "Your next goal is to reach <span id=\"next_badge_count\"></span> sentences to earn your <span id=\"next_badge_name_1\"></span>  Bhasha Samarthak Badge. <a href=\"../badges.html\">Know more</a>\n",
      "You’ve earned a  <span id=\"current_badge_name_1\"></span> Bhasha Samarthak Badge by validating <span id=\"current_badge_count\"></span> sentences.\n",
      "Dekho India\n",
      "Likho India\n",
      "SUBMIT\n",
      "ENGLISH\n",
      "SUNO INDIA\n",
      "Hindi\n",
      "Bolo India\n",
      "Your next goal is to reach <span id=\"next_badge_count\"></span> sentences to earn your <span id=\"next_badge_name_1\"></span>  Bhasha Samarthak Badge. <a href=\"../badges.html\">Know more</a>\n",
      "You’ve earned a  <span id=\"current_badge_name_1\"></span> Bhasha Samarthak Badge by validating <span id=\"current_badge_count\"></span> sentences.\n",
      "Dekho India\n",
      "Likho India\n",
      "SUBMIT\n",
      "ENGLISH\n",
      "SUNO INDIA\n",
      "Hindi\n",
      "Bolo India\n",
      "Your next goal is to reach <span id=\"next_badge_count\"></span> sentences to earn your <span id=\"next_badge_name_1\"></span>  Bhasha Samarthak Badge. <a href=\"../badges.html\">Know more</a>\n",
      "You’ve earned a  <span id=\"current_badge_name_1\"></span> Bhasha Samarthak Badge by validating <span id=\"current_badge_count\"></span> sentences.\n",
      "Dekho India\n",
      "Likho India\n",
      "SUBMIT\n",
      "ENGLISH\n"
     ]
    }
   ],
   "source": [
    "languages = [('hi', \"Hindi\"),('gu', \"Gujarati\"),('as', \"Assamese\"),('bn','Bengali'),('ta',\"Tamil\"),\n",
    "                 ('te',\"Telugu\"),('mr',\"Marathi\"),('pa',\"Punjabi\"),('ml',\"Malayalam\"),('or',\"Odia\"),('kn',\"Kannada\")]\n",
    "    \n",
    "for code, lang in languages:\n",
    "    findDuplicates(code)"
   ]
  },
  {
   "cell_type": "code",
   "execution_count": null,
   "metadata": {},
   "outputs": [],
   "source": []
  },
  {
   "cell_type": "code",
   "execution_count": null,
   "metadata": {},
   "outputs": [],
   "source": [
    "    \n",
    "    "
   ]
  },
  {
   "cell_type": "code",
   "execution_count": null,
   "metadata": {},
   "outputs": [],
   "source": []
  },
  {
   "cell_type": "code",
   "execution_count": null,
   "metadata": {},
   "outputs": [],
   "source": []
  }
 ],
 "metadata": {
  "kernelspec": {
   "display_name": "Python 3",
   "language": "python",
   "name": "python3"
  },
  "language_info": {
   "codemirror_mode": {
    "name": "ipython",
    "version": 3
   },
   "file_extension": ".py",
   "mimetype": "text/x-python",
   "name": "python",
   "nbconvert_exporter": "python",
   "pygments_lexer": "ipython3",
   "version": "3.8.5"
  }
 },
 "nbformat": 4,
 "nbformat_minor": 4
}
