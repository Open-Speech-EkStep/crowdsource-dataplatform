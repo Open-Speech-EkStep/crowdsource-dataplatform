{
 "cells": [
  {
   "cell_type": "code",
   "execution_count": 1,
   "metadata": {},
   "outputs": [],
   "source": [
    "\n",
    "import pandas as pd\n",
    "import openpyxl\n",
    "import json\n",
    "import os\n",
    "import re\n",
    "\n",
    "from pandas import ExcelWriter"
   ]
  },
  {
   "cell_type": "code",
   "execution_count": 15,
   "metadata": {},
   "outputs": [],
   "source": [
    "lang = 'Hindi'\n",
    "english_col = 'English copy'\n",
    "allowed_values = ['x','y','z']\n",
    "languages = [('mr','Marathi')]\n",
    "# languages = [('hi','Hindi'),('mr','Marathi'),('ta','Tamil'),('or','Odia'),('kn','Kannada'),('te','Telugu')\n",
    "# ,('gu','Gujarati'), ('bn','Bengali'),('pa','Punjabi'),('as','Assamese'),('ml','Malayalam'),]"
   ]
  },
  {
   "cell_type": "code",
   "execution_count": 3,
   "metadata": {},
   "outputs": [],
   "source": [
    "def readInputJsonAsDf(input_json_file):\n",
    "    with open(input_json_file) as f:\n",
    "                js = json.load(f)\n",
    "\n",
    "    out_df = pd.DataFrame(list(js.items()),\n",
    "                       columns=['Key', 'value'])        \n",
    "    out_df['Key_lower'] = out_df['Key'].str.lower()\n",
    "    return out_df"
   ]
  },
  {
   "cell_type": "code",
   "execution_count": 4,
   "metadata": {},
   "outputs": [],
   "source": [
    "def set_values(df_row):\n",
    "    if not(pd.notnull(df_row[lang])):\n",
    "        pass\n",
    "    else:\n",
    "        df_row['value'] = df_row[lang]\n",
    "    return df_row\n",
    "    "
   ]
  },
  {
   "cell_type": "code",
   "execution_count": 5,
   "metadata": {},
   "outputs": [],
   "source": [
    "def set_variables(df_row):\n",
    "    for value in allowed_values:\n",
    "        try:\n",
    "            if pd.notna(df_row[value]):\n",
    "                df_row[lang] = df_row[lang].replace('<'+ value + '>', df_row[value])\n",
    "                df_row['key'] = df_row['key'].replace('<'+ value + '>', df_row[value])\n",
    "        except:\n",
    "            pass\n",
    "    return df_row"
   ]
  },
  {
   "cell_type": "code",
   "execution_count": 6,
   "metadata": {},
   "outputs": [],
   "source": [
    "def reformat_json(json_obj):\n",
    "    json_dict = {}\n",
    "    for key, value in json_obj:\n",
    "        json_dict[key] = value\n",
    "    return json_dict"
   ]
  },
  {
   "cell_type": "code",
   "execution_count": 7,
   "metadata": {},
   "outputs": [],
   "source": [
    "def save_xls(list_dfs, xls_path):\n",
    "    with ExcelWriter(xls_path) as writer:\n",
    "        for n, df in enumerate(list_dfs):\n",
    "            df.to_excel(writer,languages[n][1])\n",
    "        writer.save()"
   ]
  },
  {
   "cell_type": "code",
   "execution_count": 8,
   "metadata": {},
   "outputs": [],
   "source": [
    "def getTranslationFromSheets(locale, translation_excel_files):\n",
    "    excelDf = pd.DataFrame([], columns=['Key', lang])\n",
    "    for excel_file_name in translation_excel_files:\n",
    "#         print(\"---------------\",excel_file_name, \"------------------\")\n",
    "        excel = pd.ExcelFile(locale + '/' + excel_file_name)\n",
    "\n",
    "        count = 0\n",
    "        for sheetName in excel.sheet_names:\n",
    "            sheet = excel.parse(sheet_name = sheetName, header=1)\n",
    "            if(len(sheet.columns) == 0):\n",
    "                continue\n",
    "#             print(sheetName, sheet.columns)\n",
    "            FORMAT = [english_col,lang]\n",
    "            for value in allowed_values:\n",
    "                if value in sheet.columns:\n",
    "                    FORMAT.append(value)\n",
    "            filteredSheet = sheet[FORMAT]\n",
    "            sheet_no_na = filteredSheet.dropna(subset = [english_col, lang], inplace=False)\n",
    "            sheet_new = sheet_no_na.rename(columns = {english_col: 'Key'}, inplace=False)\n",
    "            count += sheet_new.count()\n",
    "            excelDf = pd.concat([excelDf, sheet_new], axis=0)\n",
    "            \n",
    "    excelDf = excelDf.apply(set_variables, axis=1)\n",
    "    return excelDf"
   ]
  },
  {
   "cell_type": "code",
   "execution_count": 9,
   "metadata": {},
   "outputs": [],
   "source": [
    "def getAllTranslations():\n",
    "    \n",
    "\n",
    "    locales = languages\n",
    "    all_translations = pd.DataFrame()\n",
    "    langs_translations = []\n",
    "    for locale, language in locales:\n",
    "        global lang\n",
    "        lang = language\n",
    "        path_to_xl = './'+ locale\n",
    "        excel_files = sorted(os.listdir(path_to_xl))\n",
    "#         translation_excel_files = [pos_json for pos_json in excel_files if pos_json.endswith('.xlsx') and not pos_json.startswith('~')]\n",
    "        translation_excel_files = ['zlatest.xlsx']\n",
    "        \n",
    "        excelDf = getTranslationFromSheets(locale, translation_excel_files)\n",
    "        out_df = readInputJsonAsDf('./../../../crowdsource-ui/locales/{locale}.json'.format(locale=locale))\n",
    "    \n",
    "        filter_chars = [':','-']\n",
    "    \n",
    "        excelDf['Key_lower'] = excelDf['Key'].str.lower().str.strip()\n",
    "        excelDf[language] = excelDf[language].str.strip()\n",
    "        excelDf = excelDf.drop_duplicates(subset=['Key_lower'], keep='last')\n",
    "        excelDf.Key_lower=excelDf.Key_lower.apply(lambda x: re.sub(r' -$','',re.sub(r'^X ','',re.sub(r'^x ','',str(x)))))\n",
    "        excelDf[language]=excelDf[language].apply(lambda x: re.sub(r' -$','',re.sub(r'^X ','',re.sub(r'^x ','',str(x)))))\n",
    "\n",
    "        \n",
    "        out_df['Key_lower'] = out_df['Key'].str.lower().str.strip()\n",
    "        \n",
    "        \n",
    "        excelDf_dropped = excelDf.drop_duplicates(subset=['Key_lower'], keep='first')\n",
    "        out_df_dropped = out_df.drop_duplicates(subset=['Key'], keep='first')\n",
    "        \n",
    "        lang_translations = pd.DataFrame()\n",
    "        lang_translations = lang_translations.append(excelDf_dropped[['Key',language]])\n",
    "#         lang_translations = lang_translations.rename(columns = {\"Key\": language+'_key'}, inplace=False)\n",
    "#         lang_translations = lang_translations.rename(columns = {language: language+'_value'}, inplace=False)\n",
    "        \n",
    "        all_translations = all_translations.append(lang_translations)\n",
    "        \n",
    "        merged_df = pd.merge(excelDf_dropped, out_df_dropped, on=\"Key_lower\", how='right')\n",
    "        new_trans = pd.merge(excelDf_dropped, out_df_dropped, on=\"Key_lower\", how='inner')\n",
    "\n",
    "        merged_df = merged_df.apply(set_values, axis = 1)\n",
    "\n",
    "        select_columns = ['Key_y', 'value']\n",
    "\n",
    "        filtered_merged_df = merged_df[select_columns]\n",
    "\n",
    "        final_df = filtered_merged_df.drop_duplicates(subset='Key_y', keep='first', inplace=False)\n",
    "        print(new_trans.shape)\n",
    "\n",
    "        jsonFile = final_df.to_json(orient='values')\n",
    "        jsonFile = json.loads(jsonFile)\n",
    "        \n",
    "        final_final_json = reformat_json(jsonFile)\n",
    "        \n",
    "        output_json_file = locale + '.json'\n",
    "        langs_translations.append(lang_translations)\n",
    "\n",
    "        with open(output_json_file, 'w') as f:\n",
    "            f.write(json.dumps(final_final_json, indent = 4, ensure_ascii=False))\n",
    "#     save_xls(langs_translations,'./allTrans.xlsx')\n",
    "\n",
    "    return all_translations\n"
   ]
  },
  {
   "cell_type": "code",
   "execution_count": 16,
   "metadata": {},
   "outputs": [
    {
     "name": "stdout",
     "output_type": "stream",
     "text": [
      "(25, 5)\n"
     ]
    }
   ],
   "source": [
    "all = getAllTranslations()\n",
    "# all.head()"
   ]
  },
  {
   "cell_type": "code",
   "execution_count": null,
   "metadata": {},
   "outputs": [],
   "source": [
    "all"
   ]
  },
  {
   "cell_type": "code",
   "execution_count": null,
   "metadata": {},
   "outputs": [],
   "source": []
  },
  {
   "cell_type": "code",
   "execution_count": null,
   "metadata": {},
   "outputs": [],
   "source": [
    "def findKeysWithoutTranslation(lang):\n",
    "    with open('./../../../crowdsource-ui/locales/{lang}.json'.format(lang=lang)) as f:\n",
    "        js = json.load(f)\n",
    "    \n",
    "    keys_list = []\n",
    "    total = 0\n",
    "    for key, value in js.items():\n",
    "        total+=1\n",
    "        if key == value:\n",
    "            keys_list.append(key)\n",
    "#     print(len(keys_list))\n",
    "    return total, keys_list"
   ]
  },
  {
   "cell_type": "code",
   "execution_count": null,
   "metadata": {},
   "outputs": [],
   "source": [
    "languages = ['hi','gu','as','bn','ta','te','mr','pa','ml','or','kn','en']\n",
    "for lang_code in languages:\n",
    "    total, val = findKeysWithoutTranslation(lang_code)\n",
    "    print(lang_code, len(val))"
   ]
  },
  {
   "cell_type": "code",
   "execution_count": null,
   "metadata": {},
   "outputs": [],
   "source": [
    "keys_without_translation = pd.DataFrame()\n",
    "for lang_code, language in languages:\n",
    "    lang_list = findKeysWithoutTranslation(lang_code)\n",
    "    keys_without_translation[language+'_key'] = pd.Series(lang_list)\n",
    "\n",
    "keys_without_translation.head()\n",
    "# keys_without_translation[keys_without_translation['Tamil_key']=='image label(s)  contributed']"
   ]
  },
  {
   "cell_type": "code",
   "execution_count": null,
   "metadata": {},
   "outputs": [],
   "source": [
    "import re\n",
    "count = 0\n",
    "checkCount = 0\n",
    "for key, value in jsonFile:\n",
    "    x = re.search(\"^[\\u0020-\\u007F]+$\", value)\n",
    "    count += 1\n",
    "    if x:\n",
    "      checkCount += 1\n",
    "print(count, checkCount)"
   ]
  },
  {
   "cell_type": "code",
   "execution_count": null,
   "metadata": {},
   "outputs": [],
   "source": [
    "def validateAndPrintResult(locale,lang, translation_excel_files):\n",
    "    for excel_file_name in translation_excel_files:\n",
    "        print(\"---------------\",excel_file_name, \"------------------\")\n",
    "        excel = pd.ExcelFile(locale + '/' + excel_file_name)\n",
    "        for sheetName in excel.sheet_names:\n",
    "            sheet = excel.parse(sheet_name = sheetName, header=1)\n",
    "            FORMAT = ['English copy',lang]\n",
    "            for value in allowed_values:\n",
    "                if value in sheet.columns:\n",
    "                    FORMAT.append(value)\n",
    "            if 'English copy' not in sheet.columns:\n",
    "                print('{} does not have English copy or C in copy is in caps'.format(sheetName))\n",
    "            if lang not in sheet.columns:\n",
    "                print('{} does not have {} column or has some hidden sheet(If so, unhide and delete it).'.format(sheetName, lang))"
   ]
  },
  {
   "cell_type": "code",
   "execution_count": null,
   "metadata": {},
   "outputs": [],
   "source": [
    "locale = 'kn'\n",
    "path_to_xl= './'+ locale\n",
    "excel_files = sorted(os.listdir(path_to_xl))\n",
    "translation_excel_files = [pos_json for pos_json in excel_files if pos_json.endswith('.xlsx') and not pos_json.startswith('~')]\n",
    "validateAndPrintResult(locale,'Kannada', translation_excel_files)\n"
   ]
  }
 ],
 "metadata": {
  "kernelspec": {
   "display_name": "Python 3",
   "language": "python",
   "name": "python3"
  },
  "language_info": {
   "codemirror_mode": {
    "name": "ipython",
    "version": 3
   },
   "file_extension": ".py",
   "mimetype": "text/x-python",
   "name": "python",
   "nbconvert_exporter": "python",
   "pygments_lexer": "ipython3",
   "version": "3.7.10"
  }
 },
 "nbformat": 4,
 "nbformat_minor": 4
}
