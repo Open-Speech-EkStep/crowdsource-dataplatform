{
 "cells": [
  {
   "cell_type": "code",
   "execution_count": 1,
   "metadata": {},
   "outputs": [],
   "source": [
    "\n",
    "import pandas as pd\n",
    "import openpyxl\n",
    "import json\n",
    "import os\n"
   ]
  },
  {
   "cell_type": "code",
   "execution_count": 3,
   "metadata": {},
   "outputs": [],
   "source": [
    "lang = 'Hindi'\n",
    "english_col = 'English copy'\n",
    "allowed_values = ['x','y','z']"
   ]
  },
  {
   "cell_type": "code",
   "execution_count": 4,
   "metadata": {},
   "outputs": [],
   "source": [
    "def readInputJsonAsDf(input_json_file):\n",
    "    with open(input_json_file) as f:\n",
    "                js = json.load(f)\n",
    "\n",
    "    out_df = pd.DataFrame(list(js.items()),\n",
    "                       columns=['Key', 'value'])        \n",
    "    out_df['Key_lower'] = out_df['Key'].str.lower()\n",
    "    return out_df"
   ]
  },
  {
   "cell_type": "code",
   "execution_count": 5,
   "metadata": {},
   "outputs": [],
   "source": [
    "def set_values(df_row):\n",
    "    if not(pd.notnull(df_row[lang])):\n",
    "        pass\n",
    "    else:\n",
    "        df_row['value'] = df_row[lang]\n",
    "    return df_row\n",
    "    "
   ]
  },
  {
   "cell_type": "code",
   "execution_count": 6,
   "metadata": {},
   "outputs": [],
   "source": [
    "def set_variables(df_row):\n",
    "    for value in allowed_values:\n",
    "        try:\n",
    "            if pd.notna(df_row[value]):\n",
    "                df_row[lang] = df_row[lang].replace('<'+ value + '>', df_row[value])\n",
    "                df_row['key'] = df_row['key'].replace('<'+ value + '>', df_row[value])\n",
    "        except:\n",
    "            pass\n",
    "    return df_row"
   ]
  },
  {
   "cell_type": "code",
   "execution_count": 7,
   "metadata": {},
   "outputs": [],
   "source": [
    "def reformat_json(json_obj):\n",
    "    json_dict = {}\n",
    "    for key, value in json_obj:\n",
    "        json_dict[key] = value\n",
    "    return json_dict"
   ]
  },
  {
   "cell_type": "code",
   "execution_count": 8,
   "metadata": {},
   "outputs": [],
   "source": [
    "def getTranslationFromSheets(locale, translation_excel_files):\n",
    "    excelDf = pd.DataFrame([], columns=['Key', lang])\n",
    "    for excel_file_name in translation_excel_files:\n",
    "#         print(\"---------------\",excel_file_name, \"------------------\")\n",
    "        excel = pd.ExcelFile(locale + '/' + excel_file_name)\n",
    "\n",
    "        count = 0\n",
    "        for sheetName in excel.sheet_names:\n",
    "            sheet = excel.parse(sheet_name = sheetName, header=1)\n",
    "            if(len(sheet.columns) == 0):\n",
    "                continue\n",
    "#             print(sheetName, sheet.columns)\n",
    "            FORMAT = [english_col,lang]\n",
    "            for value in allowed_values:\n",
    "                if value in sheet.columns:\n",
    "                    FORMAT.append(value)\n",
    "            filteredSheet = sheet[FORMAT]\n",
    "            sheet_no_na = filteredSheet.dropna(subset = [english_col, lang], inplace=False)\n",
    "            sheet_new = sheet_no_na.rename(columns = {english_col: 'Key'}, inplace=False)\n",
    "            count += sheet_new.count()\n",
    "            excelDf = pd.concat([excelDf, sheet_new], axis=0)\n",
    "            \n",
    "    excelDf = excelDf.apply(set_variables, axis=1)\n",
    "    return excelDf"
   ]
  },
  {
   "cell_type": "code",
   "execution_count": 18,
   "metadata": {},
   "outputs": [],
   "source": [
    "def getAllTranslations():\n",
    "#     ('ta','Tamil')('te','Telugu') ('pa','Punjabi'),('mr','Marathi'),('be','Bengali')\n",
    "    locales = [('hi','Hindi')]\n",
    "    allTranslations = pd.DataFrame()\n",
    "    for locale, language in locales:\n",
    "        global lang\n",
    "        lang = language\n",
    "        path_to_xl = './'+ locale\n",
    "        excel_files = sorted(os.listdir(path_to_xl))\n",
    "        translation_excel_files = [pos_json for pos_json in excel_files if pos_json.endswith('.xlsx') and not pos_json.startswith('~')]\n",
    "        \n",
    "        excelDf = getTranslationFromSheets(locale, translation_excel_files)\n",
    "        out_df = readInputJsonAsDf('./../../../crowdsource-ui/locales/{locale}.json'.format(locale=locale))\n",
    "            \n",
    "        excelDf['Key_lower'] = excelDf['Key'].str.lower().str.strip()\n",
    "        out_df['Key_lower'] = out_df['Key'].str.lower().str.strip()\n",
    "        \n",
    "        excelDf = excelDf.drop_duplicates(subset=['Key_lower'], keep='last')\n",
    "        \n",
    "        excelDf_dropped = excelDf.drop_duplicates(subset=['Key_lower'], keep='first')\n",
    "        out_df_dropped = out_df.drop_duplicates(subset=['Key'], keep='first')\n",
    "#         print(excelDf_dropped[excelDf_dropped['Key'].duplicated()])\n",
    "#         allTranslations[locale+'_key'] = excelDf_dropped['Key']\n",
    "#         allTranslations[locale+'_value']=excelDf_dropped[language]\n",
    "        \n",
    "        \n",
    "        merged_df = pd.merge(excelDf_dropped, out_df_dropped, on=\"Key_lower\", how='right')\n",
    "\n",
    "        merged_df = merged_df.apply(set_values, axis = 1)\n",
    "\n",
    "        select_columns = ['Key_y', 'value']\n",
    "\n",
    "        filtered_merged_df = merged_df[select_columns]\n",
    "\n",
    "        final_df = filtered_merged_df.drop_duplicates(subset='Key_y', keep='first', inplace=False)\n",
    "\n",
    "        jsonFile = final_df.to_json(orient='values')\n",
    "        jsonFile = json.loads(jsonFile)\n",
    "        \n",
    "        final_final_json = reformat_json(jsonFile)\n",
    "        \n",
    "        output_json_file = locale + '.json'\n",
    "\n",
    "        with open(output_json_file, 'w') as f:\n",
    "            f.write(json.dumps(final_final_json, indent = 4, ensure_ascii=False))\n",
    "    return allTranslations\n"
   ]
  },
  {
   "cell_type": "code",
   "execution_count": 19,
   "metadata": {},
   "outputs": [
    {
     "data": {
      "text/html": [
       "<div>\n",
       "<style scoped>\n",
       "    .dataframe tbody tr th:only-of-type {\n",
       "        vertical-align: middle;\n",
       "    }\n",
       "\n",
       "    .dataframe tbody tr th {\n",
       "        vertical-align: top;\n",
       "    }\n",
       "\n",
       "    .dataframe thead th {\n",
       "        text-align: right;\n",
       "    }\n",
       "</style>\n",
       "<table border=\"1\" class=\"dataframe\">\n",
       "  <thead>\n",
       "    <tr style=\"text-align: right;\">\n",
       "      <th></th>\n",
       "    </tr>\n",
       "  </thead>\n",
       "  <tbody>\n",
       "  </tbody>\n",
       "</table>\n",
       "</div>"
      ],
      "text/plain": [
       "Empty DataFrame\n",
       "Columns: []\n",
       "Index: []"
      ]
     },
     "execution_count": 19,
     "metadata": {},
     "output_type": "execute_result"
    }
   ],
   "source": [
    "all = getAllTranslations()\n",
    "all.head()"
   ]
  },
  {
   "cell_type": "code",
   "execution_count": null,
   "metadata": {},
   "outputs": [],
   "source": [
    "## Test Block"
   ]
  },
  {
   "cell_type": "code",
   "execution_count": null,
   "metadata": {},
   "outputs": [],
   "source": [
    "locale = 'hi'\n",
    "path_to_xl = './'+ locale\n",
    "excel_files = sorted(os.listdir(path_to_xl))\n",
    "translation_excel_files = [pos_json for pos_json in excel_files if pos_json.endswith('.xlsx') and not pos_json.startswith('~')]\n",
    "\n",
    "excelDf = getTranslationFromSheets(locale, translation_excel_files)\n",
    "out_df = readInputJsonAsDf('./../../../crowdsource-ui/locales/{locale}.json'.format(locale=locale))\n",
    "\n",
    "excelDf['Key_lower'] = excelDf['Key'].str.lower().str.strip()\n",
    "out_df['Key_lower'] = out_df['Key'].str.lower().str.strip()\n",
    "\n",
    "excelDf = excelDf.drop_duplicates(subset=['Key_lower'], keep='last')\n",
    "\n",
    "excelDf_dropped = excelDf.drop_duplicates(subset=['Key_lower'], keep='first')\n",
    "out_df_dropped = out_df.drop_duplicates(subset=['Key'], keep='first')\n",
    "\n",
    "\n",
    "merged_df = pd.merge(excelDf_dropped, out_df_dropped, on=\"Key_lower\", how='right')\n",
    "\n",
    "merged_df = merged_df.apply(set_values, axis = 1)\n",
    "\n",
    "select_columns = ['Key_y', 'value']\n",
    "\n",
    "filtered_merged_df = merged_df[select_columns]\n",
    "\n",
    "final_df = filtered_merged_df.drop_duplicates(subset='Key_y', keep='first', inplace=False)\n",
    "\n",
    "jsonFile = final_df.to_json(orient='values')\n",
    "jsonFile = json.loads(jsonFile)\n",
    "\n",
    "final_final_json = reformat_json(jsonFile)\n",
    "\n",
    "output_json_file = locale + '.json'\n",
    "\n",
    "# with open(output_json_file, 'w') as f:\n",
    "#     f.write(json.dumps(final_final_json, indent = 4, ensure_ascii=False))\n"
   ]
  },
  {
   "cell_type": "code",
   "execution_count": null,
   "metadata": {},
   "outputs": [],
   "source": [
    "import re\n",
    "count = 0\n",
    "checkCount = 0\n",
    "for key, value in jsonFile:\n",
    "    x = re.search(\"^[\\u0020-\\u007F]+$\", value)\n",
    "    count += 1\n",
    "    if x:\n",
    "      checkCount += 1\n",
    "print(count, checkCount)"
   ]
  },
  {
   "cell_type": "code",
   "execution_count": 11,
   "metadata": {},
   "outputs": [],
   "source": [
    "def validateAndPrintResult(locale,lang, translation_excel_files):\n",
    "    for excel_file_name in translation_excel_files:\n",
    "        print(\"---------------\",excel_file_name, \"------------------\")\n",
    "        excel = pd.ExcelFile(locale + '/' + excel_file_name)\n",
    "        for sheetName in excel.sheet_names:\n",
    "            sheet = excel.parse(sheet_name = sheetName, header=1)\n",
    "            FORMAT = ['English copy',lang]\n",
    "            for value in allowed_values:\n",
    "                if value in sheet.columns:\n",
    "                    FORMAT.append(value)\n",
    "            if 'English copy' not in sheet.columns:\n",
    "                print('{} does not have English copy or C in copy is in caps'.format(sheetName))\n",
    "            if lang not in sheet.columns:\n",
    "                print('{} does not have {} column or has some hidden sheet(If so, unhide and delete it).'.format(sheetName, lang))"
   ]
  },
  {
   "cell_type": "code",
   "execution_count": 15,
   "metadata": {},
   "outputs": [
    {
     "name": "stdout",
     "output_type": "stream",
     "text": [
      "--------------- a.xlsx ------------------\n",
      "--------------- b.xlsx ------------------\n",
      "--------------- c.xlsx ------------------\n",
      "--------------- d.xlsx ------------------\n",
      "--------------- e.xlsx ------------------\n",
      "--------------- f.xlsx ------------------\n",
      "--------------- g.xlsx ------------------\n",
      "--------------- h.xlsx ------------------\n",
      "--------------- i.xlsx ------------------\n",
      "--------------- j.xlsx ------------------\n",
      "--------------- k.xlsx ------------------\n",
      "--------------- l.xlsx ------------------\n",
      "--------------- m.xlsx ------------------\n",
      "--------------- n.xlsx ------------------\n",
      "--------------- o.xlsx ------------------\n",
      "Delta 2 does not have Gujarati column or has some hidden sheet(If so, unhide and delete it).\n",
      "--------------- p.xlsx ------------------\n",
      "Delta does not have Gujarati column or has some hidden sheet(If so, unhide and delete it).\n",
      "--------------- q.xlsx ------------------\n",
      "Delta 2 does not have Gujarati column or has some hidden sheet(If so, unhide and delete it).\n",
      "--------------- r.xlsx ------------------\n",
      "--------------- s.xlsx ------------------\n"
     ]
    }
   ],
   "source": [
    "locale = 'gu'\n",
    "path_to_xl = './'+ locale\n",
    "excel_files = sorted(os.listdir(path_to_xl))\n",
    "translation_excel_files = [pos_json for pos_json in excel_files if pos_json.endswith('.xlsx') and not pos_json.startswith('~')]\n",
    "validateAndPrintResult(locale,'Gujarati', translation_excel_files)\n"
   ]
  }
 ],
 "metadata": {
  "kernelspec": {
   "display_name": "Python 3",
   "language": "python",
   "name": "python3"
  },
  "language_info": {
   "codemirror_mode": {
    "name": "ipython",
    "version": 3
   },
   "file_extension": ".py",
   "mimetype": "text/x-python",
   "name": "python",
   "nbconvert_exporter": "python",
   "pygments_lexer": "ipython3",
   "version": "3.8.5"
  }
 },
 "nbformat": 4,
 "nbformat_minor": 4
}
