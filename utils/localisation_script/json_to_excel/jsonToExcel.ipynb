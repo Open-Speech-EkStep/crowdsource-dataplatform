{
 "cells": [
  {
   "cell_type": "code",
   "execution_count": null,
   "metadata": {},
   "outputs": [],
   "source": [
    "import pandas as pd\n",
    "import openpyxl\n",
    "import json\n",
    "import os\n",
    "import re\n",
    "\n",
    "input_json_file = 'sample/en.json'\n",
    "out_excel_file = 'hi/hi_edited.xlsx'\n",
    "# translation_excel_file = ['sample/sample.xlsx']"
   ]
  },
  {
   "cell_type": "code",
   "execution_count": null,
   "metadata": {},
   "outputs": [],
   "source": [
    "# this finds our json files\n",
    "path_to_json = './hi'\n",
    "translation_excel_file = [pos_json for pos_json in os.listdir(path_to_json) if pos_json.endswith('.xlsx')]\n"
   ]
  },
  {
   "cell_type": "code",
   "execution_count": null,
   "metadata": {},
   "outputs": [],
   "source": [
    "with open(input_json_file) as f:\n",
    "    js = json.load(f)"
   ]
  },
  {
   "cell_type": "code",
   "execution_count": null,
   "metadata": {},
   "outputs": [],
   "source": [
    "out_df = pd.DataFrame(list(js.items()),\n",
    "                   columns=['Key', 'To be Translated'])"
   ]
  },
  {
   "cell_type": "code",
   "execution_count": null,
   "metadata": {},
   "outputs": [],
   "source": [
    "out_df['Key']"
   ]
  },
  {
   "cell_type": "code",
   "execution_count": null,
   "metadata": {},
   "outputs": [],
   "source": [
    "out_df[\"Key\"].to_excel('tran.xlsx')"
   ]
  },
  {
   "cell_type": "code",
   "execution_count": null,
   "metadata": {},
   "outputs": [],
   "source": [
    "lang = 'Hindi'\n",
    "english_col = 'English copy'\n",
    "allowed_values = ['x','y','z']"
   ]
  },
  {
   "cell_type": "code",
   "execution_count": null,
   "metadata": {},
   "outputs": [],
   "source": [
    "excelDf = pd.DataFrame([], columns=['Key', lang])\n",
    "for excel_file_name in translation_excel_file:\n",
    "    print(excel_file_name)\n",
    "    excel = pd.ExcelFile('hi/'+excel_file_name)\n",
    "    \n",
    "    count = 0\n",
    "    for sheetName in excel.sheet_names:\n",
    "        sheet = excel.parse(sheet_name = sheetName, header=1)\n",
    "        print(sheet.columns)\n",
    "        FORMAT = [english_col,lang]\n",
    "        for value in allowed_values:\n",
    "            if value in sheet.columns:\n",
    "                FORMAT.append(value)\n",
    "        filteredSheet = sheet[FORMAT]\n",
    "        sheet_no_na = filteredSheet.dropna(subset = [english_col, lang], inplace=False)\n",
    "        sheet_new = sheet_no_na.rename(columns = {english_col: 'Key'}, inplace=False)\n",
    "        count += sheet_new.count()\n",
    "        excelDf = pd.concat([excelDf, sheet_new], axis=0)"
   ]
  },
  {
   "cell_type": "code",
   "execution_count": null,
   "metadata": {},
   "outputs": [],
   "source": [
    "excelDf['Key_lower'] = excelDf['Key'].str.lower()\n",
    "out_df['Key_lower'] = out_df['Key'].str.lower()"
   ]
  },
  {
   "cell_type": "code",
   "execution_count": null,
   "metadata": {},
   "outputs": [],
   "source": [
    "excelDf_dropped = excelDf.drop_duplicates(subset=['Key_lower'], keep='first')\n",
    "out_df_dropped = out_df.drop_duplicates(subset=['Key'], keep='first')"
   ]
  },
  {
   "cell_type": "code",
   "execution_count": null,
   "metadata": {},
   "outputs": [],
   "source": [
    "df_diff = pd.merge(out_df_dropped, excelDf_dropped, on=\"Key_lower\",how='left')"
   ]
  },
  {
   "cell_type": "code",
   "execution_count": null,
   "metadata": {},
   "outputs": [],
   "source": [
    "df_diff = df_diff.drop_duplicates(subset=['Key_x'], keep='first')"
   ]
  },
  {
   "cell_type": "code",
   "execution_count": null,
   "metadata": {},
   "outputs": [],
   "source": [
    "df_diff = df_diff[['Key_x', 'To be Translated', lang]]"
   ]
  },
  {
   "cell_type": "code",
   "execution_count": null,
   "metadata": {},
   "outputs": [],
   "source": [
    "df_diff_a = df_diff[df_diff[lang].isna()]"
   ]
  },
  {
   "cell_type": "code",
   "execution_count": null,
   "metadata": {},
   "outputs": [],
   "source": [
    "df_diff[df_diff[lang].isna()].count()"
   ]
  },
  {
   "cell_type": "code",
   "execution_count": null,
   "metadata": {},
   "outputs": [],
   "source": [
    "df_diff_a = df_diff_a.rename(columns = {'Key_x': 'Key'}, inplace=False)"
   ]
  },
  {
   "cell_type": "code",
   "execution_count": null,
   "metadata": {},
   "outputs": [],
   "source": [
    "df_diff_a.to_excel(out_excel_file)"
   ]
  },
  {
   "cell_type": "code",
   "execution_count": null,
   "metadata": {},
   "outputs": [],
   "source": []
  },
  {
   "cell_type": "code",
   "execution_count": null,
   "metadata": {},
   "outputs": [],
   "source": [
    "excelDf = pd.DataFrame([], columns=['Key', lang])\n",
    "for excel_file_name in translation_excel_file:\n",
    "    excel = pd.ExcelFile('hi/'+excel_file_name)\n",
    "    print(excel_file_name)\n",
    "    count = 0\n",
    "    for sheetName in excel.sheet_names:\n",
    "        sheet = excel.parse(sheet_name = sheetName, header=1)\n",
    "        FORMAT = [english_col,lang]\n",
    "        print(sheet.columns)\n",
    "        for value in allowed_values:\n",
    "            if value in sheet.columns:\n",
    "                FORMAT.append(value)\n",
    "        filteredSheet = sheet[FORMAT]\n",
    "        sheet_no_na = filteredSheet.dropna(subset = [english_col, lang], inplace=False)\n",
    "        sheet_new = sheet_no_na.rename(columns = {english_col: 'Key'}, inplace=False)\n",
    "        count += sheet_new.count()\n",
    "        excelDf = pd.concat([excelDf, sheet_new], axis=0)"
   ]
  },
  {
   "cell_type": "raw",
   "metadata": {},
   "source": []
  },
  {
   "cell_type": "code",
   "execution_count": null,
   "metadata": {},
   "outputs": [],
   "source": [
    "excelDf.to_excel('allHindi.xlsx')"
   ]
  },
  {
   "cell_type": "code",
   "execution_count": null,
   "metadata": {},
   "outputs": [],
   "source": [
    "def getKeysWithTranslation(lang):\n",
    "    with open(lang+\"/\"+lang+\".json\") as f:\n",
    "        js = json.load(f)\n",
    "    \n",
    "    keys_list = []\n",
    "    for key, value in js.items():\n",
    "        if key != value:\n",
    "            keys_list.append(key)\n",
    "    return keys_list\n",
    "    "
   ]
  },
  {
   "cell_type": "code",
   "execution_count": null,
   "metadata": {},
   "outputs": [],
   "source": [
    "getKeysWithTranslation('hi')"
   ]
  },
  {
   "cell_type": "code",
   "execution_count": null,
   "metadata": {},
   "outputs": [],
   "source": []
  },
  {
   "cell_type": "code",
   "execution_count": null,
   "metadata": {},
   "outputs": [],
   "source": [
    "##--------- NEW CODE FOR TRANSLATION GENERATION ------"
   ]
  },
  {
   "cell_type": "code",
   "execution_count": 44,
   "metadata": {},
   "outputs": [],
   "source": [
    "import pandas as pd\n",
    "import openpyxl\n",
    "import json\n",
    "import os\n",
    "import re\n",
    "from pandas import ExcelWriter\n",
    "import xlwt"
   ]
  },
  {
   "cell_type": "code",
   "execution_count": 45,
   "metadata": {},
   "outputs": [],
   "source": [
    "\n",
    "def findKeysWithoutTranslation(lang):\n",
    "    with open('./../../../crowdsource-ui/locales/{lang}.json'.format(lang=lang)) as f:\n",
    "        js = json.load(f)\n",
    "    \n",
    "    keys_without_translation = []\n",
    "    for key, value in js.items():\n",
    "        if key == value and value :\n",
    "            keys_without_translation.append(key)\n",
    "    return keys_without_translation"
   ]
  },
  {
   "cell_type": "code",
   "execution_count": 46,
   "metadata": {},
   "outputs": [],
   "source": [
    "def getAllKeys(lang):\n",
    "    with open('./../../../crowdsource-ui/locales/{lang}.json'.format(lang=lang)) as f:\n",
    "        data = json.load(f)\n",
    "    return data"
   ]
  },
  {
   "cell_type": "code",
   "execution_count": 47,
   "metadata": {},
   "outputs": [],
   "source": [
    "def extract_tags(text):\n",
    "    allowed_replacements = [\"x\", \"y\", \"z\", \"u\",\"v\",\"w\", \"a-tag-replacement\"]\n",
    "    regex = r\"<(\\S*?)[^>]*>.*?<\\/\\1>|<.*?\\/>\"\n",
    "    out_txt = text\n",
    "    matches = re.finditer(regex, out_txt, re.MULTILINE)\n",
    "    index = 0\n",
    "    matched_tags_dict = {}\n",
    "    for match in matches:\n",
    "        matched_tag = match.group()\n",
    "        if \"<b>\" in matched_tag:\n",
    "            continue\n",
    "        if \"<a\" in matched_tag:\n",
    "            attrs = matched_tag[matched_tag.find('<a')+2: matched_tag.find('>')]\n",
    "            matched_tag_replacement = matched_tag.replace(attrs,\"\")\n",
    "            out_txt = out_txt.replace(matched_tag, matched_tag_replacement)\n",
    "            matched_tags_dict['a-tag-replacement'] = attrs\n",
    "        else:\n",
    "            replacement = allowed_replacements[index]\n",
    "            out_txt = out_txt.replace(matched_tag, '<{}>'.format(replacement))\n",
    "            index+=1\n",
    "            matched_tags_dict[replacement] = matched_tag\n",
    "    return out_txt , matched_tags_dict"
   ]
  },
  {
   "cell_type": "code",
   "execution_count": 48,
   "metadata": {},
   "outputs": [],
   "source": [
    "def save_xls(list_dfs, xls_path):\n",
    "    with ExcelWriter(xls_path) as writer:\n",
    "        for lang_code, lang_df in list_dfs.items():\n",
    "            lang_df.to_excel(writer,lang_code)\n",
    "        writer.save()\n",
    "    print('done')"
   ]
  },
  {
   "cell_type": "code",
   "execution_count": 6,
   "metadata": {},
   "outputs": [],
   "source": [
    "def get_text_from_html_tags(tag):\n",
    "    regex = r\"<(\\S*?)[^>]*>(.*?)<\\/\\1>\"\n",
    "    out_tag = tag\n",
    "    matches = re.finditer(regex, out_tag, re.MULTILINE)\n",
    "    string_matches = set()\n",
    "    for match in matches:\n",
    "        match_group_length = len(match.groups())\n",
    "        if match_group_length>1 and len(match.group(2)) != 0:\n",
    "            string_matches.add(match.group(2).strip())\n",
    "    return string_matches"
   ]
  },
  {
   "cell_type": "code",
   "execution_count": 55,
   "metadata": {},
   "outputs": [],
   "source": [
    "def get_dict_for_data(key, text, extracted_tags):\n",
    "    out_dict = {}\n",
    "#     out_dict[\"Actual key\"] = [key]\n",
    "    out_dict[\"English copy\"] = [text]\n",
    "    \n",
    "#     out_dict[\"Comments\"] = [\"\"]\n",
    "        \n",
    "#     for replacement in sorted (extracted_tags.keys()):\n",
    "#         out_dict[replacement] = [extracted_tags[replacement]]\n",
    "    return out_dict"
   ]
  },
  {
   "cell_type": "code",
   "execution_count": 56,
   "metadata": {},
   "outputs": [],
   "source": [
    "def get_dict_for_meta_sheet(key, text, extracted_tags):\n",
    "    out_dict = {}\n",
    "    out_dict[\"Actual key\"] = [key]\n",
    "    out_dict[\"English copy\"] = [text]\n",
    "        \n",
    "    for replacement in sorted (extracted_tags.keys()):\n",
    "        out_dict[replacement] = [extracted_tags[replacement]]\n",
    "    return out_dict"
   ]
  },
  {
   "cell_type": "code",
   "execution_count": 82,
   "metadata": {},
   "outputs": [],
   "source": [
    "def create_meta_file():\n",
    "    lang_code='en'\n",
    "    lang_name='English'\n",
    "    all_dfs = {}\n",
    "    lang_df = pd.DataFrame([], columns=[])\n",
    "    \n",
    "    lang_data = getAllKeys(lang_code)\n",
    "    for key in lang_data.keys():\n",
    "        processed_text, extracted_tags = extract_tags(lang_data[key])\n",
    "    \n",
    "        data_dict = get_dict_for_meta_sheet(key, processed_text, extracted_tags)\n",
    "    \n",
    "        try:\n",
    "            tmp_df = pd.DataFrame.from_dict(data_dict, orient='columns')\n",
    "            lang_df = lang_df.append(tmp_df, ignore_index=True)\n",
    "        except Exception as e:\n",
    "            print(e, \"\\n\", data_dict, \"\\n\\n\")\n",
    "    all_dfs[lang_code] = lang_df\n",
    "    return all_dfs\n"
   ]
  },
  {
   "cell_type": "code",
   "execution_count": 83,
   "metadata": {},
   "outputs": [],
   "source": [
    "all_dfs = create_meta_file()\n",
    "# save_xls(all_dfs, 'eng_content.xls')"
   ]
  },
  {
   "cell_type": "code",
   "execution_count": 84,
   "metadata": {},
   "outputs": [
    {
     "data": {
      "text/html": [
       "<div>\n",
       "<style scoped>\n",
       "    .dataframe tbody tr th:only-of-type {\n",
       "        vertical-align: middle;\n",
       "    }\n",
       "\n",
       "    .dataframe tbody tr th {\n",
       "        vertical-align: top;\n",
       "    }\n",
       "\n",
       "    .dataframe thead th {\n",
       "        text-align: right;\n",
       "    }\n",
       "</style>\n",
       "<table border=\"1\" class=\"dataframe\">\n",
       "  <thead>\n",
       "    <tr style=\"text-align: right;\">\n",
       "      <th></th>\n",
       "      <th>Actual key</th>\n",
       "      <th>English copy</th>\n",
       "      <th>x</th>\n",
       "      <th>y</th>\n",
       "    </tr>\n",
       "  </thead>\n",
       "  <tbody>\n",
       "    <tr>\n",
       "      <th>0</th>\n",
       "      <td>hrs recorded in</td>\n",
       "      <td>&lt;x&gt; contributed in &lt;x&gt;</td>\n",
       "      <td>&lt;span id =\"\"&gt;&lt;/span&gt;</td>\n",
       "      <td>&lt;span id =\"\"&gt;&lt;/span&gt;</td>\n",
       "    </tr>\n",
       "    <tr>\n",
       "      <th>1</th>\n",
       "      <td>hrs validated in</td>\n",
       "      <td>&lt;x&gt; validated in &lt;y&gt;</td>\n",
       "      <td>NaN</td>\n",
       "      <td>NaN</td>\n",
       "    </tr>\n",
       "  </tbody>\n",
       "</table>\n",
       "</div>"
      ],
      "text/plain": [
       "         Actual key            English copy                     x  \\\n",
       "0   hrs recorded in  <x> contributed in <x>  <span id =\"\"></span>   \n",
       "1  hrs validated in    <x> validated in <y>                   NaN   \n",
       "\n",
       "                      y  \n",
       "0  <span id =\"\"></span>  \n",
       "1                   NaN  "
      ]
     },
     "execution_count": 84,
     "metadata": {},
     "output_type": "execute_result"
    }
   ],
   "source": [
    "all_dfs['en'].head()"
   ]
  },
  {
   "cell_type": "code",
   "execution_count": 67,
   "metadata": {},
   "outputs": [],
   "source": [
    "def createDelta():\n",
    "    languages = [('hi', \"Hindi\"),('gu', \"Gujarati\"),('as', \"Assamese\"),('bn','Bengali'),('ta',\"Tamil\"),\n",
    "                 ('te',\"Telugu\"),('mr',\"Marathi\"),('pa',\"Punjabi\"),('ml',\"Malayalam\"),('or',\"Odia\"),('kn',\"Kannada\")]\n",
    "    all_dfs = {}\n",
    "    for lang_code, lang_name in languages:\n",
    "        lang_df = pd.DataFrame([], columns=[])\n",
    "        keys = findKeysWithoutTranslation(lang_code)\n",
    "        for key in keys:\n",
    "            processed_text, extracted_tags = extract_tags(lang_data[key])\n",
    "\n",
    "            data_dict = get_dict_for_data(key, processed_text, extracted_tags)\n",
    "\n",
    "            try:\n",
    "                tmp_df = pd.DataFrame.from_dict(data_dict, orient='columns')\n",
    "                lang_df = lang_df.append(tmp_df, ignore_index=True)\n",
    "            except Exception as e:\n",
    "                print(e, \"\\n\", data_dict, \"\\n\\n\")\n",
    "        lang_df[lang_name] = \"\"\n",
    "        all_dfs[lang_code] = lang_df\n",
    "    return all_dfs"
   ]
  },
  {
   "cell_type": "code",
   "execution_count": 74,
   "metadata": {},
   "outputs": [
    {
     "data": {
      "text/plain": [
       "'You’ve earned a  <x>  Bhasha Samarthak Badge by validating <y> Images.'"
      ]
     },
     "execution_count": 74,
     "metadata": {},
     "output_type": "execute_result"
    }
   ],
   "source": [
    "all_dfs = createDelta()\n",
    "all_dfs['hi']['English copy'][4]"
   ]
  },
  {
   "cell_type": "code",
   "execution_count": null,
   "metadata": {},
   "outputs": [],
   "source": []
  },
  {
   "cell_type": "code",
   "execution_count": null,
   "metadata": {},
   "outputs": [],
   "source": []
  },
  {
   "cell_type": "code",
   "execution_count": null,
   "metadata": {},
   "outputs": [],
   "source": [
    "\n"
   ]
  }
 ],
 "metadata": {
  "kernelspec": {
   "display_name": "Python 3",
   "language": "python",
   "name": "python3"
  },
  "language_info": {
   "codemirror_mode": {
    "name": "ipython",
    "version": 3
   },
   "file_extension": ".py",
   "mimetype": "text/x-python",
   "name": "python",
   "nbconvert_exporter": "python",
   "pygments_lexer": "ipython3",
   "version": "3.8.5"
  }
 },
 "nbformat": 4,
 "nbformat_minor": 5
}
