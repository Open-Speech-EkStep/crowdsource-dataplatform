{
 "cells": [
  {
   "cell_type": "code",
   "execution_count": null,
   "id": "2fe61c87",
   "metadata": {},
   "outputs": [],
   "source": [
    "import pandas as pd\n",
    "import openpyxl\n",
    "import json\n",
    "import os\n",
    "import re\n",
    "\n",
    "input_json_file = 'sample/en.json'\n",
    "out_excel_file = 'hi/hi_edited.xlsx'\n",
    "# translation_excel_file = ['sample/sample.xlsx']"
   ]
  },
  {
   "cell_type": "code",
   "execution_count": null,
   "id": "c4e890c8",
   "metadata": {},
   "outputs": [],
   "source": [
    "# this finds our json files\n",
    "path_to_json = './hi'\n",
    "translation_excel_file = [pos_json for pos_json in os.listdir(path_to_json) if pos_json.endswith('.xlsx')]\n"
   ]
  },
  {
   "cell_type": "code",
   "execution_count": null,
   "id": "3ae4cc11",
   "metadata": {},
   "outputs": [],
   "source": [
    "with open(input_json_file) as f:\n",
    "    js = json.load(f)"
   ]
  },
  {
   "cell_type": "code",
   "execution_count": null,
   "id": "773b1dd4",
   "metadata": {},
   "outputs": [],
   "source": [
    "out_df = pd.DataFrame(list(js.items()),\n",
    "                   columns=['Key', 'To be Translated'])"
   ]
  },
  {
   "cell_type": "code",
   "execution_count": null,
   "id": "88941bc7",
   "metadata": {},
   "outputs": [],
   "source": [
    "out_df['Key']"
   ]
  },
  {
   "cell_type": "code",
   "execution_count": null,
   "id": "cf3f3fbb",
   "metadata": {},
   "outputs": [],
   "source": [
    "out_df[\"Key\"].to_excel('tran.xlsx')"
   ]
  },
  {
   "cell_type": "code",
   "execution_count": null,
   "id": "67c5c6e2",
   "metadata": {},
   "outputs": [],
   "source": [
    "lang = 'Hindi'\n",
    "english_col = 'English copy'\n",
    "allowed_values = ['x','y','z']"
   ]
  },
  {
   "cell_type": "code",
   "execution_count": null,
   "id": "aa4a7b48",
   "metadata": {},
   "outputs": [],
   "source": [
    "excelDf = pd.DataFrame([], columns=['Key', lang])\n",
    "for excel_file_name in translation_excel_file:\n",
    "    print(excel_file_name)\n",
    "    excel = pd.ExcelFile('hi/'+excel_file_name)\n",
    "    \n",
    "    count = 0\n",
    "    for sheetName in excel.sheet_names:\n",
    "        sheet = excel.parse(sheet_name = sheetName, header=1)\n",
    "        print(sheet.columns)\n",
    "        FORMAT = [english_col,lang]\n",
    "        for value in allowed_values:\n",
    "            if value in sheet.columns:\n",
    "                FORMAT.append(value)\n",
    "        filteredSheet = sheet[FORMAT]\n",
    "        sheet_no_na = filteredSheet.dropna(subset = [english_col, lang], inplace=False)\n",
    "        sheet_new = sheet_no_na.rename(columns = {english_col: 'Key'}, inplace=False)\n",
    "        count += sheet_new.count()\n",
    "        excelDf = pd.concat([excelDf, sheet_new], axis=0)"
   ]
  },
  {
   "cell_type": "code",
   "execution_count": null,
   "id": "40c2d4ae",
   "metadata": {},
   "outputs": [],
   "source": [
    "excelDf['Key_lower'] = excelDf['Key'].str.lower()\n",
    "out_df['Key_lower'] = out_df['Key'].str.lower()"
   ]
  },
  {
   "cell_type": "code",
   "execution_count": null,
   "id": "7133bef8",
   "metadata": {},
   "outputs": [],
   "source": [
    "excelDf_dropped = excelDf.drop_duplicates(subset=['Key_lower'], keep='first')\n",
    "out_df_dropped = out_df.drop_duplicates(subset=['Key'], keep='first')"
   ]
  },
  {
   "cell_type": "code",
   "execution_count": null,
   "id": "2dcafd26",
   "metadata": {},
   "outputs": [],
   "source": [
    "df_diff = pd.merge(out_df_dropped, excelDf_dropped, on=\"Key_lower\",how='left')"
   ]
  },
  {
   "cell_type": "code",
   "execution_count": null,
   "id": "e61586de",
   "metadata": {},
   "outputs": [],
   "source": [
    "df_diff = df_diff.drop_duplicates(subset=['Key_x'], keep='first')"
   ]
  },
  {
   "cell_type": "code",
   "execution_count": null,
   "id": "1daa398a",
   "metadata": {},
   "outputs": [],
   "source": [
    "df_diff = df_diff[['Key_x', 'To be Translated', lang]]"
   ]
  },
  {
   "cell_type": "code",
   "execution_count": null,
   "id": "59668615",
   "metadata": {},
   "outputs": [],
   "source": [
    "df_diff_a = df_diff[df_diff[lang].isna()]"
   ]
  },
  {
   "cell_type": "code",
   "execution_count": null,
   "id": "3d8dbaf7",
   "metadata": {},
   "outputs": [],
   "source": [
    "df_diff[df_diff[lang].isna()].count()"
   ]
  },
  {
   "cell_type": "code",
   "execution_count": null,
   "id": "4e63ce5a",
   "metadata": {},
   "outputs": [],
   "source": [
    "df_diff_a = df_diff_a.rename(columns = {'Key_x': 'Key'}, inplace=False)"
   ]
  },
  {
   "cell_type": "code",
   "execution_count": null,
   "id": "a644da2d",
   "metadata": {},
   "outputs": [],
   "source": [
    "df_diff_a.to_excel(out_excel_file)"
   ]
  },
  {
   "cell_type": "code",
   "execution_count": null,
   "id": "3804a5a9",
   "metadata": {},
   "outputs": [],
   "source": []
  },
  {
   "cell_type": "code",
   "execution_count": null,
   "id": "b52ce651",
   "metadata": {},
   "outputs": [],
   "source": [
    "excelDf = pd.DataFrame([], columns=['Key', lang])\n",
    "for excel_file_name in translation_excel_file:\n",
    "    excel = pd.ExcelFile('hi/'+excel_file_name)\n",
    "    print(excel_file_name)\n",
    "    count = 0\n",
    "    for sheetName in excel.sheet_names:\n",
    "        sheet = excel.parse(sheet_name = sheetName, header=1)\n",
    "        FORMAT = [english_col,lang]\n",
    "        print(sheet.columns)\n",
    "        for value in allowed_values:\n",
    "            if value in sheet.columns:\n",
    "                FORMAT.append(value)\n",
    "        filteredSheet = sheet[FORMAT]\n",
    "        sheet_no_na = filteredSheet.dropna(subset = [english_col, lang], inplace=False)\n",
    "        sheet_new = sheet_no_na.rename(columns = {english_col: 'Key'}, inplace=False)\n",
    "        count += sheet_new.count()\n",
    "        excelDf = pd.concat([excelDf, sheet_new], axis=0)"
   ]
  },
  {
   "cell_type": "raw",
   "id": "6494105a",
   "metadata": {},
   "source": []
  },
  {
   "cell_type": "code",
   "execution_count": null,
   "id": "1ed4aa70",
   "metadata": {},
   "outputs": [],
   "source": [
    "excelDf.to_excel('allHindi.xlsx')"
   ]
  },
  {
   "cell_type": "code",
   "execution_count": null,
   "id": "0eadc49b",
   "metadata": {},
   "outputs": [],
   "source": [
    "def getKeysWithTranslation(lang):\n",
    "    with open(lang+\"/\"+lang+\".json\") as f:\n",
    "        js = json.load(f)\n",
    "    \n",
    "    keys_list = []\n",
    "    for key, value in js.items():\n",
    "        if key != value:\n",
    "            keys_list.append(key)\n",
    "    return keys_list\n",
    "    "
   ]
  },
  {
   "cell_type": "code",
   "execution_count": null,
   "id": "d16879a3",
   "metadata": {},
   "outputs": [],
   "source": [
    "getKeysWithTranslation('hi')"
   ]
  },
  {
   "cell_type": "code",
   "execution_count": null,
   "id": "7ec0034e",
   "metadata": {},
   "outputs": [],
   "source": []
  },
  {
   "cell_type": "code",
   "execution_count": null,
   "id": "057391a9",
   "metadata": {},
   "outputs": [],
   "source": [
    "##--------- NEW CODE FOR TRANSLATION GENERATION ------"
   ]
  },
  {
   "cell_type": "code",
   "execution_count": 1,
   "id": "cfc2f70a",
   "metadata": {},
   "outputs": [],
   "source": [
    "import pandas as pd\n",
    "import openpyxl\n",
    "import json\n",
    "import os\n",
    "import re\n",
    "from pandas import ExcelWriter"
   ]
  },
  {
   "cell_type": "code",
   "execution_count": 2,
   "id": "50812d52",
   "metadata": {},
   "outputs": [],
   "source": [
    "\n",
    "def findKeysWithoutTranslation(lang):\n",
    "    with open('./../../../crowdsource-ui/locales/{lang}.json'.format(lang=lang)) as f:\n",
    "        js = json.load(f)\n",
    "    \n",
    "    keys_without_translation = []\n",
    "    for key, value in js.items():\n",
    "        if key == value and value :\n",
    "            keys_without_translation.append(key)\n",
    "    return keys_without_translation"
   ]
  },
  {
   "cell_type": "code",
   "execution_count": 9,
   "id": "baf5e838",
   "metadata": {},
   "outputs": [],
   "source": [
    "def extract_tags(text):\n",
    "    allowed_replacements = [\"x\", \"y\", \"z\", \"u\",\"v\",\"w\", \"a-tag-replacement\"]\n",
    "    regex = r\"<(\\S*?)[^>]*>.*?<\\/\\1>|<.*?\\/>\"\n",
    "    out_txt = text\n",
    "    matches = re.finditer(regex, out_txt, re.MULTILINE)\n",
    "    index = 0\n",
    "    matched_tags_dict = {}\n",
    "    for match in matches:\n",
    "        matched_tag = match.group()\n",
    "        if \"<b>\" in matched_tag:\n",
    "            continue\n",
    "        if \"<a\" in matched_tag:\n",
    "            attrs = matched_tag[matched_tag.find('<a')+2: matched_tag.find('>')]\n",
    "            matched_tag_replacement = matched_tag.replace(attrs,\"\")\n",
    "            out_txt = out_txt.replace(matched_tag, matched_tag_replacement)\n",
    "            matched_tags_dict['a-tag-replacement'] = attrs\n",
    "        else:\n",
    "            replacement = allowed_replacements[index]\n",
    "            out_txt = out_txt.replace(matched_tag, '<{}>'.format(replacement))\n",
    "            index+=1\n",
    "            matched_tags_dict[replacement] = matched_tag\n",
    "    return out_txt , matched_tags_dict"
   ]
  },
  {
   "cell_type": "code",
   "execution_count": 5,
   "id": "481c717b",
   "metadata": {},
   "outputs": [],
   "source": [
    "def save_xls(list_dfs, xls_path):\n",
    "    with ExcelWriter(xls_path) as writer:\n",
    "        for lang_code, lang_df in list_dfs.items():\n",
    "            lang_df.to_excel(writer,lang_code)\n",
    "        writer.save()\n",
    "    print('done')"
   ]
  },
  {
   "cell_type": "code",
   "execution_count": 4,
   "id": "289b3156",
   "metadata": {},
   "outputs": [],
   "source": [
    "def get_text_from_html_tags(tag):\n",
    "    regex = r\"<(\\S*?)[^>]*>(.*?)<\\/\\1>\"\n",
    "    out_tag = tag\n",
    "    matches = re.finditer(regex, out_tag, re.MULTILINE)\n",
    "    string_matches = set()\n",
    "    for match in matches:\n",
    "        match_group_length = len(match.groups())\n",
    "        if match_group_length>1 and len(match.group(2)) != 0:\n",
    "            string_matches.add(match.group(2).strip())\n",
    "    return string_matches"
   ]
  },
  {
   "cell_type": "code",
   "execution_count": 6,
   "id": "13bdeceb",
   "metadata": {},
   "outputs": [],
   "source": [
    "def get_dict_for_data(text, extracted_tags):\n",
    "    out_dict = {}\n",
    "    out_dict[\"English copy\"] = [text]\n",
    "    \n",
    "    if len(extracted_tags) == 0:\n",
    "        out_dict[\"Comments\"] = [\"\"]\n",
    "    else:\n",
    "        out_dict[\"Comments\"] = [text]\n",
    "        \n",
    "    for replacement in sorted (extracted_tags.keys()):\n",
    "        out_dict[replacement] = [extracted_tags[replacement]]\n",
    "    return out_dict"
   ]
  },
  {
   "cell_type": "code",
   "execution_count": 7,
   "id": "b748ca0f",
   "metadata": {},
   "outputs": [],
   "source": [
    "languages = [('hi', \"Hindi\"),('gu', \"Gujarati\"),('as', \"Assamese\"),('bn','Bengali'),('ta',\"Tamil\"),\n",
    "             ('te',\"Telugu\"),('mr',\"Marathi\"),('pa',\"Punjabi\"),('ml',\"Malayalam\"),('or',\"Odia\"),('kn',\"Kannada\")]\n",
    "all_dfs = {}\n",
    "for lang_code, lang_name in languages:\n",
    "    lang_df = pd.DataFrame([], columns=[])\n",
    "    keys_without_translation = findKeysWithoutTranslation(lang_code)\n",
    "    for key in keys_without_translation:\n",
    "        processed_text, extracted_tags = extract_tags(key)\n",
    "    \n",
    "        data_dict = get_dict_for_data(processed_text, extracted_tags)\n",
    "    \n",
    "        try:\n",
    "            tmp_df = pd.DataFrame.from_dict(data_dict, orient='columns')\n",
    "            lang_df = lang_df.append(tmp_df, ignore_index=True)\n",
    "        except Exception as e:\n",
    "            print(e, \"\\n\", data_dict, \"\\n\\n\")\n",
    "    lang_df[lang_name] = \"\"\n",
    "    all_dfs[lang_code] = lang_df"
   ]
  },
  {
   "cell_type": "code",
   "execution_count": null,
   "id": "c8189599",
   "metadata": {},
   "outputs": [],
   "source": []
  },
  {
   "cell_type": "code",
   "execution_count": 8,
   "id": "7428befa",
   "metadata": {},
   "outputs": [
    {
     "name": "stdout",
     "output_type": "stream",
     "text": [
      "done\n"
     ]
    },
    {
     "name": "stderr",
     "output_type": "stream",
     "text": [
      "/Users/nireshkumarr/miniconda3/envs/translation/lib/python3.7/site-packages/IPython/core/interactiveshell.py:3441: FutureWarning: As the xlwt package is no longer maintained, the xlwt engine will be removed in a future version of pandas. This is the only engine in pandas that supports writing in the xls format. Install openpyxl and write to an xlsx file instead. You can set the option io.excel.xls.writer to 'xlwt' to silence this warning. While this option is deprecated and will also raise a warning, it can be globally set and the warning suppressed.\n",
      "  exec(code_obj, self.user_global_ns, self.user_ns)\n"
     ]
    }
   ],
   "source": [
    "save_xls(all_dfs, 'final1.xls')"
   ]
  },
  {
   "cell_type": "code",
   "execution_count": null,
   "id": "dffb2ec9",
   "metadata": {},
   "outputs": [],
   "source": [
    "# pd.DataFrame.from_dict(dict([('A', [1, 2, 3]), ('B', [4, 5, 6])]),orient='columns')\n",
    "\n",
    "dct = {\"English copy\":[\"ABCD\"], \"x\":[\"<>\"], \"y\":[\"<>\"],\"a\":[\"dsfs\"]}\n",
    "pd.DataFrame.from_dict(dct,orient='columns')\n"
   ]
  }
 ],
 "metadata": {
  "kernelspec": {
   "display_name": "Python 3",
   "language": "python",
   "name": "python3"
  },
  "language_info": {
   "codemirror_mode": {
    "name": "ipython",
    "version": 3
   },
   "file_extension": ".py",
   "mimetype": "text/x-python",
   "name": "python",
   "nbconvert_exporter": "python",
   "pygments_lexer": "ipython3",
   "version": "3.7.10"
  }
 },
 "nbformat": 4,
 "nbformat_minor": 5
}
