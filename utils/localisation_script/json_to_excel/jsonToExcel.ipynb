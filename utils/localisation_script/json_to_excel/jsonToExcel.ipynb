{
 "cells": [
  {
   "cell_type": "code",
   "execution_count": null,
   "id": "2fe61c87",
   "metadata": {},
   "outputs": [],
   "source": [
    "import pandas as pd\n",
    "import openpyxl\n",
    "import json\n",
    "import os\n",
    "import re\n",
    "\n",
    "input_json_file = 'sample/en.json'\n",
    "out_excel_file = 'hi/hi_edited.xlsx'\n",
    "# translation_excel_file = ['sample/sample.xlsx']"
   ]
  },
  {
   "cell_type": "code",
   "execution_count": null,
   "id": "c4e890c8",
   "metadata": {},
   "outputs": [],
   "source": [
    "# this finds our json files\n",
    "path_to_json = './hi'\n",
    "translation_excel_file = [pos_json for pos_json in os.listdir(path_to_json) if pos_json.endswith('.xlsx')]\n"
   ]
  },
  {
   "cell_type": "code",
   "execution_count": null,
   "id": "3ae4cc11",
   "metadata": {},
   "outputs": [],
   "source": [
    "with open(input_json_file) as f:\n",
    "    js = json.load(f)"
   ]
  },
  {
   "cell_type": "code",
   "execution_count": null,
   "id": "773b1dd4",
   "metadata": {},
   "outputs": [],
   "source": [
    "out_df = pd.DataFrame(list(js.items()),\n",
    "                   columns=['Key', 'To be Translated'])"
   ]
  },
  {
   "cell_type": "code",
   "execution_count": null,
   "id": "88941bc7",
   "metadata": {},
   "outputs": [],
   "source": [
    "out_df['Key']"
   ]
  },
  {
   "cell_type": "code",
   "execution_count": null,
   "id": "cf3f3fbb",
   "metadata": {},
   "outputs": [],
   "source": [
    "out_df[\"Key\"].to_excel('tran.xlsx')"
   ]
  },
  {
   "cell_type": "code",
   "execution_count": null,
   "id": "67c5c6e2",
   "metadata": {},
   "outputs": [],
   "source": [
    "lang = 'Hindi'\n",
    "english_col = 'English copy'\n",
    "allowed_values = ['x','y','z']"
   ]
  },
  {
   "cell_type": "code",
   "execution_count": null,
   "id": "aa4a7b48",
   "metadata": {},
   "outputs": [],
   "source": [
    "excelDf = pd.DataFrame([], columns=['Key', lang])\n",
    "for excel_file_name in translation_excel_file:\n",
    "    print(excel_file_name)\n",
    "    excel = pd.ExcelFile('hi/'+excel_file_name)\n",
    "    \n",
    "    count = 0\n",
    "    for sheetName in excel.sheet_names:\n",
    "        sheet = excel.parse(sheet_name = sheetName, header=1)\n",
    "        print(sheet.columns)\n",
    "        FORMAT = [english_col,lang]\n",
    "        for value in allowed_values:\n",
    "            if value in sheet.columns:\n",
    "                FORMAT.append(value)\n",
    "        filteredSheet = sheet[FORMAT]\n",
    "        sheet_no_na = filteredSheet.dropna(subset = [english_col, lang], inplace=False)\n",
    "        sheet_new = sheet_no_na.rename(columns = {english_col: 'Key'}, inplace=False)\n",
    "        count += sheet_new.count()\n",
    "        excelDf = pd.concat([excelDf, sheet_new], axis=0)"
   ]
  },
  {
   "cell_type": "code",
   "execution_count": null,
   "id": "40c2d4ae",
   "metadata": {},
   "outputs": [],
   "source": [
    "excelDf['Key_lower'] = excelDf['Key'].str.lower()\n",
    "out_df['Key_lower'] = out_df['Key'].str.lower()"
   ]
  },
  {
   "cell_type": "code",
   "execution_count": null,
   "id": "7133bef8",
   "metadata": {},
   "outputs": [],
   "source": [
    "excelDf_dropped = excelDf.drop_duplicates(subset=['Key_lower'], keep='first')\n",
    "out_df_dropped = out_df.drop_duplicates(subset=['Key'], keep='first')"
   ]
  },
  {
   "cell_type": "code",
   "execution_count": null,
   "id": "2dcafd26",
   "metadata": {},
   "outputs": [],
   "source": [
    "df_diff = pd.merge(out_df_dropped, excelDf_dropped, on=\"Key_lower\",how='left')"
   ]
  },
  {
   "cell_type": "code",
   "execution_count": null,
   "id": "e61586de",
   "metadata": {},
   "outputs": [],
   "source": [
    "df_diff = df_diff.drop_duplicates(subset=['Key_x'], keep='first')"
   ]
  },
  {
   "cell_type": "code",
   "execution_count": null,
   "id": "1daa398a",
   "metadata": {},
   "outputs": [],
   "source": [
    "df_diff = df_diff[['Key_x', 'To be Translated', lang]]"
   ]
  },
  {
   "cell_type": "code",
   "execution_count": null,
   "id": "59668615",
   "metadata": {},
   "outputs": [],
   "source": [
    "df_diff_a = df_diff[df_diff[lang].isna()]"
   ]
  },
  {
   "cell_type": "code",
   "execution_count": null,
   "id": "3d8dbaf7",
   "metadata": {},
   "outputs": [],
   "source": [
    "df_diff[df_diff[lang].isna()].count()"
   ]
  },
  {
   "cell_type": "code",
   "execution_count": null,
   "id": "4e63ce5a",
   "metadata": {},
   "outputs": [],
   "source": [
    "df_diff_a = df_diff_a.rename(columns = {'Key_x': 'Key'}, inplace=False)"
   ]
  },
  {
   "cell_type": "code",
   "execution_count": null,
   "id": "a644da2d",
   "metadata": {},
   "outputs": [],
   "source": [
    "df_diff_a.to_excel(out_excel_file)"
   ]
  },
  {
   "cell_type": "code",
   "execution_count": null,
   "id": "3804a5a9",
   "metadata": {},
   "outputs": [],
   "source": []
  },
  {
   "cell_type": "code",
   "execution_count": null,
   "id": "b52ce651",
   "metadata": {},
   "outputs": [],
   "source": [
    "excelDf = pd.DataFrame([], columns=['Key', lang])\n",
    "for excel_file_name in translation_excel_file:\n",
    "    excel = pd.ExcelFile('hi/'+excel_file_name)\n",
    "    print(excel_file_name)\n",
    "    count = 0\n",
    "    for sheetName in excel.sheet_names:\n",
    "        sheet = excel.parse(sheet_name = sheetName, header=1)\n",
    "        FORMAT = [english_col,lang]\n",
    "        print(sheet.columns)\n",
    "        for value in allowed_values:\n",
    "            if value in sheet.columns:\n",
    "                FORMAT.append(value)\n",
    "        filteredSheet = sheet[FORMAT]\n",
    "        sheet_no_na = filteredSheet.dropna(subset = [english_col, lang], inplace=False)\n",
    "        sheet_new = sheet_no_na.rename(columns = {english_col: 'Key'}, inplace=False)\n",
    "        count += sheet_new.count()\n",
    "        excelDf = pd.concat([excelDf, sheet_new], axis=0)"
   ]
  },
  {
   "cell_type": "raw",
   "id": "6494105a",
   "metadata": {},
   "source": []
  },
  {
   "cell_type": "code",
   "execution_count": null,
   "id": "1ed4aa70",
   "metadata": {},
   "outputs": [],
   "source": [
    "excelDf.to_excel('allHindi.xlsx')"
   ]
  },
  {
   "cell_type": "code",
   "execution_count": null,
   "id": "0eadc49b",
   "metadata": {},
   "outputs": [],
   "source": [
    "def getKeysWithTranslation(lang):\n",
    "    with open(lang+\"/\"+lang+\".json\") as f:\n",
    "        js = json.load(f)\n",
    "    \n",
    "    keys_list = []\n",
    "    for key, value in js.items():\n",
    "        if key != value:\n",
    "            keys_list.append(key)\n",
    "    return keys_list\n",
    "    "
   ]
  },
  {
   "cell_type": "code",
   "execution_count": null,
   "id": "d16879a3",
   "metadata": {},
   "outputs": [],
   "source": [
    "getKeysWithTranslation('hi')"
   ]
  },
  {
   "cell_type": "code",
   "execution_count": null,
   "id": "f8048f71",
   "metadata": {},
   "outputs": [],
   "source": []
  },
  {
   "cell_type": "code",
   "execution_count": null,
   "id": "da0efdd6",
   "metadata": {},
   "outputs": [],
   "source": [
    "##--------- NEW CODE FOR TRANSLATION GENERATION ------"
   ]
  },
  {
   "cell_type": "code",
   "execution_count": 1,
   "id": "086b5cb8",
   "metadata": {},
   "outputs": [],
   "source": [
    "import pandas as pd\n",
    "import openpyxl\n",
    "import json\n",
    "import os\n",
    "import re\n",
    "from pandas import ExcelWriter"
   ]
  },
  {
   "cell_type": "code",
   "execution_count": 2,
   "id": "50812d52",
   "metadata": {},
   "outputs": [],
   "source": [
    "\n",
    "def findKeysWithoutTranslation(lang):\n",
    "    with open('./../../../crowdsource-ui/locales/{lang}.json'.format(lang=lang)) as f:\n",
    "        js = json.load(f)\n",
    "    \n",
    "    keys_without_translation = []\n",
    "    for key, value in js.items():\n",
    "        if key == value and value :\n",
    "            keys_without_translation.append(key)\n",
    "    return keys_without_translation"
   ]
  },
  {
   "cell_type": "code",
   "execution_count": 3,
   "id": "91527c84",
   "metadata": {},
   "outputs": [],
   "source": [
    "def extract_tags(text):\n",
    "    allowed_replacements = [\"x\",\"y\",\"z\", \"u\", \"v\", \"w\"]\n",
    "    regex = r\"<(\\S*?)[^>]*>.*?<\\/\\1>|<.*?\\/>\"\n",
    "    out_txt = text\n",
    "    matches = re.finditer(regex, out_txt, re.MULTILINE)\n",
    "    index = 0\n",
    "    matched_tags_dict = {}\n",
    "    for match in matches:\n",
    "        matched_tag = match.group()\n",
    "        if \"id\" in matched_tag:\n",
    "            replacement = allowed_replacements[index]\n",
    "            out_txt = out_txt.replace(matched_tag, '<{}>'.format(replacement))\n",
    "            index+=1\n",
    "            matched_tags_dict[replacement] = matched_tag\n",
    "    return out_txt , matched_tags_dict"
   ]
  },
  {
   "cell_type": "code",
   "execution_count": 10,
   "id": "e9d0665a",
   "metadata": {},
   "outputs": [],
   "source": [
    "def save_xls(list_dfs, xls_path):\n",
    "    with ExcelWriter(xls_path) as writer:\n",
    "        for lang_code, lang_df in list_dfs.items():\n",
    "            lang_df.to_excel(writer,lang_code)\n",
    "        writer.save()\n",
    "    print('done')"
   ]
  },
  {
   "cell_type": "code",
   "execution_count": 11,
   "id": "b748ca0f",
   "metadata": {},
   "outputs": [],
   "source": [
    "languages = ['hi','gu','as','bn','ta','te','mr','pa','ml','or','kn']\n",
    "all_dfs = {}\n",
    "for lang_code in languages:\n",
    "    lang_df = pd.DataFrame([], columns=[])\n",
    "    keys_without_translation = findKeysWithoutTranslation(lang_code)\n",
    "    for key in keys_without_translation:\n",
    "        processed_text, extracted_tags = extract_tags(key)\n",
    "        data = []\n",
    "        column_names = ['English copy']\n",
    "        tmp_col_names = []\n",
    "        data.append(processed_text)\n",
    "        for replacement in sorted (extracted_tags.keys()):\n",
    "            data.append(extracted_tags[replacement])\n",
    "            tmp_col_names.append(replacement)\n",
    "        column_names = column_names + sorted(tmp_col_names)\n",
    "        try:\n",
    "            tmp_df = pd.DataFrame([data], columns=column_names)\n",
    "            tmp_df.reset_index(drop=True, inplace=True)\n",
    "            lang_df.reset_index(drop=True, inplace=True)\n",
    "            lang_df = lang_df.append(tmp_df, ignore_index=True)\n",
    "        except Exception as e:\n",
    "            print(e, \"\\n\", data.shape, column_names.shape, \"\\n\\n\")\n",
    "    all_dfs[lang_code] = lang_df"
   ]
  },
  {
   "cell_type": "code",
   "execution_count": 12,
   "id": "9494f64e",
   "metadata": {},
   "outputs": [
    {
     "name": "stdout",
     "output_type": "stream",
     "text": [
      "done\n"
     ]
    }
   ],
   "source": [
    "save_xls(all_dfs, 'final.xls')"
   ]
  }
 ],
 "metadata": {
  "kernelspec": {
   "display_name": "Python 3",
   "language": "python",
   "name": "python3"
  },
  "language_info": {
   "codemirror_mode": {
    "name": "ipython",
    "version": 3
   },
   "file_extension": ".py",
   "mimetype": "text/x-python",
   "name": "python",
   "nbconvert_exporter": "python",
   "pygments_lexer": "ipython3",
   "version": "3.7.10"
  }
 },
 "nbformat": 4,
 "nbformat_minor": 5
}
