{
 "cells": [
  {
   "cell_type": "code",
   "execution_count": null,
   "id": "a75b1ab8",
   "metadata": {},
   "outputs": [],
   "source": [
    "import pandas as pd\n",
    "import openpyxl\n",
    "import json\n",
    "import os\n",
    "import re"
   ]
  },
  {
   "cell_type": "code",
   "execution_count": null,
   "id": "e2e3d959",
   "metadata": {},
   "outputs": [],
   "source": [
    "english_col = 'English copy'\n",
    "allowed_values = ['x','y','z','u','v','w']\n",
    "\n",
    "def generate(languages, input_base_path, input_json_path, meta_input_path, output_base_path):\n",
    "    os.makedirs(output_base_path, exist_ok=True)\n",
    "    for language_code, language_name in languages:\n",
    "        meta_excel_path = meta_input_path+\"/\"+language_code+\".xlsx\"\n",
    "        meta_excel_df = read_excel_as_df(meta_excel_path,  language_name)\n",
    "        del meta_excel_df[language_name]\n",
    "\n",
    "        excelDf_dropped, final_df, merged_df = get_locale_data(input_base_path,input_json_path, language_code, language_name, meta_excel_df)\n",
    "\n",
    "        print(\"****** LOCALE = {} **********\".format(language_name))\n",
    "        print(\"Final Number of Keys(WithoutDuplicates/WithDuplicates) = {}/{}\".format(final_df['Key'].nunique(), final_df['Key'].count()))\n",
    "        print(\"Matched Keys => {}/{}\".format(get_matched_count(excelDf_dropped, merged_df), excelDf_dropped['Key'].count()))\n",
    "        print(\"****************\")\n",
    "        output_json_path = '{base_path}/{language}.json'.format(base_path=output_base_path, language=language_code)\n",
    "        write_df_to_json(final_df, output_json_path)\n"
   ]
  },
  {
   "cell_type": "code",
   "execution_count": null,
   "id": "271c844e",
   "metadata": {},
   "outputs": [],
   "source": [
    "input_excel_path = \"./en/out-sme/en.xlsx\"\n",
    "input_json_path = './../../crowdsource-ui/locales'\n",
    "meta_input_path = \"./en/out-meta\"\n",
    "output_base_path = \"./output_json_files\"\n",
    "\n",
    "generate(input_excel_path,input_json_path, meta_input_path, output_base_path)"
   ]
  }
 ],
 "metadata": {
  "kernelspec": {
   "display_name": "Python 3",
   "language": "python",
   "name": "python3"
  },
  "language_info": {
   "codemirror_mode": {
    "name": "ipython",
    "version": 3
   },
   "file_extension": ".py",
   "mimetype": "text/x-python",
   "name": "python",
   "nbconvert_exporter": "python",
   "pygments_lexer": "ipython3",
   "version": "3.7.10"
  }
 },
 "nbformat": 4,
 "nbformat_minor": 5
}
