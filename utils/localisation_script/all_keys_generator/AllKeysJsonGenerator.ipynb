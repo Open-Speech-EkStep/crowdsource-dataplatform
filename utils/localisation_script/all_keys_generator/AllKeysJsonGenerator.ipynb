{
 "cells": [
  {
   "cell_type": "code",
   "execution_count": 1,
   "id": "a75b1ab8",
   "metadata": {},
   "outputs": [],
   "source": [
    "import pandas as pd\n",
    "import openpyxl\n",
    "import json\n",
    "import os\n",
    "import re\n",
    "import argparse"
   ]
  },
  {
   "cell_type": "code",
   "execution_count": 2,
   "id": "037b81de",
   "metadata": {},
   "outputs": [],
   "source": [
    "def load_json_as_df(json_data):\n",
    "    out_df = pd.DataFrame(list(json_data.items()),\n",
    "                       columns=[key_column, english_col])        \n",
    "    return out_df"
   ]
  },
  {
   "cell_type": "code",
   "execution_count": 3,
   "id": "9cd0d917",
   "metadata": {},
   "outputs": [],
   "source": [
    "def read_json(json_file_path):\n",
    "    with open(json_file_path) as f:\n",
    "        data = json.load(f)\n",
    "    return data"
   ]
  },
  {
   "cell_type": "code",
   "execution_count": 4,
   "id": "aee7bca6",
   "metadata": {},
   "outputs": [],
   "source": [
    "def reformat_json(json_obj):\n",
    "    json_dict = {}\n",
    "    for key, value in json_obj:\n",
    "        json_dict[key] = value\n",
    "    return json_dict"
   ]
  },
  {
   "cell_type": "code",
   "execution_count": 5,
   "id": "9cebea86",
   "metadata": {},
   "outputs": [],
   "source": [
    "def set_variables(df_row):\n",
    "    for value in allowed_values:\n",
    "        try:\n",
    "            if pd.notna(df_row[value]):\n",
    "                df_row[english_col] = df_row[english_col].replace('<'+ value + '>', df_row[value])\n",
    "        except:\n",
    "            pass\n",
    "    try:\n",
    "        if pd.notna(df_row['a-tag-replacement']):\n",
    "            start_index = df_row[lang].find('<a')+2\n",
    "            end_index = df_row[lang].find('>')\n",
    "            df_row[english_col] = df_row[english_col][:start_index] + df_row[english_col] + df_row[english_col][end_index:]\n",
    "    except:\n",
    "        pass\n",
    "        \n",
    "    return df_row"
   ]
  },
  {
   "cell_type": "code",
   "execution_count": 6,
   "id": "81b2fb0b",
   "metadata": {},
   "outputs": [],
   "source": [
    "def write_df_to_json(df, output_json_path):\n",
    "    jsonFile = df.to_json(orient='values')\n",
    "    json_string = json.loads(jsonFile)\n",
    "\n",
    "    reformatted_json = reformat_json(json_string)\n",
    "\n",
    "    with open(output_json_path, 'w') as f:\n",
    "        f.write(json.dumps(reformatted_json, indent = 4, ensure_ascii=False))"
   ]
  },
  {
   "cell_type": "code",
   "execution_count": 7,
   "id": "fe27b985",
   "metadata": {},
   "outputs": [],
   "source": [
    "def get_matched_count(excel_df, merged_df):\n",
    "    count = 0\n",
    "    for key in excel_df[key_column]:\n",
    "        for k_key in merged_df[key_column]:\n",
    "            if key == k_key:\n",
    "                count+=1\n",
    "                break\n",
    "    return count"
   ]
  },
  {
   "cell_type": "code",
   "execution_count": 8,
   "id": "ea5e71e0",
   "metadata": {},
   "outputs": [],
   "source": [
    "def clean_df(df):\n",
    "    df_no_na = df.dropna(subset = [key_column, english_col], inplace=False)\n",
    "    df_no_duplicates = df_no_na.drop_duplicates(subset=df.columns, keep='last')\n",
    "    return df_no_duplicates"
   ]
  },
  {
   "cell_type": "code",
   "execution_count": 9,
   "id": "90cbfbc4",
   "metadata": {},
   "outputs": [],
   "source": [
    "def read_excel_as_df(excel_file):\n",
    "    excel = pd.ExcelFile(excel_file)\n",
    "    if len(excel.sheet_names) == 0:\n",
    "        return None\n",
    "    sheet = excel.parse(sheet_name = excel.sheet_names[0], header=0)\n",
    "    return sheet"
   ]
  },
  {
   "cell_type": "code",
   "execution_count": 10,
   "id": "3c6862bb",
   "metadata": {},
   "outputs": [],
   "source": [
    "key_column = 'Key'\n",
    "english_col = 'English copy'\n",
    "allowed_values = ['x','y','z','u','v','w']    \n",
    "\n",
    "def generate(input_excel_path,input_json_path, output_json_path):    \n",
    "    excel_df = read_excel_as_df(input_excel_path)\n",
    "    excel_df = excel_df.apply(set_variables, axis = 1)\n",
    "    existing_locale_json_data = read_json(input_json_path)\n",
    "    json_df = load_json_as_df(existing_locale_json_data)\n",
    "\n",
    "    clean_excel_df = clean_df(excel_df)\n",
    "    clean_json_df = clean_df(json_df)\n",
    "    \n",
    "    merged_df = pd.merge(clean_excel_df, clean_json_df[[key_column]], on=key_column, how='inner')\n",
    "    \n",
    "    filtered_df = merged_df[[key_column, english_col]]\n",
    "\n",
    "    final_df = filtered_df.drop_duplicates(subset=[key_column], keep='first', inplace=False)\n",
    "\n",
    "    write_df_to_json(final_df, output_json_path)"
   ]
  },
  {
   "cell_type": "code",
   "execution_count": 11,
   "id": "271c844e",
   "metadata": {},
   "outputs": [],
   "source": [
    "example = '''\n",
    "        Example commands:\n",
    "\n",
    "            python AllKeysJsonGenerator.py -j ./../../../crowdsource-ui/locales/en.json -e ./en/out/en.xlsx -o ./en/out/en.json\n",
    "    '''\n",
    "\n",
    "parser = argparse.ArgumentParser(epilog=example,\n",
    "                                 formatter_class=argparse.RawDescriptionHelpFormatter)\n",
    "parser.add_argument(\"-j\", \"--input-json-path\", required=True, help = \"Path of json file with en keys present\")\n",
    "parser.add_argument(\"-e\", \"--input-excel-path\", required=True, help = \"Path of excel file\")\n",
    "parser.add_argument(\"-o\",\"--output-json-path\", required=True, help = \"Output path\")\n",
    "\n",
    "\n",
    "args = parser.parse_args(\"-j ./../../../crowdsource-ui/locales/en.json -e ./en/out/en.xlsx -o ./en/out/en.json\".split())\n",
    "\n",
    "input_json_path = args.input_json_path\n",
    "input_excel_path = args.input_excel_path\n",
    "output_json_path = args.output_json_path\n",
    "\n",
    "if \"/\" in output_json_path:\n",
    "    os.makedirs(output_json_path[:output_json_path.rindex(\"/\")], exist_ok=True)\n",
    "\n",
    "generate(input_excel_path,input_json_path, output_json_path)"
   ]
  }
 ],
 "metadata": {
  "kernelspec": {
   "display_name": "Python 3",
   "language": "python",
   "name": "python3"
  },
  "language_info": {
   "codemirror_mode": {
    "name": "ipython",
    "version": 3
   },
   "file_extension": ".py",
   "mimetype": "text/x-python",
   "name": "python",
   "nbconvert_exporter": "python",
   "pygments_lexer": "ipython3",
   "version": "3.7.10"
  }
 },
 "nbformat": 4,
 "nbformat_minor": 5
}
