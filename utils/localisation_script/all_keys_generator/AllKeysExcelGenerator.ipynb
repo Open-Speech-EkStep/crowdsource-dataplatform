{
 "cells": [
  {
   "cell_type": "markdown",
   "id": "4c495e57",
   "metadata": {},
   "source": [
    "###### Validation:\n",
    "1. Generate all keys into excel - summary report (Read from code base - ejs files).\n",
    "2. From figma extract keys ( Add / remove keys in excel based on new designs.(for dynamic keys - communicate with UI/UX) - is export from figma possible??? (value updation, new key,value)   )\n",
    "3. Send to meity (Updation, deletion, Addition will be done).\n",
    "4. Read excel from meity and generate json and summary report.\n",
    "5. Update the current html files in case of deletion, addition.\n",
    "6. Keys in other locale files(hi,pa,ta,te) will be automatically updated.\n",
    "\n",
    "###### Translation:\n",
    "7. Translation excel files for other locales will be generated.\n",
    "8. Send to sme's(Update translation).\n",
    "9. Read excel from sme's and generate json and summary report for the respective locales.\n",
    "10. Ingest into the project.\n"
   ]
  },
  {
   "cell_type": "markdown",
   "id": "2fcd076b",
   "metadata": {},
   "source": [
    "1. Can string names from design can be exported in figma?\n",
    "2. Already present keys + new keys that might come up (excel).\n",
    "3. hash in the next phase."
   ]
  },
  {
   "cell_type": "markdown",
   "id": "614f68ab",
   "metadata": {},
   "source": [
    "*** Current Types of keys: ***\n",
    "1. Exact string as keys.\n",
    "2. Keys contain html tags like span, a ,b tags.\n",
    "3. Dynamic key generation ```(eg: ${text} variable which is replaced by string while running gulp and then matched with json) , ${path} variable```\n",
    "4. Static keys. ```(eg: Language: English)```\n",
    "5. special characters in keys. ```(eg: { recordings(s) contributed: '', Transgender - He: '', \"(No Username)\": \"(No Username)\",\n",
    "\t\"*required\": \"*required\" })```\n",
    "6. Mix of uppercased, lowercased, camelcased keys.\n",
    "7. Duplicate Keys differing just by spaces in between.\n",
    "8. Empty keys.\n",
    "9. Unused keys.\n",
    "10. Keys differing by just one word. \n",
    "(\n",
    "      Eg: {\n",
    "          \"Back to Bolo India Home\": \"Back to Bolo India Home\",\n",
    "          \"Back to Dekho India Home\": \"Back to Dekho India Home\"\n",
    "      }\n",
    ")"
   ]
  },
  {
   "cell_type": "code",
   "execution_count": 1,
   "id": "52b17cd6",
   "metadata": {},
   "outputs": [],
   "source": [
    "import pandas as pd\n",
    "import openpyxl\n",
    "import json\n",
    "import re\n",
    "import os\n",
    "import pathlib\n",
    "from ParseHtmlAndGetKeys import get_keys_with_path\n",
    "import argparse\n",
    "from datetime import datetime\n",
    "import json"
   ]
  },
  {
   "cell_type": "code",
   "execution_count": 2,
   "id": "5720d248",
   "metadata": {},
   "outputs": [],
   "source": [
    "def move_column(dataframe, column_name, index):\n",
    "    popped_column = dataframe.pop(column_name)\n",
    "    dataframe.insert(index, column_name, popped_column)"
   ]
  },
  {
   "cell_type": "code",
   "execution_count": 3,
   "id": "4212acaa",
   "metadata": {},
   "outputs": [],
   "source": [
    "def read_json(json_file_path):\n",
    "    with open(json_file_path) as f:\n",
    "        data = json.load(f)\n",
    "    return data"
   ]
  },
  {
   "cell_type": "code",
   "execution_count": 4,
   "id": "df005cb8",
   "metadata": {},
   "outputs": [],
   "source": [
    "def get_dict_for_data(key, processed_text, replacement_mapping_dict, key_path_list):\n",
    "    out_dict = {}\n",
    "    out_dict[\"Key\"] = key\n",
    "    out_dict[\"English copy\"] = [processed_text]\n",
    "    out_dict[\"PATH\"] = [key_path_list[key]]\n",
    "    for replacement in sorted (replacement_mapping_dict.keys()):\n",
    "        out_dict[replacement] = [replacement_mapping_dict[replacement]]\n",
    "    return out_dict"
   ]
  },
  {
   "cell_type": "code",
   "execution_count": 5,
   "id": "f9f5879d",
   "metadata": {},
   "outputs": [],
   "source": [
    "def extract_and_replace_tags(text, allowed_replacements):\n",
    "    tag_identification_regex = r\"<(\\S*?)[^>]*>.*?<\\/\\1>|<.*?\\/>\"\n",
    "    out_txt = text\n",
    "    matched_tags = re.finditer(tag_identification_regex, out_txt, re.MULTILINE)\n",
    "    replacement_identifier_index = 0\n",
    "    replacement_mapping_dict = {}\n",
    "    for match in matched_tags:\n",
    "        matched_tag = match.group()\n",
    "        if \"<b>\" in matched_tag:\n",
    "            continue\n",
    "        elif \"<a\" in matched_tag:\n",
    "            attributes_part_string = matched_tag[matched_tag.find('<a')+2: matched_tag.find('>')]\n",
    "            replacement_mapping_dict['a-tag-replacement'] = attributes_part_string\n",
    "            matched_tag_replacement = matched_tag.replace(attributes_part_string,\"\")\n",
    "            out_txt = out_txt.replace(matched_tag, matched_tag_replacement)\n",
    "        else:\n",
    "            replacement = allowed_replacements[replacement_identifier_index]\n",
    "            replacement_mapping_dict[replacement] = matched_tag\n",
    "            replacement_identifier_index+=1\n",
    "            out_txt = out_txt.replace(matched_tag, '<{}>'.format(replacement))\n",
    "    return out_txt , replacement_mapping_dict"
   ]
  },
  {
   "cell_type": "code",
   "execution_count": 6,
   "id": "efc29243",
   "metadata": {},
   "outputs": [],
   "source": [
    "def get_processed_data(json_data, allowed_replacements, key_path_list):\n",
    "    language_df = pd.DataFrame([], columns=[])\n",
    "    for key, value in json_data.items():\n",
    "        processed_text, replacement_mapping_dict = extract_and_replace_tags(value, allowed_replacements)\n",
    "        data_dict = get_dict_for_data(key, processed_text, replacement_mapping_dict, key_path_list)\n",
    "        try:\n",
    "            tmp_df = pd.DataFrame.from_dict(data_dict, orient='columns')\n",
    "            language_df = language_df.append(tmp_df, ignore_index=True)\n",
    "        except Exception as e:\n",
    "            print(e, \"\\n\", data_dict, \"\\n\\n\")\n",
    "    return language_df"
   ]
  },
  {
   "cell_type": "code",
   "execution_count": 7,
   "id": "f97bfa15",
   "metadata": {},
   "outputs": [],
   "source": [
    "def get_path(key, keys_with_path_map):\n",
    "    for k, path in keys_with_path_map.items():\n",
    "        if key == k: \n",
    "            return path\n",
    "    return None"
   ]
  },
  {
   "cell_type": "code",
   "execution_count": 8,
   "id": "2d80283a",
   "metadata": {},
   "outputs": [],
   "source": [
    "def generate_keys(input_json_path, output_excel_path, keys_with_path_map):\n",
    "\n",
    "    allowed_replacements = [\"u\",\"v\",\"w\",\"x\", \"y\", \"z\"]\n",
    "    en_data = read_json(input_json_path)\n",
    "    language_code = 'en'\n",
    "    key_path_list = {key: get_path(key, keys_with_path_map) for key in en_data.keys()}\n",
    "\n",
    "\n",
    "    language_df = get_processed_data(en_data, allowed_replacements, key_path_list)\n",
    "\n",
    "    language_df.to_excel(output_excel_path, index = False, startrow=1)"
   ]
  },
  {
   "cell_type": "code",
   "execution_count": 9,
   "id": "d3416e82",
   "metadata": {},
   "outputs": [],
   "source": [
    "def export_report(report_json, report_type):\n",
    "    now = datetime.now()\n",
    "    report_json['last_run_timestamp'] = str(now)\n",
    "    os.makedirs('reports',exist_ok=True)\n",
    "    with open('{}/report_{}_{}.json'.format('reports', report_type, now), 'w') as f:\n",
    "        f.write(json.dumps(report_json, indent = 4, ensure_ascii=False))"
   ]
  },
  {
   "cell_type": "code",
   "execution_count": 10,
   "id": "b0620d6a",
   "metadata": {},
   "outputs": [],
   "source": [
    "def generate_report():\n",
    "    report = {}\n",
    "    total_keys = len(read_json(input_json_path).keys())\n",
    "    report['total_keys_in_input_json'] = total_keys\n",
    "    export_report(report, 'excel')\n"
   ]
  },
  {
   "cell_type": "code",
   "execution_count": 11,
   "id": "fbf36a1f",
   "metadata": {},
   "outputs": [],
   "source": [
    "example = '''\n",
    "        Example commands:\n",
    "        \n",
    "        python AllKeysExcelGenerator.py -j ./../../../crowdsource-ui/locales/en.json -o ./en/out/en.xlsx\n",
    "    '''\n",
    "\n",
    "parser = argparse.ArgumentParser(epilog=example,\n",
    "                                 formatter_class=argparse.RawDescriptionHelpFormatter)\n",
    "parser.add_argument(\"-j\", \"--input-json-path\", required=True, help = \"Path of json file with en keys present\")\n",
    "parser.add_argument(\"-o\",\"--output-excel-path\", required=True, help = \"Output path\")\n",
    "\n",
    "args = parser.parse_args(\"-j ./../../../crowdsource-ui/locales/en.json -o ./en/out/en.xlsx\".split())\n",
    "\n",
    "input_json_path = args.input_json_path\n",
    "output_excel_path = args.output_excel_path\n",
    "\n",
    "if '/' in output_excel_path:\n",
    "    os.makedirs(output_excel_path[:output_excel_path.rindex(\"/\")], exist_ok=True)\n",
    "\n",
    "keys_with_path_map = get_keys_with_path()\n",
    "generate_keys(input_json_path, output_excel_path, keys_with_path_map)\n",
    "generate_report()"
   ]
  }
 ],
 "metadata": {
  "kernelspec": {
   "display_name": "Python 3",
   "language": "python",
   "name": "python3"
  },
  "language_info": {
   "codemirror_mode": {
    "name": "ipython",
    "version": 3
   },
   "file_extension": ".py",
   "mimetype": "text/x-python",
   "name": "python",
   "nbconvert_exporter": "python",
   "pygments_lexer": "ipython3",
   "version": "3.7.10"
  }
 },
 "nbformat": 4,
 "nbformat_minor": 5
}
