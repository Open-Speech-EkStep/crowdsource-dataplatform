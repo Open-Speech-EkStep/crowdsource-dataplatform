{
 "cells": [
  {
   "cell_type": "code",
   "execution_count": 1,
   "id": "825e3b95",
   "metadata": {},
   "outputs": [],
   "source": [
    "import pandas as pd\n",
    "import openpyxl\n",
    "import json\n",
    "import re\n",
    "import pathlib\n",
    "import os\n",
    "import pathlib\n",
    "from ParseHtmlAndGetKeys import get_keys_with_path"
   ]
  },
  {
   "cell_type": "code",
   "execution_count": 2,
   "id": "71666611",
   "metadata": {},
   "outputs": [],
   "source": [
    "def move_column(dataframe, column_name, index):\n",
    "    popped_column = dataframe.pop(column_name)\n",
    "    dataframe.insert(index, column_name, popped_column)"
   ]
  },
  {
   "cell_type": "code",
   "execution_count": 3,
   "id": "c7b684fd",
   "metadata": {},
   "outputs": [],
   "source": [
    "def read_json(json_file_path):\n",
    "    with open(json_file_path) as f:\n",
    "        data = json.load(f)\n",
    "    return data"
   ]
  },
  {
   "cell_type": "code",
   "execution_count": 4,
   "id": "c8ddd5d3",
   "metadata": {},
   "outputs": [],
   "source": [
    "def load_en_key_values(input_base_path):\n",
    "    language_code = 'en'\n",
    "    input_json_path = '{base_path}/{language}.json'.format(base_path=input_base_path, language=language_code)\n",
    "    json_data = read_json(input_json_path)\n",
    "    return json_data"
   ]
  },
  {
   "cell_type": "code",
   "execution_count": 5,
   "id": "d6b39e1e",
   "metadata": {},
   "outputs": [],
   "source": [
    "def get_dict_for_data(key, processed_text, replacement_mapping_dict, key_path_list):\n",
    "    out_dict = {}\n",
    "    out_dict[\"Key\"] = key\n",
    "    out_dict[\"English copy\"] = [processed_text]\n",
    "    out_dict[\"PATH\"] = [key_path_list[key]]\n",
    "    for replacement in sorted (replacement_mapping_dict.keys()):\n",
    "        out_dict[replacement] = [replacement_mapping_dict[replacement]]\n",
    "    return out_dict"
   ]
  },
  {
   "cell_type": "code",
   "execution_count": 6,
   "id": "56001c86",
   "metadata": {},
   "outputs": [],
   "source": [
    "def extract_and_replace_tags(text, allowed_replacements):\n",
    "    tag_identification_regex = r\"<(\\S*?)[^>]*>.*?<\\/\\1>|<.*?\\/>\"\n",
    "    out_txt = text\n",
    "    matched_tags = re.finditer(tag_identification_regex, out_txt, re.MULTILINE)\n",
    "    replacement_identifier_index = 0\n",
    "    replacement_mapping_dict = {}\n",
    "    for match in matched_tags:\n",
    "        matched_tag = match.group()\n",
    "        if \"<b>\" in matched_tag:\n",
    "            continue\n",
    "        elif \"<a\" in matched_tag:\n",
    "            attributes_part_string = matched_tag[matched_tag.find('<a')+2: matched_tag.find('>')]\n",
    "            replacement_mapping_dict['a-tag-replacement'] = attributes_part_string\n",
    "            matched_tag_replacement = matched_tag.replace(attributes_part_string,\"\")\n",
    "            out_txt = out_txt.replace(matched_tag, matched_tag_replacement)\n",
    "        else:\n",
    "            replacement = allowed_replacements[replacement_identifier_index]\n",
    "            replacement_mapping_dict[replacement] = matched_tag\n",
    "            replacement_identifier_index+=1\n",
    "            out_txt = out_txt.replace(matched_tag, '<{}>'.format(replacement))\n",
    "    return out_txt , replacement_mapping_dict"
   ]
  },
  {
   "cell_type": "code",
   "execution_count": 7,
   "id": "bb43621b",
   "metadata": {},
   "outputs": [],
   "source": [
    "def get_processed_data(json_data, allowed_replacements, key_path_list):\n",
    "    language_df = pd.DataFrame([], columns=[])\n",
    "    for key, value in json_data.items():\n",
    "        processed_text, replacement_mapping_dict = extract_and_replace_tags(value, allowed_replacements)\n",
    "        data_dict = get_dict_for_data(key, processed_text, replacement_mapping_dict, key_path_list)\n",
    "        try:\n",
    "            tmp_df = pd.DataFrame.from_dict(data_dict, orient='columns')\n",
    "            language_df = language_df.append(tmp_df, ignore_index=True)\n",
    "        except Exception as e:\n",
    "            print(e, \"\\n\", data_dict, \"\\n\\n\")\n",
    "    return language_df"
   ]
  },
  {
   "cell_type": "code",
   "execution_count": 8,
   "id": "2729d1a2",
   "metadata": {},
   "outputs": [],
   "source": [
    "def get_path(key, keys_with_path_map):\n",
    "    for k, path in keys_with_path_map.items():\n",
    "        if key == k: \n",
    "            return path\n",
    "    return None"
   ]
  },
  {
   "cell_type": "code",
   "execution_count": 11,
   "id": "096c9873",
   "metadata": {},
   "outputs": [],
   "source": [
    "def generate_keys(input_base_path, meta_out_base_path, sme_out_base_path, keys_with_path_map):\n",
    "    os.makedirs(meta_out_base_path, exist_ok=True)\n",
    "    os.makedirs(sme_out_base_path, exist_ok=True)\n",
    "\n",
    "    allowed_replacements = [\"u\",\"v\",\"w\",\"x\", \"y\", \"z\"]\n",
    "    en_data = load_en_key_values(input_base_path)\n",
    "    language_code = 'en'\n",
    "    key_path_list = {key: get_path(key, keys_with_path_map) for key in en_data.keys()}\n",
    "\n",
    "\n",
    "    language_df = get_processed_data(en_data, allowed_replacements, key_path_list)\n",
    "\n",
    "    output_excel_path = '{base_path}/{language}.xlsx'.format(base_path=meta_out_base_path, language=language_code)\n",
    "    language_df.to_excel(output_excel_path, index = False)\n",
    "    output_sme_excel_path = '{base_path}/{language}.xlsx'.format(base_path=sme_out_base_path, language=language_code)\n",
    "    to_smes = language_df[[\"Key\", \"English copy\", \"PATH\"]]\n",
    "    to_smes = to_smes.drop_duplicates(subset=[\"Key\", \"English copy\"], keep=\"first\")\n",
    "    to_smes.to_excel(output_sme_excel_path, index = False)"
   ]
  },
  {
   "cell_type": "code",
   "execution_count": 12,
   "id": "6c3554ae",
   "metadata": {},
   "outputs": [
    {
     "name": "stdout",
     "output_type": "stream",
     "text": [
      "/Users/nireshkumarr/Documents/ekstep/crowdsource-dataplatform/crowdsource-ui/src/views\n",
      "302 330 28\n"
     ]
    }
   ],
   "source": [
    "input_base_path =  './../../crowdsource-ui/locales'\n",
    "meta_out_base_path = './en/out-meta/'\n",
    "sme_out_base_path = './en/out-sme/'\n",
    "keys_with_path_map = get_keys_with_path()\n",
    "generate_keys(input_base_path, meta_out_base_path, sme_out_base_path, keys_with_path_map)"
   ]
  }
 ],
 "metadata": {
  "kernelspec": {
   "display_name": "Python 3",
   "language": "python",
   "name": "python3"
  },
  "language_info": {
   "codemirror_mode": {
    "name": "ipython",
    "version": 3
   },
   "file_extension": ".py",
   "mimetype": "text/x-python",
   "name": "python",
   "nbconvert_exporter": "python",
   "pygments_lexer": "ipython3",
   "version": "3.7.10"
  }
 },
 "nbformat": 4,
 "nbformat_minor": 5
}
